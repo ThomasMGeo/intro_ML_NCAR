{
 "cells": [
  {
   "cell_type": "markdown",
   "id": "8667a400-4633-43b0-b92b-b621ec19e4b3",
   "metadata": {
    "id": "8667a400-4633-43b0-b92b-b621ec19e4b3",
    "tags": []
   },
   "source": [
    "# NCAR EdEc Bootcamp, Lesson 4"
   ]
  },
  {
   "cell_type": "markdown",
   "id": "954be560-a0cb-451f-b3af-41b5f8701b25",
   "metadata": {},
   "source": [
    "Supervised learning using decision trees"
   ]
  },
  {
   "cell_type": "markdown",
   "id": "f8707d48-043e-469c-9efe-602fbcf004fa",
   "metadata": {
    "id": "f8707d48-043e-469c-9efe-602fbcf004fa"
   },
   "source": [
    "## Python Imports"
   ]
  },
  {
   "cell_type": "code",
   "execution_count": 4,
   "id": "a7b7c6d4-d305-4b95-99a5-7e8ff2b09fb8",
   "metadata": {
    "id": "a7b7c6d4-d305-4b95-99a5-7e8ff2b09fb8",
    "tags": []
   },
   "outputs": [],
   "source": [
    "import pandas as pd\n",
    "import numpy as np\n",
    "\n",
    "# Dataset\n",
    "from palmerpenguins import load_penguins\n",
    "\n",
    "# Plotting\n",
    "import matplotlib.pyplot as plt\n",
    "\n",
    "# Machine Learning\n",
    "import sklearn\n",
    "import xgboost as xgb\n",
    "import catboost as cat"
   ]
  },
  {
   "cell_type": "code",
   "execution_count": 5,
   "id": "54ab835c-5678-4b98-aaa6-be1cd8397ce2",
   "metadata": {
    "colab": {
     "base_uri": "https://localhost:8080/"
    },
    "id": "54ab835c-5678-4b98-aaa6-be1cd8397ce2",
    "outputId": "2652ae05-a4f6-4369-d20a-cb69ce03faf0",
    "tags": []
   },
   "outputs": [
    {
     "name": "stdout",
     "output_type": "stream",
     "text": [
      "scikit-learn version: 1.3.0\n",
      "XGBoost version: 2.0.0\n",
      "Catboost version: 1.2.1.1.16484\n"
     ]
    }
   ],
   "source": [
    "print('scikit-learn version:', sklearn.__version__)\n",
    "print('XGBoost version:', xgb.__version__)\n",
    "print('Catboost version:', cat.__version__)"
   ]
  },
  {
   "cell_type": "markdown",
   "id": "d20b458a-926e-492b-85bf-97a0f5228e78",
   "metadata": {
    "id": "d20b458a-926e-492b-85bf-97a0f5228e78",
    "tags": []
   },
   "source": [
    "## Dataset Loading"
   ]
  },
  {
   "cell_type": "markdown",
   "id": "6728a121",
   "metadata": {},
   "source": [
    "We will be using this open source dataset to go through some ML workflow tasks:\n",
    "\n",
    "https://essd.copernicus.org/articles/13/3013/2021/"
   ]
  },
  {
   "cell_type": "code",
   "execution_count": 6,
   "id": "3a96f4d2-bf16-4881-a2cf-55d491d78095",
   "metadata": {
    "colab": {
     "base_uri": "https://localhost:8080/",
     "height": 206
    },
    "id": "3a96f4d2-bf16-4881-a2cf-55d491d78095",
    "outputId": "2558a314-c83e-43e8-965b-7f606a966868",
    "tags": []
   },
   "outputs": [],
   "source": [
    "df = pd.read_csv('http://hdl.handle.net/11304/89dd440e-4e10-496e-b476-1ccf0ebeb4f3')"
   ]
  },
  {
   "cell_type": "code",
   "execution_count": 7,
   "id": "721db1c2-a3b7-4f62-904b-a14272282b01",
   "metadata": {
    "colab": {
     "base_uri": "https://localhost:8080/",
     "height": 424
    },
    "id": "721db1c2-a3b7-4f62-904b-a14272282b01",
    "outputId": "c60c1009-9a51-42b8-fda1-0395fda2774f",
    "tags": []
   },
   "outputs": [
    {
     "data": {
      "text/html": [
       "<div>\n",
       "<style scoped>\n",
       "    .dataframe tbody tr th:only-of-type {\n",
       "        vertical-align: middle;\n",
       "    }\n",
       "\n",
       "    .dataframe tbody tr th {\n",
       "        vertical-align: top;\n",
       "    }\n",
       "\n",
       "    .dataframe thead th {\n",
       "        text-align: right;\n",
       "    }\n",
       "</style>\n",
       "<table border=\"1\" class=\"dataframe\">\n",
       "  <thead>\n",
       "    <tr style=\"text-align: right;\">\n",
       "      <th></th>\n",
       "      <th>id</th>\n",
       "      <th>country</th>\n",
       "      <th>htap_region</th>\n",
       "      <th>climatic_zone</th>\n",
       "      <th>lon</th>\n",
       "      <th>lat</th>\n",
       "      <th>alt</th>\n",
       "      <th>relative_alt</th>\n",
       "      <th>type</th>\n",
       "      <th>type_of_area</th>\n",
       "      <th>...</th>\n",
       "      <th>o3_perc90</th>\n",
       "      <th>o3_perc98</th>\n",
       "      <th>o3_dma8eu</th>\n",
       "      <th>o3_avgdma8epax</th>\n",
       "      <th>o3_drmdmax1h</th>\n",
       "      <th>o3_w90</th>\n",
       "      <th>o3_aot40</th>\n",
       "      <th>o3_nvgt070</th>\n",
       "      <th>o3_nvgt100</th>\n",
       "      <th>dataset</th>\n",
       "    </tr>\n",
       "  </thead>\n",
       "  <tbody>\n",
       "    <tr>\n",
       "      <th>0</th>\n",
       "      <td>3336</td>\n",
       "      <td>Germany</td>\n",
       "      <td>EUR</td>\n",
       "      <td>cool_moist</td>\n",
       "      <td>8.308210</td>\n",
       "      <td>54.924970</td>\n",
       "      <td>12.0</td>\n",
       "      <td>3</td>\n",
       "      <td>background</td>\n",
       "      <td>rural</td>\n",
       "      <td>...</td>\n",
       "      <td>46.4399</td>\n",
       "      <td>54.8468</td>\n",
       "      <td>53.5738</td>\n",
       "      <td>38.8078</td>\n",
       "      <td>50.7704</td>\n",
       "      <td>86.1266</td>\n",
       "      <td>10197.4742</td>\n",
       "      <td>2.0</td>\n",
       "      <td>0.0</td>\n",
       "      <td>test</td>\n",
       "    </tr>\n",
       "    <tr>\n",
       "      <th>1</th>\n",
       "      <td>3338</td>\n",
       "      <td>Germany</td>\n",
       "      <td>EUR</td>\n",
       "      <td>cool_moist</td>\n",
       "      <td>12.725280</td>\n",
       "      <td>54.436670</td>\n",
       "      <td>1.0</td>\n",
       "      <td>1</td>\n",
       "      <td>background</td>\n",
       "      <td>rural</td>\n",
       "      <td>...</td>\n",
       "      <td>44.0575</td>\n",
       "      <td>53.7778</td>\n",
       "      <td>51.3996</td>\n",
       "      <td>35.8313</td>\n",
       "      <td>48.3935</td>\n",
       "      <td>69.0987</td>\n",
       "      <td>7573.2222</td>\n",
       "      <td>1.0</td>\n",
       "      <td>0.0</td>\n",
       "      <td>train</td>\n",
       "    </tr>\n",
       "    <tr>\n",
       "      <th>2</th>\n",
       "      <td>3339</td>\n",
       "      <td>Germany</td>\n",
       "      <td>EUR</td>\n",
       "      <td>cool_moist</td>\n",
       "      <td>6.093923</td>\n",
       "      <td>50.754704</td>\n",
       "      <td>205.0</td>\n",
       "      <td>66</td>\n",
       "      <td>background</td>\n",
       "      <td>urban</td>\n",
       "      <td>...</td>\n",
       "      <td>41.1803</td>\n",
       "      <td>58.4009</td>\n",
       "      <td>54.9030</td>\n",
       "      <td>32.6169</td>\n",
       "      <td>49.8276</td>\n",
       "      <td>154.1263</td>\n",
       "      <td>8655.4730</td>\n",
       "      <td>5.4</td>\n",
       "      <td>1.0</td>\n",
       "      <td>train</td>\n",
       "    </tr>\n",
       "    <tr>\n",
       "      <th>3</th>\n",
       "      <td>3340</td>\n",
       "      <td>Germany</td>\n",
       "      <td>EUR</td>\n",
       "      <td>cool_moist</td>\n",
       "      <td>8.548389</td>\n",
       "      <td>52.023169</td>\n",
       "      <td>102.0</td>\n",
       "      <td>29</td>\n",
       "      <td>background</td>\n",
       "      <td>urban</td>\n",
       "      <td>...</td>\n",
       "      <td>38.1730</td>\n",
       "      <td>53.5109</td>\n",
       "      <td>50.1112</td>\n",
       "      <td>28.6179</td>\n",
       "      <td>46.2694</td>\n",
       "      <td>120.2575</td>\n",
       "      <td>6036.5851</td>\n",
       "      <td>2.6</td>\n",
       "      <td>0.0</td>\n",
       "      <td>test</td>\n",
       "    </tr>\n",
       "    <tr>\n",
       "      <th>4</th>\n",
       "      <td>3341</td>\n",
       "      <td>Germany</td>\n",
       "      <td>EUR</td>\n",
       "      <td>cool_moist</td>\n",
       "      <td>6.874554</td>\n",
       "      <td>51.862000</td>\n",
       "      <td>45.0</td>\n",
       "      <td>8</td>\n",
       "      <td>background</td>\n",
       "      <td>rural</td>\n",
       "      <td>...</td>\n",
       "      <td>40.6623</td>\n",
       "      <td>58.4082</td>\n",
       "      <td>53.9564</td>\n",
       "      <td>31.0051</td>\n",
       "      <td>50.6809</td>\n",
       "      <td>203.4584</td>\n",
       "      <td>9045.4745</td>\n",
       "      <td>6.8</td>\n",
       "      <td>1.2</td>\n",
       "      <td>train</td>\n",
       "    </tr>\n",
       "    <tr>\n",
       "      <th>...</th>\n",
       "      <td>...</td>\n",
       "      <td>...</td>\n",
       "      <td>...</td>\n",
       "      <td>...</td>\n",
       "      <td>...</td>\n",
       "      <td>...</td>\n",
       "      <td>...</td>\n",
       "      <td>...</td>\n",
       "      <td>...</td>\n",
       "      <td>...</td>\n",
       "      <td>...</td>\n",
       "      <td>...</td>\n",
       "      <td>...</td>\n",
       "      <td>...</td>\n",
       "      <td>...</td>\n",
       "      <td>...</td>\n",
       "      <td>...</td>\n",
       "      <td>...</td>\n",
       "      <td>...</td>\n",
       "      <td>...</td>\n",
       "      <td>...</td>\n",
       "    </tr>\n",
       "    <tr>\n",
       "      <th>5572</th>\n",
       "      <td>17685</td>\n",
       "      <td>Germany</td>\n",
       "      <td>EUR</td>\n",
       "      <td>cool_moist</td>\n",
       "      <td>11.027920</td>\n",
       "      <td>49.322730</td>\n",
       "      <td>344.0</td>\n",
       "      <td>37</td>\n",
       "      <td>background</td>\n",
       "      <td>urban</td>\n",
       "      <td>...</td>\n",
       "      <td>42.4290</td>\n",
       "      <td>59.3735</td>\n",
       "      <td>56.0336</td>\n",
       "      <td>31.0232</td>\n",
       "      <td>51.5903</td>\n",
       "      <td>123.8122</td>\n",
       "      <td>10775.6201</td>\n",
       "      <td>3.5</td>\n",
       "      <td>0.0</td>\n",
       "      <td>train</td>\n",
       "    </tr>\n",
       "    <tr>\n",
       "      <th>5573</th>\n",
       "      <td>17718</td>\n",
       "      <td>Germany</td>\n",
       "      <td>EUR</td>\n",
       "      <td>cool_dry</td>\n",
       "      <td>11.850274</td>\n",
       "      <td>52.602056</td>\n",
       "      <td>35.0</td>\n",
       "      <td>5</td>\n",
       "      <td>background</td>\n",
       "      <td>urban</td>\n",
       "      <td>...</td>\n",
       "      <td>44.7611</td>\n",
       "      <td>58.4130</td>\n",
       "      <td>55.1136</td>\n",
       "      <td>34.8838</td>\n",
       "      <td>49.9512</td>\n",
       "      <td>146.6134</td>\n",
       "      <td>11145.3874</td>\n",
       "      <td>5.0</td>\n",
       "      <td>0.0</td>\n",
       "      <td>train</td>\n",
       "    </tr>\n",
       "    <tr>\n",
       "      <th>5574</th>\n",
       "      <td>17719</td>\n",
       "      <td>Germany</td>\n",
       "      <td>EUR</td>\n",
       "      <td>cool_dry</td>\n",
       "      <td>11.091078</td>\n",
       "      <td>51.456071</td>\n",
       "      <td>143.0</td>\n",
       "      <td>13</td>\n",
       "      <td>background</td>\n",
       "      <td>rural</td>\n",
       "      <td>...</td>\n",
       "      <td>43.4429</td>\n",
       "      <td>56.3841</td>\n",
       "      <td>54.4162</td>\n",
       "      <td>34.0865</td>\n",
       "      <td>49.3407</td>\n",
       "      <td>116.7581</td>\n",
       "      <td>9746.6681</td>\n",
       "      <td>2.5</td>\n",
       "      <td>0.0</td>\n",
       "      <td>val</td>\n",
       "    </tr>\n",
       "    <tr>\n",
       "      <th>5575</th>\n",
       "      <td>17720</td>\n",
       "      <td>Germany</td>\n",
       "      <td>EUR</td>\n",
       "      <td>cool_moist</td>\n",
       "      <td>13.420573</td>\n",
       "      <td>48.947611</td>\n",
       "      <td>858.0</td>\n",
       "      <td>76</td>\n",
       "      <td>background</td>\n",
       "      <td>rural</td>\n",
       "      <td>...</td>\n",
       "      <td>52.7680</td>\n",
       "      <td>63.9991</td>\n",
       "      <td>60.3341</td>\n",
       "      <td>41.3771</td>\n",
       "      <td>54.8419</td>\n",
       "      <td>108.2840</td>\n",
       "      <td>18120.8647</td>\n",
       "      <td>4.5</td>\n",
       "      <td>0.0</td>\n",
       "      <td>train</td>\n",
       "    </tr>\n",
       "    <tr>\n",
       "      <th>5576</th>\n",
       "      <td>17722</td>\n",
       "      <td>Germany</td>\n",
       "      <td>EUR</td>\n",
       "      <td>cool_moist</td>\n",
       "      <td>13.342138</td>\n",
       "      <td>54.323514</td>\n",
       "      <td>17.0</td>\n",
       "      <td>9</td>\n",
       "      <td>background</td>\n",
       "      <td>rural</td>\n",
       "      <td>...</td>\n",
       "      <td>43.9538</td>\n",
       "      <td>53.4773</td>\n",
       "      <td>51.5425</td>\n",
       "      <td>34.4519</td>\n",
       "      <td>47.6576</td>\n",
       "      <td>57.5567</td>\n",
       "      <td>7777.3699</td>\n",
       "      <td>1.0</td>\n",
       "      <td>0.0</td>\n",
       "      <td>val</td>\n",
       "    </tr>\n",
       "  </tbody>\n",
       "</table>\n",
       "<p>5577 rows × 53 columns</p>\n",
       "</div>"
      ],
      "text/plain": [
       "         id  country htap_region climatic_zone        lon        lat    alt  \\\n",
       "0      3336  Germany         EUR    cool_moist   8.308210  54.924970   12.0   \n",
       "1      3338  Germany         EUR    cool_moist  12.725280  54.436670    1.0   \n",
       "2      3339  Germany         EUR    cool_moist   6.093923  50.754704  205.0   \n",
       "3      3340  Germany         EUR    cool_moist   8.548389  52.023169  102.0   \n",
       "4      3341  Germany         EUR    cool_moist   6.874554  51.862000   45.0   \n",
       "...     ...      ...         ...           ...        ...        ...    ...   \n",
       "5572  17685  Germany         EUR    cool_moist  11.027920  49.322730  344.0   \n",
       "5573  17718  Germany         EUR      cool_dry  11.850274  52.602056   35.0   \n",
       "5574  17719  Germany         EUR      cool_dry  11.091078  51.456071  143.0   \n",
       "5575  17720  Germany         EUR    cool_moist  13.420573  48.947611  858.0   \n",
       "5576  17722  Germany         EUR    cool_moist  13.342138  54.323514   17.0   \n",
       "\n",
       "      relative_alt        type type_of_area  ...  o3_perc90  o3_perc98  \\\n",
       "0                3  background        rural  ...    46.4399    54.8468   \n",
       "1                1  background        rural  ...    44.0575    53.7778   \n",
       "2               66  background        urban  ...    41.1803    58.4009   \n",
       "3               29  background        urban  ...    38.1730    53.5109   \n",
       "4                8  background        rural  ...    40.6623    58.4082   \n",
       "...            ...         ...          ...  ...        ...        ...   \n",
       "5572            37  background        urban  ...    42.4290    59.3735   \n",
       "5573             5  background        urban  ...    44.7611    58.4130   \n",
       "5574            13  background        rural  ...    43.4429    56.3841   \n",
       "5575            76  background        rural  ...    52.7680    63.9991   \n",
       "5576             9  background        rural  ...    43.9538    53.4773   \n",
       "\n",
       "      o3_dma8eu  o3_avgdma8epax  o3_drmdmax1h    o3_w90    o3_aot40  \\\n",
       "0       53.5738         38.8078       50.7704   86.1266  10197.4742   \n",
       "1       51.3996         35.8313       48.3935   69.0987   7573.2222   \n",
       "2       54.9030         32.6169       49.8276  154.1263   8655.4730   \n",
       "3       50.1112         28.6179       46.2694  120.2575   6036.5851   \n",
       "4       53.9564         31.0051       50.6809  203.4584   9045.4745   \n",
       "...         ...             ...           ...       ...         ...   \n",
       "5572    56.0336         31.0232       51.5903  123.8122  10775.6201   \n",
       "5573    55.1136         34.8838       49.9512  146.6134  11145.3874   \n",
       "5574    54.4162         34.0865       49.3407  116.7581   9746.6681   \n",
       "5575    60.3341         41.3771       54.8419  108.2840  18120.8647   \n",
       "5576    51.5425         34.4519       47.6576   57.5567   7777.3699   \n",
       "\n",
       "      o3_nvgt070  o3_nvgt100  dataset  \n",
       "0            2.0         0.0     test  \n",
       "1            1.0         0.0    train  \n",
       "2            5.4         1.0    train  \n",
       "3            2.6         0.0     test  \n",
       "4            6.8         1.2    train  \n",
       "...          ...         ...      ...  \n",
       "5572         3.5         0.0    train  \n",
       "5573         5.0         0.0    train  \n",
       "5574         2.5         0.0      val  \n",
       "5575         4.5         0.0    train  \n",
       "5576         1.0         0.0      val  \n",
       "\n",
       "[5577 rows x 53 columns]"
      ]
     },
     "execution_count": 7,
     "metadata": {},
     "output_type": "execute_result"
    }
   ],
   "source": [
    "df"
   ]
  },
  {
   "cell_type": "markdown",
   "id": "ca808942-40e7-4fe3-a612-d428c7673429",
   "metadata": {},
   "source": [
    "## Let's scale the dataset:"
   ]
  },
  {
   "cell_type": "code",
   "execution_count": 5,
   "id": "KHhSZekiqhhZ",
   "metadata": {
    "id": "KHhSZekiqhhZ",
    "tags": []
   },
   "outputs": [],
   "source": [
    "from sklearn.preprocessing import StandardScaler\n",
    "scaler = StandardScaler()"
   ]
  },
  {
   "cell_type": "code",
   "execution_count": 6,
   "id": "B5xYNWUfrO6V",
   "metadata": {
    "colab": {
     "base_uri": "https://localhost:8080/"
    },
    "id": "B5xYNWUfrO6V",
    "outputId": "ce91800b-3086-4ff9-af88-70b44cdb7200",
    "tags": []
   },
   "outputs": [
    {
     "data": {
      "text/plain": [
       "['bill_length_mm', 'bill_depth_mm', 'flipper_length_mm', 'body_mass_g']"
      ]
     },
     "execution_count": 6,
     "metadata": {},
     "output_type": "execute_result"
    }
   ],
   "source": [
    "float_columns = df.select_dtypes(include=['float64', 'float32'])\n",
    "float_column_names = float_columns.columns.tolist()\n",
    "float_column_names"
   ]
  },
  {
   "cell_type": "code",
   "execution_count": 7,
   "id": "65Nas9Q8q5kk",
   "metadata": {
    "colab": {
     "base_uri": "https://localhost:8080/"
    },
    "id": "65Nas9Q8q5kk",
    "outputId": "238490f0-5c38-450a-f1be-d2d0eaa0114b",
    "tags": []
   },
   "outputs": [
    {
     "data": {
      "text/plain": [
       "(333, 4)"
      ]
     },
     "execution_count": 7,
     "metadata": {},
     "output_type": "execute_result"
    }
   ],
   "source": [
    "from sklearn.preprocessing import StandardScaler\n",
    "scaler = StandardScaler()\n",
    "\n",
    "std_scaled = scaler.fit_transform(float_columns, y=None)\n",
    "np.shape(std_scaled)"
   ]
  },
  {
   "cell_type": "markdown",
   "id": "d0158f4d-59d0-426f-81f2-556449ebc163",
   "metadata": {},
   "source": [
    "Everything above this is the ~same as notebook 2"
   ]
  },
  {
   "cell_type": "markdown",
   "id": "fG01t-2guBt5",
   "metadata": {
    "id": "fG01t-2guBt5"
   },
   "source": [
    "# Supervised ML"
   ]
  },
  {
   "cell_type": "markdown",
   "id": "dc69499e-351e-485f-8a21-c85514270fdb",
   "metadata": {},
   "source": [
    "Supervised machine learning involves training algorithms on labeled datasets, where each data point is paired with its corresponding target outcome. The goal is to enable the algorithm to learn a mapping from inputs to outputs, allowing it to make accurate predictions on new, unseen data. The process includes two phases: a training phase where the model learns patterns from labeled examples, and an inference phase where it applies its learning to predict outcomes for new data. Common algorithms in supervised learning include decision trees, linear regression, and support vector machines."
   ]
  },
  {
   "cell_type": "markdown",
   "id": "4c796902-9d6f-4dc2-8d59-769523e05098",
   "metadata": {},
   "source": [
    "#### 5 Supervised Algo's "
   ]
  },
  {
   "cell_type": "markdown",
   "id": "1a35bc06-8df2-4bb0-9620-e3c294485ec5",
   "metadata": {},
   "source": [
    "- Linear Regression: Predicts numerical values based on linear relationships between features and targets.\n",
    "\n",
    "- Logistic Regression: Estimates the probability of class membership for binary classification tasks.\n",
    "\n",
    "- Decision Trees: Versatile models for classification and regression, making decisions through sequential conditions.\n",
    "\n",
    "- Random Forest: Ensemble of decision trees that provides robust predictions by combining multiple models.\n",
    "\n",
    "- K-Nearest Neighbors (KNN): Makes predictions based on the majority class of the k-nearest data points in feature space."
   ]
  },
  {
   "cell_type": "markdown",
   "id": "dad74d3f-f3b4-4aca-8273-997171cacccb",
   "metadata": {
    "tags": []
   },
   "source": [
    "We will cover two of these below, but scikit-learn can do all of these, with a nice overview [here](https://scikit-learn.org/stable/supervised_learning.html)."
   ]
  },
  {
   "cell_type": "markdown",
   "id": "CaLmD3hZuNds",
   "metadata": {
    "id": "CaLmD3hZuNds"
   },
   "source": [
    "## Splitting Data"
   ]
  },
  {
   "cell_type": "markdown",
   "id": "b9d5731d-b0fe-4ebc-b77e-7558ae9df6ad",
   "metadata": {},
   "source": [
    "Note: For this exercise, we will just have a testing and a training dataset, not a validation dataset. For the final runthrough on day 2, we will have a validation dataset. All input features will be floats. "
   ]
  },
  {
   "cell_type": "code",
   "execution_count": 8,
   "id": "Z7_L2RErrGu4",
   "metadata": {
    "id": "Z7_L2RErrGu4",
    "tags": []
   },
   "outputs": [],
   "source": [
    "from sklearn.model_selection import train_test_split"
   ]
  },
  {
   "cell_type": "markdown",
   "id": "507dadcb-8320-4336-b290-99b9b5f9d668",
   "metadata": {
    "tags": []
   },
   "source": [
    "#### Regression split"
   ]
  },
  {
   "cell_type": "markdown",
   "id": "53f677ab-72e9-4cb4-b4d1-2b8885e591be",
   "metadata": {},
   "source": [
    "Let's predict body mass from bill size and flipper size"
   ]
  },
  {
   "cell_type": "code",
   "execution_count": 9,
   "id": "3edac25d-22a9-4b01-9916-85a7ebf6e42d",
   "metadata": {
    "tags": []
   },
   "outputs": [],
   "source": [
    "X_train_reg, X_test_reg, y_train_reg, y_test_reg = train_test_split(std_scaled[:,0:3], std_scaled[:,3], test_size=0.33, random_state=42)"
   ]
  },
  {
   "cell_type": "markdown",
   "id": "d7f6f3fe-fabb-4572-a614-0f2ffddb80b0",
   "metadata": {},
   "source": [
    "#### Classification split"
   ]
  },
  {
   "cell_type": "markdown",
   "id": "b4e86081-3b8b-443c-b4e6-e786ecfae24d",
   "metadata": {
    "tags": []
   },
   "source": [
    "We will predict specie from all measurements"
   ]
  },
  {
   "cell_type": "code",
   "execution_count": 10,
   "id": "WzqZFAJpzjPE",
   "metadata": {
    "colab": {
     "base_uri": "https://localhost:8080/"
    },
    "id": "WzqZFAJpzjPE",
    "outputId": "d0ed678d-b925-4ee6-d13b-5b15fdeac155",
    "tags": []
   },
   "outputs": [],
   "source": [
    "X_train_clf, X_test_clf, y_train_clf, y_test_clf = train_test_split(std_scaled, df.species, test_size=0.33, random_state=42)"
   ]
  },
  {
   "cell_type": "markdown",
   "id": "123eb372-225a-419b-a8a6-cef76d86361a",
   "metadata": {},
   "source": [
    "# Linear Models"
   ]
  },
  {
   "cell_type": "markdown",
   "id": "4c7e74b3-cff9-4009-9f1c-1c218aca57a6",
   "metadata": {},
   "source": [
    "## Linear Regression"
   ]
  },
  {
   "cell_type": "markdown",
   "id": "2e09c50c-643a-432d-8ad8-e77c52297fa6",
   "metadata": {},
   "source": [
    "By fitting a linear relationship between input features and target values, it enables you to make accurate predictions and understand the strength of correlations within your data, making it a fundamental tool in regression analysis."
   ]
  },
  {
   "cell_type": "code",
   "execution_count": 11,
   "id": "8f081727-8e31-4967-a5c0-e817ade6d73e",
   "metadata": {
    "tags": []
   },
   "outputs": [],
   "source": [
    "from sklearn.linear_model import LinearRegression\n",
    "from sklearn.metrics import mean_squared_error, r2_score"
   ]
  },
  {
   "cell_type": "code",
   "execution_count": 12,
   "id": "8fcb7148-6777-4557-8c42-72d3aedc4e26",
   "metadata": {
    "tags": []
   },
   "outputs": [
    {
     "data": {
      "text/html": [
       "<style>#sk-container-id-1 {color: black;}#sk-container-id-1 pre{padding: 0;}#sk-container-id-1 div.sk-toggleable {background-color: white;}#sk-container-id-1 label.sk-toggleable__label {cursor: pointer;display: block;width: 100%;margin-bottom: 0;padding: 0.3em;box-sizing: border-box;text-align: center;}#sk-container-id-1 label.sk-toggleable__label-arrow:before {content: \"▸\";float: left;margin-right: 0.25em;color: #696969;}#sk-container-id-1 label.sk-toggleable__label-arrow:hover:before {color: black;}#sk-container-id-1 div.sk-estimator:hover label.sk-toggleable__label-arrow:before {color: black;}#sk-container-id-1 div.sk-toggleable__content {max-height: 0;max-width: 0;overflow: hidden;text-align: left;background-color: #f0f8ff;}#sk-container-id-1 div.sk-toggleable__content pre {margin: 0.2em;color: black;border-radius: 0.25em;background-color: #f0f8ff;}#sk-container-id-1 input.sk-toggleable__control:checked~div.sk-toggleable__content {max-height: 200px;max-width: 100%;overflow: auto;}#sk-container-id-1 input.sk-toggleable__control:checked~label.sk-toggleable__label-arrow:before {content: \"▾\";}#sk-container-id-1 div.sk-estimator input.sk-toggleable__control:checked~label.sk-toggleable__label {background-color: #d4ebff;}#sk-container-id-1 div.sk-label input.sk-toggleable__control:checked~label.sk-toggleable__label {background-color: #d4ebff;}#sk-container-id-1 input.sk-hidden--visually {border: 0;clip: rect(1px 1px 1px 1px);clip: rect(1px, 1px, 1px, 1px);height: 1px;margin: -1px;overflow: hidden;padding: 0;position: absolute;width: 1px;}#sk-container-id-1 div.sk-estimator {font-family: monospace;background-color: #f0f8ff;border: 1px dotted black;border-radius: 0.25em;box-sizing: border-box;margin-bottom: 0.5em;}#sk-container-id-1 div.sk-estimator:hover {background-color: #d4ebff;}#sk-container-id-1 div.sk-parallel-item::after {content: \"\";width: 100%;border-bottom: 1px solid gray;flex-grow: 1;}#sk-container-id-1 div.sk-label:hover label.sk-toggleable__label {background-color: #d4ebff;}#sk-container-id-1 div.sk-serial::before {content: \"\";position: absolute;border-left: 1px solid gray;box-sizing: border-box;top: 0;bottom: 0;left: 50%;z-index: 0;}#sk-container-id-1 div.sk-serial {display: flex;flex-direction: column;align-items: center;background-color: white;padding-right: 0.2em;padding-left: 0.2em;position: relative;}#sk-container-id-1 div.sk-item {position: relative;z-index: 1;}#sk-container-id-1 div.sk-parallel {display: flex;align-items: stretch;justify-content: center;background-color: white;position: relative;}#sk-container-id-1 div.sk-item::before, #sk-container-id-1 div.sk-parallel-item::before {content: \"\";position: absolute;border-left: 1px solid gray;box-sizing: border-box;top: 0;bottom: 0;left: 50%;z-index: -1;}#sk-container-id-1 div.sk-parallel-item {display: flex;flex-direction: column;z-index: 1;position: relative;background-color: white;}#sk-container-id-1 div.sk-parallel-item:first-child::after {align-self: flex-end;width: 50%;}#sk-container-id-1 div.sk-parallel-item:last-child::after {align-self: flex-start;width: 50%;}#sk-container-id-1 div.sk-parallel-item:only-child::after {width: 0;}#sk-container-id-1 div.sk-dashed-wrapped {border: 1px dashed gray;margin: 0 0.4em 0.5em 0.4em;box-sizing: border-box;padding-bottom: 0.4em;background-color: white;}#sk-container-id-1 div.sk-label label {font-family: monospace;font-weight: bold;display: inline-block;line-height: 1.2em;}#sk-container-id-1 div.sk-label-container {text-align: center;}#sk-container-id-1 div.sk-container {/* jupyter's `normalize.less` sets `[hidden] { display: none; }` but bootstrap.min.css set `[hidden] { display: none !important; }` so we also need the `!important` here to be able to override the default hidden behavior on the sphinx rendered scikit-learn.org. See: https://github.com/scikit-learn/scikit-learn/issues/21755 */display: inline-block !important;position: relative;}#sk-container-id-1 div.sk-text-repr-fallback {display: none;}</style><div id=\"sk-container-id-1\" class=\"sk-top-container\"><div class=\"sk-text-repr-fallback\"><pre>LinearRegression()</pre><b>In a Jupyter environment, please rerun this cell to show the HTML representation or trust the notebook. <br />On GitHub, the HTML representation is unable to render, please try loading this page with nbviewer.org.</b></div><div class=\"sk-container\" hidden><div class=\"sk-item\"><div class=\"sk-estimator sk-toggleable\"><input class=\"sk-toggleable__control sk-hidden--visually\" id=\"sk-estimator-id-1\" type=\"checkbox\" checked><label for=\"sk-estimator-id-1\" class=\"sk-toggleable__label sk-toggleable__label-arrow\">LinearRegression</label><div class=\"sk-toggleable__content\"><pre>LinearRegression()</pre></div></div></div></div></div>"
      ],
      "text/plain": [
       "LinearRegression()"
      ]
     },
     "execution_count": 12,
     "metadata": {},
     "output_type": "execute_result"
    }
   ],
   "source": [
    "# Create a Linear Regression model\n",
    "model = LinearRegression()\n",
    "\n",
    "# Fit the model on the training data\n",
    "model.fit(X_train_reg, y_train_reg)"
   ]
  },
  {
   "cell_type": "code",
   "execution_count": 13,
   "id": "84e146e5-c5c1-4096-8c70-117370dbab12",
   "metadata": {
    "tags": []
   },
   "outputs": [
    {
     "name": "stdout",
     "output_type": "stream",
     "text": [
      "Mean Squared Error: 0.21\n",
      "R-squared: 0.76\n"
     ]
    }
   ],
   "source": [
    "# Make predictions on the test data\n",
    "y_pred_reg = model.predict(X_test_reg)\n",
    "\n",
    "# Calculate the Mean Squared Error (MSE) to evaluate the model's performance\n",
    "mse = mean_squared_error(y_test_reg, y_pred_reg)\n",
    "r2 = r2_score(y_test_reg, y_pred_reg)\n",
    "print(f\"Mean Squared Error: {mse:.2f}\")\n",
    "print(f\"R-squared: {r2:.2f}\")"
   ]
  },
  {
   "cell_type": "code",
   "execution_count": 14,
   "id": "08c9238d-6c85-4617-9d6e-4ca703c7d1ac",
   "metadata": {
    "tags": []
   },
   "outputs": [
    {
     "data": {
      "image/png": "[encoded data removed]",
      "text/plain": [
       "<Figure size 640x480 with 1 Axes>"
      ]
     },
     "metadata": {},
     "output_type": "display_data"
    },
    {
     "name": "stdout",
     "output_type": "stream",
     "text": [
      "Learned Coefficients: [0.06765567 0.03770779 0.86091621]\n",
      "Intercept: -0.012729203524484086\n"
     ]
    }
   ],
   "source": [
    "# Visualize the data and the regression line\n",
    "plt.scatter(y_test_reg, y_pred_reg, alpha=0.70, label='true points')\n",
    "plt.plot([min(y_test_reg), max(y_test_reg)], [min(y_test_reg), max(y_test_reg)], linestyle='--', color='r', label='Ideal')\n",
    "plt.xlabel('True Values')\n",
    "plt.ylabel('Predictions')\n",
    "plt.title('True Values vs. Predictions')\n",
    "plt.legend()\n",
    "plt.show()\n",
    "\n",
    "# Print the learned coefficients\n",
    "print(\"Learned Coefficients:\", model.coef_)\n",
    "print(\"Intercept:\", model.intercept_)"
   ]
  },
  {
   "cell_type": "markdown",
   "id": "e34b9673-e94e-40a8-b8c9-0bb720ad65c0",
   "metadata": {},
   "source": [
    "## Logistic Regression"
   ]
  },
  {
   "cell_type": "markdown",
   "id": "1b5ea7a8-4f37-460b-937e-67daceecacf1",
   "metadata": {},
   "source": [
    "Logistic regression is a statistical method used for binary classification, predicting the probability that an input belongs to one of two possible classes. It models the relationship between the input features and the binary outcome using the logistic function, which maps any input to a value between 0 and 1. This probability is then transformed into a predicted class label, making logistic regression a fundamental technique in machine learning and statistics."
   ]
  },
  {
   "cell_type": "code",
   "execution_count": 15,
   "id": "a572e10c-a667-49a7-b3e3-febd5e194211",
   "metadata": {
    "tags": []
   },
   "outputs": [],
   "source": [
    "from sklearn.linear_model import LogisticRegression\n",
    "from sklearn.metrics import accuracy_score, confusion_matrix\n",
    "\n",
    "# note, we will go over metrics tomorrow! For now, just pretend it's magic"
   ]
  },
  {
   "cell_type": "markdown",
   "id": "5cee27e9-af6d-493a-bc0c-847e73f565a9",
   "metadata": {},
   "source": [
    "The next code cell will error out without some additional lines of code"
   ]
  },
  {
   "cell_type": "code",
   "execution_count": null,
   "id": "ef7c9fd4-0743-4da6-8c33-5373d84eeeda",
   "metadata": {
    "tags": []
   },
   "outputs": [],
   "source": [
    "# Create a Logistic Regression model\n",
    "model_clf = LogisticRegression()\n",
    "\n",
    "## Rest of the your code here!\n",
    "\n",
    "\n",
    "\n",
    "## Some code that might help\n",
    "# Calculate the accuracy and confusion matrix to evaluate the model's performance\n",
    "accuracy = accuracy_score(y_test_clf, y_pred_clf)\n",
    "conf_matrix = confusion_matrix(y_test_clf, y_pred_clf)\n",
    "print(f\"Accuracy: {accuracy:.2f}\")\n",
    "print(\"Confusion Matrix:\")\n",
    "print(conf_matrix)\n",
    "\n",
    "# Print the learned coefficients\n",
    "print(\"Learned Coefficients:\", model.coef_)\n",
    "print(\"Intercept:\", model.intercept_)"
   ]
  },
  {
   "cell_type": "markdown",
   "id": "d888a86b-8e4c-4910-94d0-f13a29332e24",
   "metadata": {
    "tags": []
   },
   "source": [
    "## SGD"
   ]
  },
  {
   "cell_type": "markdown",
   "id": "6672fb56-aff1-4482-9035-5fb875fad23b",
   "metadata": {},
   "source": [
    "Stochastic Gradient Descent (SGD) is a widely used machine learning technique for regression tasks. It involves iteratively adjusting model parameters to minimize the difference between predicted and actual target values. Unlike traditional gradient descent, SGD updates the parameters using small random subsets (batches) of the training data, making it computationally efficient for large datasets. In each iteration, it computes the gradient of the loss with respect to the parameters using the current batch, and then adjusts the parameters in the opposite direction of the gradient's steepest descent. This process is repeated for multiple epochs until convergence, resulting in a regression model that can effectively capture patterns and relationships in the data."
   ]
  },
  {
   "cell_type": "code",
   "execution_count": 16,
   "id": "6fea29ba-78d4-4a51-a8ba-842c5834916d",
   "metadata": {
    "tags": []
   },
   "outputs": [],
   "source": [
    "from sklearn.linear_model import SGDRegressor"
   ]
  },
  {
   "cell_type": "code",
   "execution_count": 17,
   "id": "75c64a4e-be54-45c8-94ca-f5ebc744ef5b",
   "metadata": {
    "tags": []
   },
   "outputs": [],
   "source": [
    "# Create an SGD Regressor model\n",
    "model_sgd = SGDRegressor(max_iter=1000, tol=1e-3, random_state=42)"
   ]
  },
  {
   "cell_type": "code",
   "execution_count": 18,
   "id": "8d58a347-411c-4f27-a439-9e0f26b3da8e",
   "metadata": {
    "tags": []
   },
   "outputs": [
    {
     "data": {
      "text/html": [
       "<style>#sk-container-id-2 {color: black;}#sk-container-id-2 pre{padding: 0;}#sk-container-id-2 div.sk-toggleable {background-color: white;}#sk-container-id-2 label.sk-toggleable__label {cursor: pointer;display: block;width: 100%;margin-bottom: 0;padding: 0.3em;box-sizing: border-box;text-align: center;}#sk-container-id-2 label.sk-toggleable__label-arrow:before {content: \"▸\";float: left;margin-right: 0.25em;color: #696969;}#sk-container-id-2 label.sk-toggleable__label-arrow:hover:before {color: black;}#sk-container-id-2 div.sk-estimator:hover label.sk-toggleable__label-arrow:before {color: black;}#sk-container-id-2 div.sk-toggleable__content {max-height: 0;max-width: 0;overflow: hidden;text-align: left;background-color: #f0f8ff;}#sk-container-id-2 div.sk-toggleable__content pre {margin: 0.2em;color: black;border-radius: 0.25em;background-color: #f0f8ff;}#sk-container-id-2 input.sk-toggleable__control:checked~div.sk-toggleable__content {max-height: 200px;max-width: 100%;overflow: auto;}#sk-container-id-2 input.sk-toggleable__control:checked~label.sk-toggleable__label-arrow:before {content: \"▾\";}#sk-container-id-2 div.sk-estimator input.sk-toggleable__control:checked~label.sk-toggleable__label {background-color: #d4ebff;}#sk-container-id-2 div.sk-label input.sk-toggleable__control:checked~label.sk-toggleable__label {background-color: #d4ebff;}#sk-container-id-2 input.sk-hidden--visually {border: 0;clip: rect(1px 1px 1px 1px);clip: rect(1px, 1px, 1px, 1px);height: 1px;margin: -1px;overflow: hidden;padding: 0;position: absolute;width: 1px;}#sk-container-id-2 div.sk-estimator {font-family: monospace;background-color: #f0f8ff;border: 1px dotted black;border-radius: 0.25em;box-sizing: border-box;margin-bottom: 0.5em;}#sk-container-id-2 div.sk-estimator:hover {background-color: #d4ebff;}#sk-container-id-2 div.sk-parallel-item::after {content: \"\";width: 100%;border-bottom: 1px solid gray;flex-grow: 1;}#sk-container-id-2 div.sk-label:hover label.sk-toggleable__label {background-color: #d4ebff;}#sk-container-id-2 div.sk-serial::before {content: \"\";position: absolute;border-left: 1px solid gray;box-sizing: border-box;top: 0;bottom: 0;left: 50%;z-index: 0;}#sk-container-id-2 div.sk-serial {display: flex;flex-direction: column;align-items: center;background-color: white;padding-right: 0.2em;padding-left: 0.2em;position: relative;}#sk-container-id-2 div.sk-item {position: relative;z-index: 1;}#sk-container-id-2 div.sk-parallel {display: flex;align-items: stretch;justify-content: center;background-color: white;position: relative;}#sk-container-id-2 div.sk-item::before, #sk-container-id-2 div.sk-parallel-item::before {content: \"\";position: absolute;border-left: 1px solid gray;box-sizing: border-box;top: 0;bottom: 0;left: 50%;z-index: -1;}#sk-container-id-2 div.sk-parallel-item {display: flex;flex-direction: column;z-index: 1;position: relative;background-color: white;}#sk-container-id-2 div.sk-parallel-item:first-child::after {align-self: flex-end;width: 50%;}#sk-container-id-2 div.sk-parallel-item:last-child::after {align-self: flex-start;width: 50%;}#sk-container-id-2 div.sk-parallel-item:only-child::after {width: 0;}#sk-container-id-2 div.sk-dashed-wrapped {border: 1px dashed gray;margin: 0 0.4em 0.5em 0.4em;box-sizing: border-box;padding-bottom: 0.4em;background-color: white;}#sk-container-id-2 div.sk-label label {font-family: monospace;font-weight: bold;display: inline-block;line-height: 1.2em;}#sk-container-id-2 div.sk-label-container {text-align: center;}#sk-container-id-2 div.sk-container {/* jupyter's `normalize.less` sets `[hidden] { display: none; }` but bootstrap.min.css set `[hidden] { display: none !important; }` so we also need the `!important` here to be able to override the default hidden behavior on the sphinx rendered scikit-learn.org. See: https://github.com/scikit-learn/scikit-learn/issues/21755 */display: inline-block !important;position: relative;}#sk-container-id-2 div.sk-text-repr-fallback {display: none;}</style><div id=\"sk-container-id-2\" class=\"sk-top-container\"><div class=\"sk-text-repr-fallback\"><pre>SGDRegressor(random_state=42)</pre><b>In a Jupyter environment, please rerun this cell to show the HTML representation or trust the notebook. <br />On GitHub, the HTML representation is unable to render, please try loading this page with nbviewer.org.</b></div><div class=\"sk-container\" hidden><div class=\"sk-item\"><div class=\"sk-estimator sk-toggleable\"><input class=\"sk-toggleable__control sk-hidden--visually\" id=\"sk-estimator-id-2\" type=\"checkbox\" checked><label for=\"sk-estimator-id-2\" class=\"sk-toggleable__label sk-toggleable__label-arrow\">SGDRegressor</label><div class=\"sk-toggleable__content\"><pre>SGDRegressor(random_state=42)</pre></div></div></div></div></div>"
      ],
      "text/plain": [
       "SGDRegressor(random_state=42)"
      ]
     },
     "execution_count": 18,
     "metadata": {},
     "output_type": "execute_result"
    }
   ],
   "source": [
    "# Create a Linear Regression model\n",
    "model = LinearRegression()\n",
    "\n",
    "# Fit the model on the training data\n",
    "model_sgd.fit(X_train_reg, y_train_reg)"
   ]
  },
  {
   "cell_type": "code",
   "execution_count": 19,
   "id": "dbb21ecb-0413-4283-b30a-71d5581cae2e",
   "metadata": {
    "tags": []
   },
   "outputs": [
    {
     "name": "stdout",
     "output_type": "stream",
     "text": [
      "Mean Squared Error: 0.22\n",
      "R-squared: 0.74\n"
     ]
    }
   ],
   "source": [
    "# Make predictions on the test data\n",
    "y_pred_sgd = model_sgd.predict(X_test_reg)\n",
    "\n",
    "# Calculate the Mean Squared Error (MSE) to evaluate the model's performance\n",
    "mse = mean_squared_error(y_test_reg, y_pred_sgd)\n",
    "r2 = r2_score(y_test_reg, y_pred_sgd)\n",
    "print(f\"Mean Squared Error: {mse:.2f}\")\n",
    "print(f\"R-squared: {r2:.2f}\")"
   ]
  },
  {
   "cell_type": "markdown",
   "id": "1d376252-7aae-4541-9d2f-f52b98d26fb3",
   "metadata": {},
   "source": [
    "Is there a difference in metrics compared to the earlier linear model?"
   ]
  },
  {
   "cell_type": "markdown",
   "id": "1f33dfb8-88c6-412c-aa52-8f53daa85c41",
   "metadata": {},
   "source": [
    "Stochastic Gradient Descent (SGD) is a fundamental building block for training neural networks. Neural networks, especially deep neural networks, are trained using optimization algorithms, and SGD is one of the most commonly used optimization techniques in this context.\n",
    "\n",
    "Neural networks consist of layers of interconnected nodes (neurons) that process and transform data. During the training process, the network learns to adjust its weights and biases to minimize the difference between predicted and actual outputs. This optimization process involves finding the optimal values for these weights and biases to make the network's predictions as accurate as possible.\n",
    "\n",
    "SGD comes into play during this optimization process. The goal is to find the values of the weights and biases that minimize a predefined loss function, which quantifies the discrepancy between predictions and actual targets. SGD helps in this process by iteratively updating the model's parameters in the direction that reduces the loss.\n",
    "\n",
    "Here's how SGD works in training neural networks:\n",
    "\n",
    "- Mini-Batch Processing: Instead of processing the entire training dataset in one go (which could be computationally expensive), SGD processes small subsets of the data, known as mini-batches, in each iteration.\n",
    "\n",
    "- Gradient Calculation: For each mini-batch, the gradient of the loss function with respect to the model's parameters (weights and biases) is computed. This gradient indicates the direction of steepest increase in the loss.\n",
    "\n",
    "- Parameter Update: The parameters are updated by subtracting a fraction of the gradient (scaled by a learning rate) from their current values. This update step is performed for each mini-batch.\n",
    "\n",
    "- Iteration and Convergence: The process of calculating gradients and updating parameters is repeated for multiple iterations (epochs) until the loss converges to a minimum or stabilizes.\n",
    "\n",
    "- Noise and Exploration: The stochastic nature of SGD—due to the random selection of mini-batches—introduces noise into the optimization process. This noise can help the optimization algorithm escape local minima and explore the parameter space more effectively.\n",
    "\n",
    "Neural networks often use variants of SGD to improve convergence speed and stability. For instance, \"Adam\" and \"RMSProp\" are popular optimization algorithms that adaptively adjust the learning rate for each parameter based on their historical gradients. These algorithms combine the benefits of SGD with more sophisticated mechanisms for adjusting the learning rate, leading to faster and more stable training.\n",
    "\n",
    "In essence, SGD forms the basis for training neural networks, enabling them to learn complex patterns and relationships in data by iteratively adjusting their parameters to minimize the prediction error.\n",
    "\n",
    "**Neural Networks will be covered in the next course**"
   ]
  },
  {
   "cell_type": "markdown",
   "id": "54d4d98f-1203-4d2a-a020-72a07fccb0b2",
   "metadata": {},
   "source": [
    "# Non-Linear Models"
   ]
  },
  {
   "cell_type": "markdown",
   "id": "f297db9f-b828-462c-b03f-fad08bce575e",
   "metadata": {},
   "source": [
    "## K-Nearest Neighbors (KNN)"
   ]
  },
  {
   "cell_type": "markdown",
   "id": "6a450fc0-e7c3-44aa-93b7-88b4928965e0",
   "metadata": {},
   "source": [
    "K-Nearest Neighbors (KNN) is advantageous in supervised machine learning due to its simplicity and versatility. KNN's ability to adapt to different data distributions and handle multi-class problems makes it suitable for various scenarios. Its non-parametric nature eliminates the need for assumptions about data distribution, allowing it to capture complex decision boundaries. KNN's effectiveness, especially when combined with appropriate distance metrics and optimization techniques, makes it a valuable tool for supervised ML tasks."
   ]
  },
  {
   "cell_type": "markdown",
   "id": "104513d9-126a-4e7b-86d0-cd3d4a4bb9f3",
   "metadata": {
    "tags": []
   },
   "source": [
    "## Classification"
   ]
  },
  {
   "cell_type": "code",
   "execution_count": 20,
   "id": "d3a3f923-d09f-45cd-a7af-159babb42eb1",
   "metadata": {
    "tags": []
   },
   "outputs": [],
   "source": [
    "from sklearn.neighbors import KNeighborsClassifier"
   ]
  },
  {
   "cell_type": "code",
   "execution_count": 21,
   "id": "47dca607-6a74-4c7d-84d0-e421579ec90d",
   "metadata": {
    "tags": []
   },
   "outputs": [
    {
     "name": "stdout",
     "output_type": "stream",
     "text": [
      "Accuracy: 0.98\n",
      "Confusion Matrix:\n",
      "[[52  0  0]\n",
      " [ 2 23  0]\n",
      " [ 0  0 33]]\n",
      "Learned Classes: ['Adelie' 'Chinstrap' 'Gentoo']\n"
     ]
    }
   ],
   "source": [
    "# Create a KNeighborsClassifier model\n",
    "model = KNeighborsClassifier(n_neighbors=5)\n",
    "\n",
    "# Fit the model on the training data\n",
    "model.fit(X_train_clf, y_train_clf)\n",
    "\n",
    "# Make predictions on the test data\n",
    "y_pred_knn_clf = model.predict(X_test_clf)\n",
    "\n",
    "# Calculate the accuracy and confusion matrix to evaluate the model's performance\n",
    "accuracy = accuracy_score(y_test_clf, y_pred_knn_clf)\n",
    "conf_matrix = confusion_matrix(y_test_clf, y_pred_knn_clf)\n",
    "print(f\"Accuracy: {accuracy:.2f}\")\n",
    "print(\"Confusion Matrix:\")\n",
    "print(conf_matrix)\n",
    "\n",
    "# Print the learned classes for each label\n",
    "print(\"Learned Classes:\", model.classes_)"
   ]
  },
  {
   "cell_type": "markdown",
   "id": "2ff741be-a3e7-4716-94f9-1c80fcb0dda5",
   "metadata": {},
   "source": [
    "## Regression"
   ]
  },
  {
   "cell_type": "code",
   "execution_count": null,
   "id": "70d203cf-c028-490f-9eae-d64187b5d4a5",
   "metadata": {
    "tags": []
   },
   "outputs": [],
   "source": [
    "# write your KNN regression code here!"
   ]
  },
  {
   "cell_type": "markdown",
   "id": "2cba45a9-65c7-4823-ac12-164734d5599c",
   "metadata": {
    "tags": []
   },
   "source": [
    "# Next steps"
   ]
  },
  {
   "cell_type": "markdown",
   "id": "f8ec663e-0f1d-46a8-857a-6cde5cac6367",
   "metadata": {},
   "source": [
    "Tomorrow we will get to tree based methods!"
   ]
  },
  {
   "cell_type": "markdown",
   "id": "318fd91f-baf0-41b2-89c5-a64f6f05f6a7",
   "metadata": {},
   "source": [
    "the end"
   ]
  }
 ],
 "metadata": {
  "colab": {
   "provenance": []
  },
  "kernelspec": {
   "display_name": "py10-viz",
   "language": "python",
   "name": "python3"
  },
  "language_info": {
   "codemirror_mode": {
    "name": "ipython",
    "version": 3
   },
   "file_extension": ".py",
   "mimetype": "text/x-python",
   "name": "python",
   "nbconvert_exporter": "python",
   "pygments_lexer": "ipython3",
   "version": "3.10.12"
  }
 },
 "nbformat": 4,
 "nbformat_minor": 5
}

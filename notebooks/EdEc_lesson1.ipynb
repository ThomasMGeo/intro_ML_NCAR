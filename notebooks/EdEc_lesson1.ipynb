{
 "cells": [
  {
   "cell_type": "markdown",
   "id": "8667a400-4633-43b0-b92b-b621ec19e4b3",
   "metadata": {
    "tags": []
   },
   "source": [
    "# NCAR EdEc Bootcamp, Lesson 1"
   ]
  },
  {
   "cell_type": "markdown",
   "id": "f8707d48-043e-469c-9efe-602fbcf004fa",
   "metadata": {},
   "source": [
    "## Python Imports"
   ]
  },
  {
   "cell_type": "code",
   "execution_count": 1,
   "id": "a7b7c6d4-d305-4b95-99a5-7e8ff2b09fb8",
   "metadata": {
    "tags": []
   },
   "outputs": [],
   "source": [
    "import pandas as pd\n",
    "import numpy as np\n",
    "\n",
    "# Dataset\n",
    "from palmerpenguins import load_penguins\n",
    "\n",
    "# Plotting\n",
    "import matplotlib.pyplot as plt\n",
    "import seaborn as sns\n",
    "\n",
    "# Machine Learning \n",
    "import sklearn"
   ]
  },
  {
   "cell_type": "code",
   "execution_count": 2,
   "id": "54ab835c-5678-4b98-aaa6-be1cd8397ce2",
   "metadata": {
    "tags": []
   },
   "outputs": [
    {
     "name": "stdout",
     "output_type": "stream",
     "text": [
      "scikit-learn version: 1.3.0\n"
     ]
    }
   ],
   "source": [
    "print('scikit-learn version:', sklearn.__version__)"
   ]
  },
  {
   "cell_type": "markdown",
   "id": "d20b458a-926e-492b-85bf-97a0f5228e78",
   "metadata": {
    "tags": []
   },
   "source": [
    "## Dataset Loading"
   ]
  },
  {
   "cell_type": "code",
   "execution_count": 3,
   "id": "3a96f4d2-bf16-4881-a2cf-55d491d78095",
   "metadata": {
    "tags": []
   },
   "outputs": [
    {
     "data": {
      "text/html": [
       "<div>\n",
       "<style scoped>\n",
       "    .dataframe tbody tr th:only-of-type {\n",
       "        vertical-align: middle;\n",
       "    }\n",
       "\n",
       "    .dataframe tbody tr th {\n",
       "        vertical-align: top;\n",
       "    }\n",
       "\n",
       "    .dataframe thead th {\n",
       "        text-align: right;\n",
       "    }\n",
       "</style>\n",
       "<table border=\"1\" class=\"dataframe\">\n",
       "  <thead>\n",
       "    <tr style=\"text-align: right;\">\n",
       "      <th></th>\n",
       "      <th>species</th>\n",
       "      <th>island</th>\n",
       "      <th>bill_length_mm</th>\n",
       "      <th>bill_depth_mm</th>\n",
       "      <th>flipper_length_mm</th>\n",
       "      <th>body_mass_g</th>\n",
       "      <th>sex</th>\n",
       "      <th>year</th>\n",
       "    </tr>\n",
       "  </thead>\n",
       "  <tbody>\n",
       "    <tr>\n",
       "      <th>0</th>\n",
       "      <td>Adelie</td>\n",
       "      <td>Torgersen</td>\n",
       "      <td>39.1</td>\n",
       "      <td>18.7</td>\n",
       "      <td>181.0</td>\n",
       "      <td>3750.0</td>\n",
       "      <td>male</td>\n",
       "      <td>2007</td>\n",
       "    </tr>\n",
       "    <tr>\n",
       "      <th>1</th>\n",
       "      <td>Adelie</td>\n",
       "      <td>Torgersen</td>\n",
       "      <td>39.5</td>\n",
       "      <td>17.4</td>\n",
       "      <td>186.0</td>\n",
       "      <td>3800.0</td>\n",
       "      <td>female</td>\n",
       "      <td>2007</td>\n",
       "    </tr>\n",
       "    <tr>\n",
       "      <th>2</th>\n",
       "      <td>Adelie</td>\n",
       "      <td>Torgersen</td>\n",
       "      <td>40.3</td>\n",
       "      <td>18.0</td>\n",
       "      <td>195.0</td>\n",
       "      <td>3250.0</td>\n",
       "      <td>female</td>\n",
       "      <td>2007</td>\n",
       "    </tr>\n",
       "    <tr>\n",
       "      <th>3</th>\n",
       "      <td>Adelie</td>\n",
       "      <td>Torgersen</td>\n",
       "      <td>NaN</td>\n",
       "      <td>NaN</td>\n",
       "      <td>NaN</td>\n",
       "      <td>NaN</td>\n",
       "      <td>NaN</td>\n",
       "      <td>2007</td>\n",
       "    </tr>\n",
       "    <tr>\n",
       "      <th>4</th>\n",
       "      <td>Adelie</td>\n",
       "      <td>Torgersen</td>\n",
       "      <td>36.7</td>\n",
       "      <td>19.3</td>\n",
       "      <td>193.0</td>\n",
       "      <td>3450.0</td>\n",
       "      <td>female</td>\n",
       "      <td>2007</td>\n",
       "    </tr>\n",
       "  </tbody>\n",
       "</table>\n",
       "</div>"
      ],
      "text/plain": [
       "  species     island  bill_length_mm  bill_depth_mm  flipper_length_mm  \\\n",
       "0  Adelie  Torgersen            39.1           18.7              181.0   \n",
       "1  Adelie  Torgersen            39.5           17.4              186.0   \n",
       "2  Adelie  Torgersen            40.3           18.0              195.0   \n",
       "3  Adelie  Torgersen             NaN            NaN                NaN   \n",
       "4  Adelie  Torgersen            36.7           19.3              193.0   \n",
       "\n",
       "   body_mass_g     sex  year  \n",
       "0       3750.0    male  2007  \n",
       "1       3800.0  female  2007  \n",
       "2       3250.0  female  2007  \n",
       "3          NaN     NaN  2007  \n",
       "4       3450.0  female  2007  "
      ]
     },
     "execution_count": 3,
     "metadata": {},
     "output_type": "execute_result"
    }
   ],
   "source": [
    "df = load_penguins()\n",
    "df.head()"
   ]
  },
  {
   "cell_type": "code",
   "execution_count": 4,
   "id": "4c31655a-9a0a-44a5-929e-cb73b50803cd",
   "metadata": {
    "tags": []
   },
   "outputs": [
    {
     "data": {
      "text/html": [
       "<div>\n",
       "<style scoped>\n",
       "    .dataframe tbody tr th:only-of-type {\n",
       "        vertical-align: middle;\n",
       "    }\n",
       "\n",
       "    .dataframe tbody tr th {\n",
       "        vertical-align: top;\n",
       "    }\n",
       "\n",
       "    .dataframe thead th {\n",
       "        text-align: right;\n",
       "    }\n",
       "</style>\n",
       "<table border=\"1\" class=\"dataframe\">\n",
       "  <thead>\n",
       "    <tr style=\"text-align: right;\">\n",
       "      <th></th>\n",
       "      <th>bill_length_mm</th>\n",
       "      <th>bill_depth_mm</th>\n",
       "      <th>flipper_length_mm</th>\n",
       "      <th>body_mass_g</th>\n",
       "      <th>year</th>\n",
       "    </tr>\n",
       "  </thead>\n",
       "  <tbody>\n",
       "    <tr>\n",
       "      <th>count</th>\n",
       "      <td>342.000000</td>\n",
       "      <td>342.000000</td>\n",
       "      <td>342.000000</td>\n",
       "      <td>342.000000</td>\n",
       "      <td>344.000000</td>\n",
       "    </tr>\n",
       "    <tr>\n",
       "      <th>mean</th>\n",
       "      <td>43.921930</td>\n",
       "      <td>17.151170</td>\n",
       "      <td>200.915205</td>\n",
       "      <td>4201.754386</td>\n",
       "      <td>2008.029070</td>\n",
       "    </tr>\n",
       "    <tr>\n",
       "      <th>std</th>\n",
       "      <td>5.459584</td>\n",
       "      <td>1.974793</td>\n",
       "      <td>14.061714</td>\n",
       "      <td>801.954536</td>\n",
       "      <td>0.818356</td>\n",
       "    </tr>\n",
       "    <tr>\n",
       "      <th>min</th>\n",
       "      <td>32.100000</td>\n",
       "      <td>13.100000</td>\n",
       "      <td>172.000000</td>\n",
       "      <td>2700.000000</td>\n",
       "      <td>2007.000000</td>\n",
       "    </tr>\n",
       "    <tr>\n",
       "      <th>25%</th>\n",
       "      <td>39.225000</td>\n",
       "      <td>15.600000</td>\n",
       "      <td>190.000000</td>\n",
       "      <td>3550.000000</td>\n",
       "      <td>2007.000000</td>\n",
       "    </tr>\n",
       "    <tr>\n",
       "      <th>50%</th>\n",
       "      <td>44.450000</td>\n",
       "      <td>17.300000</td>\n",
       "      <td>197.000000</td>\n",
       "      <td>4050.000000</td>\n",
       "      <td>2008.000000</td>\n",
       "    </tr>\n",
       "    <tr>\n",
       "      <th>75%</th>\n",
       "      <td>48.500000</td>\n",
       "      <td>18.700000</td>\n",
       "      <td>213.000000</td>\n",
       "      <td>4750.000000</td>\n",
       "      <td>2009.000000</td>\n",
       "    </tr>\n",
       "    <tr>\n",
       "      <th>max</th>\n",
       "      <td>59.600000</td>\n",
       "      <td>21.500000</td>\n",
       "      <td>231.000000</td>\n",
       "      <td>6300.000000</td>\n",
       "      <td>2009.000000</td>\n",
       "    </tr>\n",
       "  </tbody>\n",
       "</table>\n",
       "</div>"
      ],
      "text/plain": [
       "       bill_length_mm  bill_depth_mm  flipper_length_mm  body_mass_g  \\\n",
       "count      342.000000     342.000000         342.000000   342.000000   \n",
       "mean        43.921930      17.151170         200.915205  4201.754386   \n",
       "std          5.459584       1.974793          14.061714   801.954536   \n",
       "min         32.100000      13.100000         172.000000  2700.000000   \n",
       "25%         39.225000      15.600000         190.000000  3550.000000   \n",
       "50%         44.450000      17.300000         197.000000  4050.000000   \n",
       "75%         48.500000      18.700000         213.000000  4750.000000   \n",
       "max         59.600000      21.500000         231.000000  6300.000000   \n",
       "\n",
       "              year  \n",
       "count   344.000000  \n",
       "mean   2008.029070  \n",
       "std       0.818356  \n",
       "min    2007.000000  \n",
       "25%    2007.000000  \n",
       "50%    2008.000000  \n",
       "75%    2009.000000  \n",
       "max    2009.000000  "
      ]
     },
     "execution_count": 4,
     "metadata": {},
     "output_type": "execute_result"
    }
   ],
   "source": [
    "df.describe()"
   ]
  },
  {
   "cell_type": "code",
   "execution_count": 5,
   "id": "5e55dc15-0d9b-443f-ba67-c2cd7607b9dc",
   "metadata": {
    "tags": []
   },
   "outputs": [
    {
     "data": {
      "text/plain": [
       "<Axes: >"
      ]
     },
     "execution_count": 5,
     "metadata": {},
     "output_type": "execute_result"
    },
    {
     "data": {
      "image/png": "[encoded data removed]",
      "text/plain": [
       "<Figure size 640x480 with 1 Axes>"
      ]
     },
     "metadata": {},
     "output_type": "display_data"
    }
   ],
   "source": [
    "sns.boxplot(data=df[['bill_length_mm', 'bill_depth_mm', 'flipper_length_mm']], width=0.5,fliersize=5)"
   ]
  },
  {
   "cell_type": "code",
   "execution_count": 6,
   "id": "28cd5705-9476-4df1-8554-89e19bc486ef",
   "metadata": {
    "tags": []
   },
   "outputs": [
    {
     "name": "stdout",
     "output_type": "stream",
     "text": [
      "Correlation:\n"
     ]
    },
    {
     "data": {
      "image/png": "[encoded data removed]",
      "text/plain": [
       "<Figure size 640x480 with 2 Axes>"
      ]
     },
     "metadata": {},
     "output_type": "display_data"
    }
   ],
   "source": [
    "print('Correlation:')\n",
    "sns.heatmap(df.select_dtypes(include=['float64']).corr(),\n",
    "           annot=True,\n",
    "           fmt=\".2f\",\n",
    "           linewidth=.5,\n",
    "           cmap=\"vlag\",\n",
    "           vmin=-1, vmax=1);"
   ]
  },
  {
   "cell_type": "code",
   "execution_count": 7,
   "id": "bd2b4cfc-49b7-41ef-a295-197332837365",
   "metadata": {
    "tags": []
   },
   "outputs": [
    {
     "data": {
      "text/plain": [
       "3"
      ]
     },
     "execution_count": 7,
     "metadata": {},
     "output_type": "execute_result"
    }
   ],
   "source": [
    "df[df.species == \"Adelie\"].year.nunique()"
   ]
  },
  {
   "cell_type": "markdown",
   "id": "91a714e1-cd74-4fb6-9730-22507c7873f4",
   "metadata": {},
   "source": [
    "Year is not correlated to penguins, so let's drop it!"
   ]
  },
  {
   "cell_type": "code",
   "execution_count": 8,
   "id": "721db1c2-a3b7-4f62-904b-a14272282b01",
   "metadata": {
    "tags": []
   },
   "outputs": [
    {
     "data": {
      "text/html": [
       "<div>\n",
       "<style scoped>\n",
       "    .dataframe tbody tr th:only-of-type {\n",
       "        vertical-align: middle;\n",
       "    }\n",
       "\n",
       "    .dataframe tbody tr th {\n",
       "        vertical-align: top;\n",
       "    }\n",
       "\n",
       "    .dataframe thead th {\n",
       "        text-align: right;\n",
       "    }\n",
       "</style>\n",
       "<table border=\"1\" class=\"dataframe\">\n",
       "  <thead>\n",
       "    <tr style=\"text-align: right;\">\n",
       "      <th></th>\n",
       "      <th>species</th>\n",
       "      <th>island</th>\n",
       "      <th>bill_length_mm</th>\n",
       "      <th>bill_depth_mm</th>\n",
       "      <th>flipper_length_mm</th>\n",
       "      <th>body_mass_g</th>\n",
       "      <th>sex</th>\n",
       "    </tr>\n",
       "  </thead>\n",
       "  <tbody>\n",
       "    <tr>\n",
       "      <th>0</th>\n",
       "      <td>Adelie</td>\n",
       "      <td>Torgersen</td>\n",
       "      <td>39.1</td>\n",
       "      <td>18.7</td>\n",
       "      <td>181.0</td>\n",
       "      <td>3750.0</td>\n",
       "      <td>male</td>\n",
       "    </tr>\n",
       "    <tr>\n",
       "      <th>1</th>\n",
       "      <td>Adelie</td>\n",
       "      <td>Torgersen</td>\n",
       "      <td>39.5</td>\n",
       "      <td>17.4</td>\n",
       "      <td>186.0</td>\n",
       "      <td>3800.0</td>\n",
       "      <td>female</td>\n",
       "    </tr>\n",
       "    <tr>\n",
       "      <th>2</th>\n",
       "      <td>Adelie</td>\n",
       "      <td>Torgersen</td>\n",
       "      <td>40.3</td>\n",
       "      <td>18.0</td>\n",
       "      <td>195.0</td>\n",
       "      <td>3250.0</td>\n",
       "      <td>female</td>\n",
       "    </tr>\n",
       "    <tr>\n",
       "      <th>3</th>\n",
       "      <td>Adelie</td>\n",
       "      <td>Torgersen</td>\n",
       "      <td>NaN</td>\n",
       "      <td>NaN</td>\n",
       "      <td>NaN</td>\n",
       "      <td>NaN</td>\n",
       "      <td>NaN</td>\n",
       "    </tr>\n",
       "    <tr>\n",
       "      <th>4</th>\n",
       "      <td>Adelie</td>\n",
       "      <td>Torgersen</td>\n",
       "      <td>36.7</td>\n",
       "      <td>19.3</td>\n",
       "      <td>193.0</td>\n",
       "      <td>3450.0</td>\n",
       "      <td>female</td>\n",
       "    </tr>\n",
       "    <tr>\n",
       "      <th>...</th>\n",
       "      <td>...</td>\n",
       "      <td>...</td>\n",
       "      <td>...</td>\n",
       "      <td>...</td>\n",
       "      <td>...</td>\n",
       "      <td>...</td>\n",
       "      <td>...</td>\n",
       "    </tr>\n",
       "    <tr>\n",
       "      <th>339</th>\n",
       "      <td>Chinstrap</td>\n",
       "      <td>Dream</td>\n",
       "      <td>55.8</td>\n",
       "      <td>19.8</td>\n",
       "      <td>207.0</td>\n",
       "      <td>4000.0</td>\n",
       "      <td>male</td>\n",
       "    </tr>\n",
       "    <tr>\n",
       "      <th>340</th>\n",
       "      <td>Chinstrap</td>\n",
       "      <td>Dream</td>\n",
       "      <td>43.5</td>\n",
       "      <td>18.1</td>\n",
       "      <td>202.0</td>\n",
       "      <td>3400.0</td>\n",
       "      <td>female</td>\n",
       "    </tr>\n",
       "    <tr>\n",
       "      <th>341</th>\n",
       "      <td>Chinstrap</td>\n",
       "      <td>Dream</td>\n",
       "      <td>49.6</td>\n",
       "      <td>18.2</td>\n",
       "      <td>193.0</td>\n",
       "      <td>3775.0</td>\n",
       "      <td>male</td>\n",
       "    </tr>\n",
       "    <tr>\n",
       "      <th>342</th>\n",
       "      <td>Chinstrap</td>\n",
       "      <td>Dream</td>\n",
       "      <td>50.8</td>\n",
       "      <td>19.0</td>\n",
       "      <td>210.0</td>\n",
       "      <td>4100.0</td>\n",
       "      <td>male</td>\n",
       "    </tr>\n",
       "    <tr>\n",
       "      <th>343</th>\n",
       "      <td>Chinstrap</td>\n",
       "      <td>Dream</td>\n",
       "      <td>50.2</td>\n",
       "      <td>18.7</td>\n",
       "      <td>198.0</td>\n",
       "      <td>3775.0</td>\n",
       "      <td>female</td>\n",
       "    </tr>\n",
       "  </tbody>\n",
       "</table>\n",
       "<p>344 rows × 7 columns</p>\n",
       "</div>"
      ],
      "text/plain": [
       "       species     island  bill_length_mm  bill_depth_mm  flipper_length_mm  \\\n",
       "0       Adelie  Torgersen            39.1           18.7              181.0   \n",
       "1       Adelie  Torgersen            39.5           17.4              186.0   \n",
       "2       Adelie  Torgersen            40.3           18.0              195.0   \n",
       "3       Adelie  Torgersen             NaN            NaN                NaN   \n",
       "4       Adelie  Torgersen            36.7           19.3              193.0   \n",
       "..         ...        ...             ...            ...                ...   \n",
       "339  Chinstrap      Dream            55.8           19.8              207.0   \n",
       "340  Chinstrap      Dream            43.5           18.1              202.0   \n",
       "341  Chinstrap      Dream            49.6           18.2              193.0   \n",
       "342  Chinstrap      Dream            50.8           19.0              210.0   \n",
       "343  Chinstrap      Dream            50.2           18.7              198.0   \n",
       "\n",
       "     body_mass_g     sex  \n",
       "0         3750.0    male  \n",
       "1         3800.0  female  \n",
       "2         3250.0  female  \n",
       "3            NaN     NaN  \n",
       "4         3450.0  female  \n",
       "..           ...     ...  \n",
       "339       4000.0    male  \n",
       "340       3400.0  female  \n",
       "341       3775.0    male  \n",
       "342       4100.0    male  \n",
       "343       3775.0  female  \n",
       "\n",
       "[344 rows x 7 columns]"
      ]
     },
     "execution_count": 8,
     "metadata": {},
     "output_type": "execute_result"
    }
   ],
   "source": [
    "df = df.drop(['year'], axis=1)\n",
    "df"
   ]
  },
  {
   "cell_type": "markdown",
   "id": "5b8cb230-6c15-4a4d-9d90-63d4350e8666",
   "metadata": {},
   "source": [
    "We can also get a count of all the nans in the dataset:"
   ]
  },
  {
   "cell_type": "markdown",
   "id": "e7270ce6-d029-4c74-bfb2-2d9baa5f145b",
   "metadata": {
    "tags": []
   },
   "source": [
    "df.isna().sum()"
   ]
  },
  {
   "cell_type": "code",
   "execution_count": 9,
   "id": "15bcc45c-4c3b-4728-b1c3-197a0bb3f323",
   "metadata": {
    "tags": []
   },
   "outputs": [
    {
     "data": {
      "text/html": [
       "<div>\n",
       "<style scoped>\n",
       "    .dataframe tbody tr th:only-of-type {\n",
       "        vertical-align: middle;\n",
       "    }\n",
       "\n",
       "    .dataframe tbody tr th {\n",
       "        vertical-align: top;\n",
       "    }\n",
       "\n",
       "    .dataframe thead th {\n",
       "        text-align: right;\n",
       "    }\n",
       "</style>\n",
       "<table border=\"1\" class=\"dataframe\">\n",
       "  <thead>\n",
       "    <tr style=\"text-align: right;\">\n",
       "      <th></th>\n",
       "      <th>bill_length_mm</th>\n",
       "      <th>bill_depth_mm</th>\n",
       "      <th>flipper_length_mm</th>\n",
       "      <th>body_mass_g</th>\n",
       "    </tr>\n",
       "  </thead>\n",
       "  <tbody>\n",
       "    <tr>\n",
       "      <th>count</th>\n",
       "      <td>333.000000</td>\n",
       "      <td>333.000000</td>\n",
       "      <td>333.000000</td>\n",
       "      <td>333.000000</td>\n",
       "    </tr>\n",
       "    <tr>\n",
       "      <th>mean</th>\n",
       "      <td>43.992793</td>\n",
       "      <td>17.164865</td>\n",
       "      <td>200.966967</td>\n",
       "      <td>4207.057057</td>\n",
       "    </tr>\n",
       "    <tr>\n",
       "      <th>std</th>\n",
       "      <td>5.468668</td>\n",
       "      <td>1.969235</td>\n",
       "      <td>14.015765</td>\n",
       "      <td>805.215802</td>\n",
       "    </tr>\n",
       "    <tr>\n",
       "      <th>min</th>\n",
       "      <td>32.100000</td>\n",
       "      <td>13.100000</td>\n",
       "      <td>172.000000</td>\n",
       "      <td>2700.000000</td>\n",
       "    </tr>\n",
       "    <tr>\n",
       "      <th>25%</th>\n",
       "      <td>39.500000</td>\n",
       "      <td>15.600000</td>\n",
       "      <td>190.000000</td>\n",
       "      <td>3550.000000</td>\n",
       "    </tr>\n",
       "    <tr>\n",
       "      <th>50%</th>\n",
       "      <td>44.500000</td>\n",
       "      <td>17.300000</td>\n",
       "      <td>197.000000</td>\n",
       "      <td>4050.000000</td>\n",
       "    </tr>\n",
       "    <tr>\n",
       "      <th>75%</th>\n",
       "      <td>48.600000</td>\n",
       "      <td>18.700000</td>\n",
       "      <td>213.000000</td>\n",
       "      <td>4775.000000</td>\n",
       "    </tr>\n",
       "    <tr>\n",
       "      <th>max</th>\n",
       "      <td>59.600000</td>\n",
       "      <td>21.500000</td>\n",
       "      <td>231.000000</td>\n",
       "      <td>6300.000000</td>\n",
       "    </tr>\n",
       "  </tbody>\n",
       "</table>\n",
       "</div>"
      ],
      "text/plain": [
       "       bill_length_mm  bill_depth_mm  flipper_length_mm  body_mass_g\n",
       "count      333.000000     333.000000         333.000000   333.000000\n",
       "mean        43.992793      17.164865         200.966967  4207.057057\n",
       "std          5.468668       1.969235          14.015765   805.215802\n",
       "min         32.100000      13.100000         172.000000  2700.000000\n",
       "25%         39.500000      15.600000         190.000000  3550.000000\n",
       "50%         44.500000      17.300000         197.000000  4050.000000\n",
       "75%         48.600000      18.700000         213.000000  4775.000000\n",
       "max         59.600000      21.500000         231.000000  6300.000000"
      ]
     },
     "execution_count": 9,
     "metadata": {},
     "output_type": "execute_result"
    }
   ],
   "source": [
    "df = df.dropna() # this drops all rows with a nan in it\n",
    "df.describe()"
   ]
  },
  {
   "cell_type": "code",
   "execution_count": 10,
   "id": "c9cef193-aa46-4ec6-bcf7-c6251edf7c0f",
   "metadata": {
    "tags": []
   },
   "outputs": [],
   "source": [
    "df = df.sample(frac=1).reset_index(drop=True)"
   ]
  },
  {
   "cell_type": "code",
   "execution_count": 11,
   "id": "62d5b4cf-29cd-4202-a5ed-15ccbd193249",
   "metadata": {
    "tags": []
   },
   "outputs": [
    {
     "data": {
      "text/plain": [
       "array(['bill_length_mm', 'bill_depth_mm', 'flipper_length_mm',\n",
       "       'body_mass_g'], dtype=object)"
      ]
     },
     "execution_count": 11,
     "metadata": {},
     "output_type": "execute_result"
    }
   ],
   "source": [
    "float_cols = df.select_dtypes(include=[float]).columns.values\n",
    "float_cols"
   ]
  },
  {
   "cell_type": "markdown",
   "id": "3949db24-7642-4e88-8e80-8e7b26df0678",
   "metadata": {
    "tags": []
   },
   "source": [
    "## Splitting the dataset"
   ]
  },
  {
   "cell_type": "code",
   "execution_count": 12,
   "id": "2f8c7452-422c-4fa4-aba9-711f28d7b26a",
   "metadata": {
    "tags": []
   },
   "outputs": [],
   "source": [
    "X = df[['bill_length_mm', 'bill_depth_mm', 'flipper_length_mm']]\n",
    "\n",
    "y = df['body_mass_g']"
   ]
  },
  {
   "cell_type": "code",
   "execution_count": 13,
   "id": "6cb19cbe-f03f-4e48-92fc-3a936362507f",
   "metadata": {
    "tags": []
   },
   "outputs": [],
   "source": [
    "from sklearn.model_selection import train_test_split"
   ]
  },
  {
   "cell_type": "code",
   "execution_count": 14,
   "id": "487e974a-fa95-4051-beea-a0cb7152daf2",
   "metadata": {
    "tags": []
   },
   "outputs": [],
   "source": [
    "X_train, X_test, y_train, y_test = train_test_split(X, y, test_size=0.33, random_state=42)"
   ]
  },
  {
   "cell_type": "markdown",
   "id": "d3e10265-2391-425f-9604-0f1592be257c",
   "metadata": {
    "tags": []
   },
   "source": [
    "## Linear Regression!"
   ]
  },
  {
   "cell_type": "code",
   "execution_count": 15,
   "id": "09d146b1-40aa-46e3-9634-110142dbd766",
   "metadata": {
    "tags": []
   },
   "outputs": [],
   "source": [
    "from sklearn.linear_model import LinearRegression"
   ]
  },
  {
   "cell_type": "code",
   "execution_count": 16,
   "id": "a308a65d-5f60-4f60-852e-c2d145fa9781",
   "metadata": {
    "tags": []
   },
   "outputs": [],
   "source": [
    "reg = LinearRegression().fit(X_train, y_train)"
   ]
  },
  {
   "cell_type": "code",
   "execution_count": 17,
   "id": "fb76198f-7487-4c6a-9985-10d1fc98fd67",
   "metadata": {
    "tags": []
   },
   "outputs": [
    {
     "data": {
      "text/plain": [
       "array([ 4.76575312, 12.30427457, 49.65285346])"
      ]
     },
     "execution_count": 17,
     "metadata": {},
     "output_type": "execute_result"
    }
   ],
   "source": [
    "reg.coef_"
   ]
  },
  {
   "cell_type": "code",
   "execution_count": 18,
   "id": "7b01a226-1a69-4850-909d-c3cb2fc662c5",
   "metadata": {
    "tags": []
   },
   "outputs": [],
   "source": [
    "predictions = reg.predict(X_test)"
   ]
  },
  {
   "cell_type": "markdown",
   "id": "603b50a1-8618-4137-8a89-e20852d4be4f",
   "metadata": {},
   "source": [
    "4 Lines of code, including importing the model to get predictions from a machine learning model. Most other machine learning models in the scikit-learn ecosystem uses the same model.fit(X,y) API. "
   ]
  },
  {
   "cell_type": "code",
   "execution_count": 19,
   "id": "fabdb040-2fd4-453a-bb93-b87727a4a45b",
   "metadata": {
    "tags": []
   },
   "outputs": [
    {
     "data": {
      "text/plain": [
       "<matplotlib.legend.Legend at 0x7f7cb931a1d0>"
      ]
     },
     "execution_count": 19,
     "metadata": {},
     "output_type": "execute_result"
    },
    {
     "data": {
      "image/png": "[encoded data removed]",
      "text/plain": [
       "<Figure size 640x480 with 1 Axes>"
      ]
     },
     "metadata": {},
     "output_type": "display_data"
    }
   ],
   "source": [
    "alpha_var = 0.5\n",
    "\n",
    "plt.scatter(X_train['flipper_length_mm'], y_train, alpha=alpha_var/4, label='training dataset')\n",
    "plt.scatter(X_test['flipper_length_mm'], y_test, alpha=alpha_var/4, label='test dataset')\n",
    "plt.scatter(X_test['flipper_length_mm'], predictions, alpha=alpha_var, label='predictions')\n",
    "plt.ylabel('Body Mass', size=16)\n",
    "plt.xlabel('Flipper Length', size=16)\n",
    "plt.legend()"
   ]
  },
  {
   "cell_type": "code",
   "execution_count": 20,
   "id": "d2d0f4f7-1513-4ef1-93d7-8266a57d6cec",
   "metadata": {
    "tags": []
   },
   "outputs": [],
   "source": [
    "from sklearn.metrics import mean_squared_error, r2_score"
   ]
  },
  {
   "cell_type": "code",
   "execution_count": 21,
   "id": "c14056c8-f0ae-4741-a8b4-448ae8587019",
   "metadata": {
    "tags": []
   },
   "outputs": [
    {
     "data": {
      "text/plain": [
       "0.81"
      ]
     },
     "execution_count": 21,
     "metadata": {},
     "output_type": "execute_result"
    }
   ],
   "source": [
    "np.round(r2_score(y_test, predictions),2)"
   ]
  },
  {
   "cell_type": "markdown",
   "id": "a6c42da1-d3c5-414b-a4ca-c5fb2a7eeeb9",
   "metadata": {},
   "source": [
    "# Follow Up Questions"
   ]
  },
  {
   "cell_type": "markdown",
   "id": "11075756-6db6-4454-983c-3b360af6051a",
   "metadata": {},
   "source": [
    "This was a speed run, on toy data. But this shows what is possible in very few lines of code. \n",
    "- How much was the effort to collect and process the data? \n",
    "- Why did we need to split the data into testing and training datasets? \n",
    "- What issues would you have with a larger dataset? Or a grided dataset?"
   ]
  },
  {
   "cell_type": "markdown",
   "id": "f8e3abca-484a-495a-aba2-5f263581df1d",
   "metadata": {},
   "source": [
    "# Preprocessing / Data Scaling"
   ]
  },
  {
   "cell_type": "markdown",
   "id": "02cf4351-b977-4d8e-b86e-c310e7564307",
   "metadata": {},
   "source": [
    "## 5 Reasons why you want to pre-process your data:"
   ]
  },
  {
   "cell_type": "markdown",
   "id": "e7a98630-a415-487e-a1cd-b0e8b1f194a0",
   "metadata": {},
   "source": [
    "\n",
    "- Scale invariance: Standardization and normalization ensure that the data is brought to a common scale, making the machine learning algorithms insensitive to the original units or magnitudes of the features.\n",
    "\n",
    "- Improved convergence: Algorithms like gradient descent converge faster when features are standardized or normalized, as it allows the optimization process to take larger steps toward the global minimum.\n",
    "\n",
    "- Mitigating numerical issues: Large differences in feature magnitudes can lead to numerical instability in some algorithms, causing overflow or underflow problems. Standardization and normalization prevent such issues.\n",
    "\n",
    "- Equal influence: Without standardization or normalization, features with larger magnitudes can dominate the learning process, giving them undue importance. Standardizing the data ensures that all features contribute equally to the model's decision-making.\n",
    "\n",
    "- Compatibility with certain algorithms: Some machine learning algorithms, such as support vector machines and k-nearest neighbors, are sensitive to feature scales. Standardization and normalization enable these algorithms to perform optimally and accurately."
   ]
  },
  {
   "cell_type": "markdown",
   "id": "0799e64d-1efe-4600-ab8f-40c61e5edccd",
   "metadata": {},
   "source": [
    "<img src=\"Fwt9uoWaEAAqwP6.jpg\" alt=\"Image Alt Text\" width=\"800\">"
   ]
  },
  {
   "cell_type": "markdown",
   "id": "938f1778-ed04-4241-8e16-49d15177c97e",
   "metadata": {},
   "source": [
    "Do you need to standardize/normalize for every model type? No\n",
    "\n",
    "Do you need to do it every time for neural network models? yes"
   ]
  },
  {
   "cell_type": "markdown",
   "id": "f7eb0790-946b-408b-9e36-84e8550a9522",
   "metadata": {},
   "source": [
    "Interesting [gist](https://gist.github.com/kwinkunks/293784bec54455a4d950ebfa289d2bd0) about scaling the target variable for regression problems. "
   ]
  },
  {
   "cell_type": "markdown",
   "id": "2ce8a40e-4ef6-4239-94a0-d9e09ce0c7f5",
   "metadata": {},
   "source": [
    "## Scikit Learn Pre-processors"
   ]
  },
  {
   "cell_type": "markdown",
   "id": "7d86d3c3-1b09-4ca7-8642-2509f797fc19",
   "metadata": {},
   "source": [
    "[Here](https://scikit-learn.org/stable/auto_examples/preprocessing/plot_all_scaling.html#sphx-glr-auto-examples-preprocessing-plot-all-scaling-py) is a great comparison of all the pre-processing options in scikit-learn. Today, we will focus on 3 of them."
   ]
  },
  {
   "cell_type": "markdown",
   "id": "5408e70e-a035-40f7-a597-c220e51e6f04",
   "metadata": {},
   "source": [
    "#### Original Dataset"
   ]
  },
  {
   "cell_type": "code",
   "execution_count": 22,
   "id": "41f9b485-3860-41d1-82ca-e6a20e8026b1",
   "metadata": {
    "tags": []
   },
   "outputs": [
    {
     "data": {
      "image/png": "[encoded data removed]",
      "text/plain": [
       "<Figure size 640x480 with 1 Axes>"
      ]
     },
     "metadata": {},
     "output_type": "display_data"
    }
   ],
   "source": [
    "orginal_data = df['flipper_length_mm'].values\n",
    "\n",
    "plt.hist(orginal_data);"
   ]
  },
  {
   "cell_type": "markdown",
   "id": "bf8d3897-b3c7-4951-81a0-da7a7e41fd8e",
   "metadata": {},
   "source": [
    "### Standard Scaler "
   ]
  },
  {
   "cell_type": "markdown",
   "id": "7a4de84f-6cf7-47a1-9abc-bf7ae5e2149c",
   "metadata": {},
   "source": [
    "Documentation for Standard Scaler is [here](https://scikit-learn.org/stable/modules/generated/sklearn.preprocessing.StandardScaler.html)"
   ]
  },
  {
   "cell_type": "code",
   "execution_count": 23,
   "id": "d1002b03-0a60-4a21-810a-ba30748f7b8f",
   "metadata": {
    "tags": []
   },
   "outputs": [],
   "source": [
    "from sklearn.preprocessing import StandardScaler"
   ]
  },
  {
   "cell_type": "code",
   "execution_count": 24,
   "id": "ad623d27-c8ba-491a-9a21-ba070829a383",
   "metadata": {
    "tags": []
   },
   "outputs": [],
   "source": [
    "scaler = StandardScaler()\n",
    "std_scaled = scaler.fit_transform(orginal_data.reshape(-1,1), y=None)"
   ]
  },
  {
   "cell_type": "code",
   "execution_count": 25,
   "id": "8879c114-c0f4-410a-ab6a-efd1f0ff9fc4",
   "metadata": {
    "tags": []
   },
   "outputs": [
    {
     "data": {
      "text/plain": [
       "(array([ 3., 20., 51., 77., 44., 15., 42., 38., 28., 15.]),\n",
       " array([-2.06985195, -1.64826392, -1.22667589, -0.80508786, -0.38349983,\n",
       "         0.03808819,  0.45967622,  0.88126425,  1.30285228,  1.72444031,\n",
       "         2.14602834]),\n",
       " <BarContainer object of 10 artists>)"
      ]
     },
     "execution_count": 25,
     "metadata": {},
     "output_type": "execute_result"
    },
    {
     "data": {
      "image/png": "[encoded data removed]",
      "text/plain": [
       "<Figure size 640x480 with 1 Axes>"
      ]
     },
     "metadata": {},
     "output_type": "display_data"
    }
   ],
   "source": [
    "plt.hist(std_scaled)"
   ]
  },
  {
   "cell_type": "markdown",
   "id": "c24de979-52e6-4308-9bf1-4f19354626ce",
   "metadata": {},
   "source": [
    "What has changed? What looks the same?"
   ]
  },
  {
   "cell_type": "markdown",
   "id": "21f3d141-70dc-4531-9358-7884ceb2790e",
   "metadata": {},
   "source": [
    "### Normalizer"
   ]
  },
  {
   "cell_type": "code",
   "execution_count": 26,
   "id": "0a58afff-e241-43e7-ae04-180d85a4247c",
   "metadata": {
    "tags": []
   },
   "outputs": [],
   "source": [
    "from sklearn.preprocessing import Normalizer"
   ]
  },
  {
   "cell_type": "code",
   "execution_count": 27,
   "id": "61b31e1c-e8f1-41dd-97d4-dcb0088f60db",
   "metadata": {
    "tags": []
   },
   "outputs": [],
   "source": [
    "norm = Normalizer(norm='l1') # 'l1', 'l2' are also options\n",
    "norm_data = norm.transform(orginal_data.reshape(1,-1))"
   ]
  },
  {
   "cell_type": "code",
   "execution_count": 28,
   "id": "be7e7753-8200-48f5-a05e-ba135be50af9",
   "metadata": {
    "tags": []
   },
   "outputs": [
    {
     "data": {
      "text/plain": [
       "(array([ 3., 20., 51., 77., 44., 15., 42., 38., 28., 15.]),\n",
       " array([0.00257016, 0.00265832, 0.00274648, 0.00283464, 0.00292281,\n",
       "        0.00301097, 0.00309913, 0.00318729, 0.00327546, 0.00336362,\n",
       "        0.00345178]),\n",
       " <BarContainer object of 10 artists>)"
      ]
     },
     "execution_count": 28,
     "metadata": {},
     "output_type": "execute_result"
    },
    {
     "data": {
      "image/png": "[encoded data removed]",
      "text/plain": [
       "<Figure size 640x480 with 1 Axes>"
      ]
     },
     "metadata": {},
     "output_type": "display_data"
    }
   ],
   "source": [
    "plt.hist(norm_data.ravel())"
   ]
  },
  {
   "cell_type": "markdown",
   "id": "55ff367a-0966-4e73-bb55-2222bccb6e2f",
   "metadata": {
    "tags": []
   },
   "source": [
    "### Quantile Transformer"
   ]
  },
  {
   "cell_type": "code",
   "execution_count": 29,
   "id": "5ea2f704-c514-48ff-b724-c8f9a896e2cd",
   "metadata": {
    "tags": []
   },
   "outputs": [],
   "source": [
    "from sklearn.preprocessing import QuantileTransformer"
   ]
  },
  {
   "cell_type": "code",
   "execution_count": 30,
   "id": "3e44cbda-586b-469f-a139-0e33e88f71d0",
   "metadata": {
    "tags": []
   },
   "outputs": [],
   "source": [
    "quant_transformer = QuantileTransformer(n_quantiles=12)"
   ]
  },
  {
   "cell_type": "code",
   "execution_count": 31,
   "id": "64066ef6-3313-480c-b24c-5d57e4deeeb9",
   "metadata": {
    "tags": []
   },
   "outputs": [],
   "source": [
    "quant_transformed = quant_transformer.fit_transform(orginal_data.reshape(-1, 1))"
   ]
  },
  {
   "cell_type": "code",
   "execution_count": 32,
   "id": "1b17c2fb-829b-4b26-a371-6ffadf25eaaa",
   "metadata": {
    "tags": []
   },
   "outputs": [
    {
     "data": {
      "text/plain": [
       "(array([39., 22., 34., 39., 37., 33., 33., 32., 29., 35.]),\n",
       " array([0. , 0.1, 0.2, 0.3, 0.4, 0.5, 0.6, 0.7, 0.8, 0.9, 1. ]),\n",
       " <BarContainer object of 10 artists>)"
      ]
     },
     "execution_count": 32,
     "metadata": {},
     "output_type": "execute_result"
    },
    {
     "data": {
      "image/png": "[encoded data removed]",
      "text/plain": [
       "<Figure size 640x480 with 1 Axes>"
      ]
     },
     "metadata": {},
     "output_type": "display_data"
    }
   ],
   "source": [
    "plt.hist(quant_transformed)"
   ]
  },
  {
   "cell_type": "markdown",
   "id": "998cac71-4b42-4f7d-81b8-3f2714b5a287",
   "metadata": {
    "tags": []
   },
   "source": [
    "# Dataset splitting"
   ]
  },
  {
   "cell_type": "markdown",
   "id": "baa39e6e-e395-457b-8b5e-c4b63b1521b7",
   "metadata": {},
   "source": [
    "### Why do you need a Validation set, and not just a testing set?"
   ]
  },
  {
   "cell_type": "markdown",
   "id": "2eb10feb-50ee-431b-958e-d3d8648fb665",
   "metadata": {},
   "source": [
    "Testing Dataset:\n",
    "\n",
    "- Unseen Data: The testing dataset is used to evaluate the final performance of a trained model. It contains data that the model has never seen during training or validation, simulating real-world scenarios where the model encounters new, unseen examples.\n",
    "\n",
    "- Performance Assessment: The primary purpose of the testing dataset is to provide an unbiased and accurate estimate of the model's generalization performance. It helps determine how well the model can handle new, previously unseen data and whether it meets the desired level of performance.\n",
    "\n",
    "- No Influence on Model Training: The testing dataset should not be used in any part of the model training process, including hyperparameter tuning or feature selection. Using the testing dataset for such purposes can lead to data leakage and overfitting, compromising the model's ability to generalize to new data.\n",
    "\n",
    "Validation Training Set:\n",
    "\n",
    "- Model Selection and Hyperparameter Tuning: The validation training set is an intermediate dataset used during model development. It is used to train and evaluate the model with different hyperparameter configurations or model architectures. The goal is to find the best-performing model before final evaluation on the testing dataset.\n",
    "\n",
    "- Guarding Against Overfitting: The validation training set allows monitoring the model's performance during training and detecting overfitting. By observing the model's performance on both the training and validation sets, one can adjust the model complexity or apply regularization techniques to prevent overfitting.\n",
    "\n",
    "- Influence on Model Training: The validation training set is used during the model selection and hyperparameter tuning process. It plays a role in the model development and optimization phase, and its performance guides decisions on how to improve the model before the final evaluation on the testing dataset.\n",
    "\n",
    "In summary, the testing dataset serves as a final checkpoint for evaluating the model's performance on completely new data, while the validation training set is an intermediate dataset used for model development, selection, and optimization before the final evaluation. Both datasets are critical in ensuring the model's generalization and effectiveness in real-world applications."
   ]
  },
  {
   "cell_type": "markdown",
   "id": "7fdffdca-fd4a-4d4f-9b29-f3dbf74200e3",
   "metadata": {},
   "source": [
    "### Why should you never test using your training dataset?"
   ]
  },
  {
   "cell_type": "markdown",
   "id": "0239498a-fe6c-4d72-9680-56b9570b88ae",
   "metadata": {
    "tags": []
   },
   "source": [
    "- Overfitting: When you test on the same data that you used for training, the model already \"knows\" the training examples and can memorize the patterns specific to the training data. This can result in overfitting, where the model performs very well on the training data but fails to generalize to new data. Essentially, the model has not learned to capture the underlying patterns but rather memorized the training samples.\n",
    "\n",
    "- Bias in Evaluation: Testing on the training dataset can introduce bias in the evaluation process. The model has already seen these examples during training, and as a result, it may have learned specific details or noise present in the training data that may not be present in new data. Consequently, the evaluation metrics obtained from testing on the training dataset do not represent the true performance of the model on unseen data.\n",
    "\n",
    "- Lack of Generalization Assessment: The main purpose of testing is to assess how well the model generalizes to new, unseen data. By testing on the training dataset, you miss the opportunity to gauge the model's generalization capability and may not be aware of potential issues when deploying the model in real-world scenarios.\n",
    "\n",
    "To accurately evaluate a model's performance and generalization ability, it is essential to reserve a separate dataset (usually referred to as the testing dataset) that the model has never seen during training. This dataset acts as a fair and unbiased evaluation benchmark, providing a realistic estimate of the model's performance on new data. Using a testing dataset ensures that your model's performance assessment is more reliable and representative of its real-world effectiveness."
   ]
  },
  {
   "cell_type": "markdown",
   "id": "787e01e9-1df3-421c-83d3-a594acff43ba",
   "metadata": {},
   "source": [
    "### Code to create Training, testing, and Validation datasets"
   ]
  },
  {
   "cell_type": "code",
   "execution_count": 33,
   "id": "48399592-633d-4cce-ac11-9682b040476c",
   "metadata": {
    "tags": []
   },
   "outputs": [],
   "source": [
    "# Assuming you have your features (X) and labels (y) data ready.\n",
    "# X is the feature matrix, and y is the target variable.\n",
    "\n",
    "# Split the data into 80% train and 20% test (or any other ratio you prefer).\n",
    "X_train, X_test, y_train, y_test = train_test_split(X, y, test_size=0.2, random_state=42)\n",
    "\n",
    "# Now, split the training data again into 80% actual training and 20% validation sets.\n",
    "X_train, X_val, y_train, y_val = train_test_split(X_train, y_train, test_size=0.2, random_state=42)"
   ]
  },
  {
   "cell_type": "code",
   "execution_count": 34,
   "id": "c25f1a59-ad27-4118-a1fb-b3804e40f770",
   "metadata": {
    "tags": []
   },
   "outputs": [
    {
     "data": {
      "image/png": "[encoded data removed]",
      "text/plain": [
       "<Figure size 640x480 with 1 Axes>"
      ]
     },
     "metadata": {},
     "output_type": "display_data"
    }
   ],
   "source": [
    "# Calculate the median for each dataset\n",
    "median_train = np.median(y_train)\n",
    "median_test = np.median(y_test)\n",
    "median_val = np.median(y_val)\n",
    "\n",
    "# Plot the histograms\n",
    "plt.hist(y_train, bins=11, label='train')\n",
    "plt.hist(y_test, bins=11, label='test')\n",
    "plt.hist(y_val, bins=11, label='validation')\n",
    "\n",
    "# Plot the median lines\n",
    "plt.axvline(median_train, color='r', linestyle='dashed', linewidth=2, label='train median')\n",
    "plt.axvline(median_test, color='g', linestyle='dashed', linewidth=2, label='test median')\n",
    "plt.axvline(median_val, color='b', linestyle='dashed', linewidth=2, label='validation median')\n",
    "\n",
    "# Add legend\n",
    "plt.legend()\n",
    "\n",
    "# Show the plot\n",
    "plt.show()"
   ]
  },
  {
   "cell_type": "markdown",
   "id": "153118f4-104e-45ae-bef1-80f0e5d3acca",
   "metadata": {},
   "source": [
    "What could be a problem of this splitting technique?"
   ]
  },
  {
   "cell_type": "code",
   "execution_count": null,
   "id": "664bc467-f0eb-4b7f-a8af-2151574840b0",
   "metadata": {},
   "outputs": [],
   "source": []
  }
 ],
 "metadata": {
  "kernelspec": {
   "display_name": "Python [conda env:unidata-cpu]",
   "language": "python",
   "name": "conda-env-unidata-cpu-py"
  },
  "language_info": {
   "codemirror_mode": {
    "name": "ipython",
    "version": 3
   },
   "file_extension": ".py",
   "mimetype": "text/x-python",
   "name": "python",
   "nbconvert_exporter": "python",
   "pygments_lexer": "ipython3",
   "version": "3.10.0"
  }
 },
 "nbformat": 4,
 "nbformat_minor": 5
}

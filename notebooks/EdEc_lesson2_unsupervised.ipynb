{
 "cells": [
  {
   "cell_type": "markdown",
   "id": "8667a400-4633-43b0-b92b-b621ec19e4b3",
   "metadata": {
    "id": "8667a400-4633-43b0-b92b-b621ec19e4b3",
    "tags": []
   },
   "source": [
    "# NCAR EdEc Bootcamp, Lesson 2"
   ]
  },
  {
   "cell_type": "markdown",
   "id": "954be560-a0cb-451f-b3af-41b5f8701b25",
   "metadata": {},
   "source": [
    "Quick notebook on clustering"
   ]
  },
  {
   "cell_type": "markdown",
   "id": "f8707d48-043e-469c-9efe-602fbcf004fa",
   "metadata": {
    "id": "f8707d48-043e-469c-9efe-602fbcf004fa"
   },
   "source": [
    "## Python Imports"
   ]
  },
  {
   "cell_type": "code",
   "execution_count": 1,
   "id": "a7b7c6d4-d305-4b95-99a5-7e8ff2b09fb8",
   "metadata": {
    "id": "a7b7c6d4-d305-4b95-99a5-7e8ff2b09fb8",
    "tags": []
   },
   "outputs": [],
   "source": [
    "import pandas as pd\n",
    "import numpy as np\n",
    "\n",
    "# Dataset\n",
    "from palmerpenguins import load_penguins\n",
    "\n",
    "# Plotting\n",
    "import matplotlib.pyplot as plt\n",
    "import seaborn as sns\n",
    "\n",
    "# Machine Learning\n",
    "import sklearn"
   ]
  },
  {
   "cell_type": "code",
   "execution_count": 2,
   "id": "54ab835c-5678-4b98-aaa6-be1cd8397ce2",
   "metadata": {
    "colab": {
     "base_uri": "https://localhost:8080/"
    },
    "id": "54ab835c-5678-4b98-aaa6-be1cd8397ce2",
    "outputId": "2652ae05-a4f6-4369-d20a-cb69ce03faf0",
    "tags": []
   },
   "outputs": [
    {
     "name": "stdout",
     "output_type": "stream",
     "text": [
      "scikit-learn version: 1.3.0\n"
     ]
    }
   ],
   "source": [
    "print('scikit-learn version:', sklearn.__version__)"
   ]
  },
  {
   "cell_type": "markdown",
   "id": "d20b458a-926e-492b-85bf-97a0f5228e78",
   "metadata": {
    "id": "d20b458a-926e-492b-85bf-97a0f5228e78",
    "tags": []
   },
   "source": [
    "## Dataset Loading"
   ]
  },
  {
   "cell_type": "code",
   "execution_count": 3,
   "id": "3a96f4d2-bf16-4881-a2cf-55d491d78095",
   "metadata": {
    "colab": {
     "base_uri": "https://localhost:8080/",
     "height": 206
    },
    "id": "3a96f4d2-bf16-4881-a2cf-55d491d78095",
    "outputId": "2558a314-c83e-43e8-965b-7f606a966868",
    "tags": []
   },
   "outputs": [
    {
     "data": {
      "text/html": [
       "<div>\n",
       "<style scoped>\n",
       "    .dataframe tbody tr th:only-of-type {\n",
       "        vertical-align: middle;\n",
       "    }\n",
       "\n",
       "    .dataframe tbody tr th {\n",
       "        vertical-align: top;\n",
       "    }\n",
       "\n",
       "    .dataframe thead th {\n",
       "        text-align: right;\n",
       "    }\n",
       "</style>\n",
       "<table border=\"1\" class=\"dataframe\">\n",
       "  <thead>\n",
       "    <tr style=\"text-align: right;\">\n",
       "      <th></th>\n",
       "      <th>species</th>\n",
       "      <th>island</th>\n",
       "      <th>bill_length_mm</th>\n",
       "      <th>bill_depth_mm</th>\n",
       "      <th>flipper_length_mm</th>\n",
       "      <th>body_mass_g</th>\n",
       "      <th>sex</th>\n",
       "      <th>year</th>\n",
       "    </tr>\n",
       "  </thead>\n",
       "  <tbody>\n",
       "    <tr>\n",
       "      <th>0</th>\n",
       "      <td>Adelie</td>\n",
       "      <td>Torgersen</td>\n",
       "      <td>39.1</td>\n",
       "      <td>18.7</td>\n",
       "      <td>181.0</td>\n",
       "      <td>3750.0</td>\n",
       "      <td>male</td>\n",
       "      <td>2007</td>\n",
       "    </tr>\n",
       "    <tr>\n",
       "      <th>1</th>\n",
       "      <td>Adelie</td>\n",
       "      <td>Torgersen</td>\n",
       "      <td>39.5</td>\n",
       "      <td>17.4</td>\n",
       "      <td>186.0</td>\n",
       "      <td>3800.0</td>\n",
       "      <td>female</td>\n",
       "      <td>2007</td>\n",
       "    </tr>\n",
       "    <tr>\n",
       "      <th>2</th>\n",
       "      <td>Adelie</td>\n",
       "      <td>Torgersen</td>\n",
       "      <td>40.3</td>\n",
       "      <td>18.0</td>\n",
       "      <td>195.0</td>\n",
       "      <td>3250.0</td>\n",
       "      <td>female</td>\n",
       "      <td>2007</td>\n",
       "    </tr>\n",
       "    <tr>\n",
       "      <th>3</th>\n",
       "      <td>Adelie</td>\n",
       "      <td>Torgersen</td>\n",
       "      <td>NaN</td>\n",
       "      <td>NaN</td>\n",
       "      <td>NaN</td>\n",
       "      <td>NaN</td>\n",
       "      <td>NaN</td>\n",
       "      <td>2007</td>\n",
       "    </tr>\n",
       "    <tr>\n",
       "      <th>4</th>\n",
       "      <td>Adelie</td>\n",
       "      <td>Torgersen</td>\n",
       "      <td>36.7</td>\n",
       "      <td>19.3</td>\n",
       "      <td>193.0</td>\n",
       "      <td>3450.0</td>\n",
       "      <td>female</td>\n",
       "      <td>2007</td>\n",
       "    </tr>\n",
       "  </tbody>\n",
       "</table>\n",
       "</div>"
      ],
      "text/plain": [
       "  species     island  bill_length_mm  bill_depth_mm  flipper_length_mm  \\\n",
       "0  Adelie  Torgersen            39.1           18.7              181.0   \n",
       "1  Adelie  Torgersen            39.5           17.4              186.0   \n",
       "2  Adelie  Torgersen            40.3           18.0              195.0   \n",
       "3  Adelie  Torgersen             NaN            NaN                NaN   \n",
       "4  Adelie  Torgersen            36.7           19.3              193.0   \n",
       "\n",
       "   body_mass_g     sex  year  \n",
       "0       3750.0    male  2007  \n",
       "1       3800.0  female  2007  \n",
       "2       3250.0  female  2007  \n",
       "3          NaN     NaN  2007  \n",
       "4       3450.0  female  2007  "
      ]
     },
     "execution_count": 3,
     "metadata": {},
     "output_type": "execute_result"
    }
   ],
   "source": [
    "df = load_penguins()\n",
    "df.head()"
   ]
  },
  {
   "cell_type": "code",
   "execution_count": 4,
   "id": "721db1c2-a3b7-4f62-904b-a14272282b01",
   "metadata": {
    "colab": {
     "base_uri": "https://localhost:8080/",
     "height": 424
    },
    "id": "721db1c2-a3b7-4f62-904b-a14272282b01",
    "outputId": "c60c1009-9a51-42b8-fda1-0395fda2774f",
    "tags": []
   },
   "outputs": [
    {
     "data": {
      "text/html": [
       "<div>\n",
       "<style scoped>\n",
       "    .dataframe tbody tr th:only-of-type {\n",
       "        vertical-align: middle;\n",
       "    }\n",
       "\n",
       "    .dataframe tbody tr th {\n",
       "        vertical-align: top;\n",
       "    }\n",
       "\n",
       "    .dataframe thead th {\n",
       "        text-align: right;\n",
       "    }\n",
       "</style>\n",
       "<table border=\"1\" class=\"dataframe\">\n",
       "  <thead>\n",
       "    <tr style=\"text-align: right;\">\n",
       "      <th></th>\n",
       "      <th>species</th>\n",
       "      <th>island</th>\n",
       "      <th>bill_length_mm</th>\n",
       "      <th>bill_depth_mm</th>\n",
       "      <th>flipper_length_mm</th>\n",
       "      <th>body_mass_g</th>\n",
       "      <th>sex</th>\n",
       "      <th>year</th>\n",
       "    </tr>\n",
       "  </thead>\n",
       "  <tbody>\n",
       "    <tr>\n",
       "      <th>0</th>\n",
       "      <td>Adelie</td>\n",
       "      <td>Torgersen</td>\n",
       "      <td>39.1</td>\n",
       "      <td>18.7</td>\n",
       "      <td>181.0</td>\n",
       "      <td>3750.0</td>\n",
       "      <td>male</td>\n",
       "      <td>2007</td>\n",
       "    </tr>\n",
       "    <tr>\n",
       "      <th>1</th>\n",
       "      <td>Adelie</td>\n",
       "      <td>Torgersen</td>\n",
       "      <td>39.5</td>\n",
       "      <td>17.4</td>\n",
       "      <td>186.0</td>\n",
       "      <td>3800.0</td>\n",
       "      <td>female</td>\n",
       "      <td>2007</td>\n",
       "    </tr>\n",
       "    <tr>\n",
       "      <th>2</th>\n",
       "      <td>Adelie</td>\n",
       "      <td>Torgersen</td>\n",
       "      <td>40.3</td>\n",
       "      <td>18.0</td>\n",
       "      <td>195.0</td>\n",
       "      <td>3250.0</td>\n",
       "      <td>female</td>\n",
       "      <td>2007</td>\n",
       "    </tr>\n",
       "    <tr>\n",
       "      <th>3</th>\n",
       "      <td>Adelie</td>\n",
       "      <td>Torgersen</td>\n",
       "      <td>NaN</td>\n",
       "      <td>NaN</td>\n",
       "      <td>NaN</td>\n",
       "      <td>NaN</td>\n",
       "      <td>NaN</td>\n",
       "      <td>2007</td>\n",
       "    </tr>\n",
       "    <tr>\n",
       "      <th>4</th>\n",
       "      <td>Adelie</td>\n",
       "      <td>Torgersen</td>\n",
       "      <td>36.7</td>\n",
       "      <td>19.3</td>\n",
       "      <td>193.0</td>\n",
       "      <td>3450.0</td>\n",
       "      <td>female</td>\n",
       "      <td>2007</td>\n",
       "    </tr>\n",
       "    <tr>\n",
       "      <th>...</th>\n",
       "      <td>...</td>\n",
       "      <td>...</td>\n",
       "      <td>...</td>\n",
       "      <td>...</td>\n",
       "      <td>...</td>\n",
       "      <td>...</td>\n",
       "      <td>...</td>\n",
       "      <td>...</td>\n",
       "    </tr>\n",
       "    <tr>\n",
       "      <th>339</th>\n",
       "      <td>Chinstrap</td>\n",
       "      <td>Dream</td>\n",
       "      <td>55.8</td>\n",
       "      <td>19.8</td>\n",
       "      <td>207.0</td>\n",
       "      <td>4000.0</td>\n",
       "      <td>male</td>\n",
       "      <td>2009</td>\n",
       "    </tr>\n",
       "    <tr>\n",
       "      <th>340</th>\n",
       "      <td>Chinstrap</td>\n",
       "      <td>Dream</td>\n",
       "      <td>43.5</td>\n",
       "      <td>18.1</td>\n",
       "      <td>202.0</td>\n",
       "      <td>3400.0</td>\n",
       "      <td>female</td>\n",
       "      <td>2009</td>\n",
       "    </tr>\n",
       "    <tr>\n",
       "      <th>341</th>\n",
       "      <td>Chinstrap</td>\n",
       "      <td>Dream</td>\n",
       "      <td>49.6</td>\n",
       "      <td>18.2</td>\n",
       "      <td>193.0</td>\n",
       "      <td>3775.0</td>\n",
       "      <td>male</td>\n",
       "      <td>2009</td>\n",
       "    </tr>\n",
       "    <tr>\n",
       "      <th>342</th>\n",
       "      <td>Chinstrap</td>\n",
       "      <td>Dream</td>\n",
       "      <td>50.8</td>\n",
       "      <td>19.0</td>\n",
       "      <td>210.0</td>\n",
       "      <td>4100.0</td>\n",
       "      <td>male</td>\n",
       "      <td>2009</td>\n",
       "    </tr>\n",
       "    <tr>\n",
       "      <th>343</th>\n",
       "      <td>Chinstrap</td>\n",
       "      <td>Dream</td>\n",
       "      <td>50.2</td>\n",
       "      <td>18.7</td>\n",
       "      <td>198.0</td>\n",
       "      <td>3775.0</td>\n",
       "      <td>female</td>\n",
       "      <td>2009</td>\n",
       "    </tr>\n",
       "  </tbody>\n",
       "</table>\n",
       "<p>344 rows × 8 columns</p>\n",
       "</div>"
      ],
      "text/plain": [
       "       species     island  bill_length_mm  bill_depth_mm  flipper_length_mm  \\\n",
       "0       Adelie  Torgersen            39.1           18.7              181.0   \n",
       "1       Adelie  Torgersen            39.5           17.4              186.0   \n",
       "2       Adelie  Torgersen            40.3           18.0              195.0   \n",
       "3       Adelie  Torgersen             NaN            NaN                NaN   \n",
       "4       Adelie  Torgersen            36.7           19.3              193.0   \n",
       "..         ...        ...             ...            ...                ...   \n",
       "339  Chinstrap      Dream            55.8           19.8              207.0   \n",
       "340  Chinstrap      Dream            43.5           18.1              202.0   \n",
       "341  Chinstrap      Dream            49.6           18.2              193.0   \n",
       "342  Chinstrap      Dream            50.8           19.0              210.0   \n",
       "343  Chinstrap      Dream            50.2           18.7              198.0   \n",
       "\n",
       "     body_mass_g     sex  year  \n",
       "0         3750.0    male  2007  \n",
       "1         3800.0  female  2007  \n",
       "2         3250.0  female  2007  \n",
       "3            NaN     NaN  2007  \n",
       "4         3450.0  female  2007  \n",
       "..           ...     ...   ...  \n",
       "339       4000.0    male  2009  \n",
       "340       3400.0  female  2009  \n",
       "341       3775.0    male  2009  \n",
       "342       4100.0    male  2009  \n",
       "343       3775.0  female  2009  \n",
       "\n",
       "[344 rows x 8 columns]"
      ]
     },
     "execution_count": 4,
     "metadata": {},
     "output_type": "execute_result"
    }
   ],
   "source": [
    "dfredf = df.drop(['year'], axis=1)\n",
    "df"
   ]
  },
  {
   "cell_type": "markdown",
   "id": "5b8cb230-6c15-4a4d-9d90-63d4350e8666",
   "metadata": {
    "id": "5b8cb230-6c15-4a4d-9d90-63d4350e8666"
   },
   "source": [
    "We can also get a count of all the nans in the dataset:"
   ]
  },
  {
   "cell_type": "code",
   "execution_count": 5,
   "id": "0wLKEeAsp2uX",
   "metadata": {
    "colab": {
     "base_uri": "https://localhost:8080/"
    },
    "id": "0wLKEeAsp2uX",
    "outputId": "ee31bf81-f994-4dc2-ca5e-405be49eeac4",
    "tags": []
   },
   "outputs": [
    {
     "data": {
      "text/plain": [
       "species               0\n",
       "island                0\n",
       "bill_length_mm        2\n",
       "bill_depth_mm         2\n",
       "flipper_length_mm     2\n",
       "body_mass_g           2\n",
       "sex                  11\n",
       "year                  0\n",
       "dtype: int64"
      ]
     },
     "execution_count": 5,
     "metadata": {},
     "output_type": "execute_result"
    }
   ],
   "source": [
    "df.isna().sum()"
   ]
  },
  {
   "cell_type": "code",
   "execution_count": 6,
   "id": "664bc467-f0eb-4b7f-a8af-2151574840b0",
   "metadata": {
    "colab": {
     "base_uri": "https://localhost:8080/",
     "height": 300
    },
    "id": "664bc467-f0eb-4b7f-a8af-2151574840b0",
    "outputId": "1cf3741b-0176-4921-a40e-9e86a600dd33",
    "tags": []
   },
   "outputs": [
    {
     "data": {
      "text/html": [
       "<div>\n",
       "<style scoped>\n",
       "    .dataframe tbody tr th:only-of-type {\n",
       "        vertical-align: middle;\n",
       "    }\n",
       "\n",
       "    .dataframe tbody tr th {\n",
       "        vertical-align: top;\n",
       "    }\n",
       "\n",
       "    .dataframe thead th {\n",
       "        text-align: right;\n",
       "    }\n",
       "</style>\n",
       "<table border=\"1\" class=\"dataframe\">\n",
       "  <thead>\n",
       "    <tr style=\"text-align: right;\">\n",
       "      <th></th>\n",
       "      <th>bill_length_mm</th>\n",
       "      <th>bill_depth_mm</th>\n",
       "      <th>flipper_length_mm</th>\n",
       "      <th>body_mass_g</th>\n",
       "      <th>year</th>\n",
       "    </tr>\n",
       "  </thead>\n",
       "  <tbody>\n",
       "    <tr>\n",
       "      <th>count</th>\n",
       "      <td>333.000000</td>\n",
       "      <td>333.000000</td>\n",
       "      <td>333.000000</td>\n",
       "      <td>333.000000</td>\n",
       "      <td>333.000000</td>\n",
       "    </tr>\n",
       "    <tr>\n",
       "      <th>mean</th>\n",
       "      <td>43.992793</td>\n",
       "      <td>17.164865</td>\n",
       "      <td>200.966967</td>\n",
       "      <td>4207.057057</td>\n",
       "      <td>2008.042042</td>\n",
       "    </tr>\n",
       "    <tr>\n",
       "      <th>std</th>\n",
       "      <td>5.468668</td>\n",
       "      <td>1.969235</td>\n",
       "      <td>14.015765</td>\n",
       "      <td>805.215802</td>\n",
       "      <td>0.812944</td>\n",
       "    </tr>\n",
       "    <tr>\n",
       "      <th>min</th>\n",
       "      <td>32.100000</td>\n",
       "      <td>13.100000</td>\n",
       "      <td>172.000000</td>\n",
       "      <td>2700.000000</td>\n",
       "      <td>2007.000000</td>\n",
       "    </tr>\n",
       "    <tr>\n",
       "      <th>25%</th>\n",
       "      <td>39.500000</td>\n",
       "      <td>15.600000</td>\n",
       "      <td>190.000000</td>\n",
       "      <td>3550.000000</td>\n",
       "      <td>2007.000000</td>\n",
       "    </tr>\n",
       "    <tr>\n",
       "      <th>50%</th>\n",
       "      <td>44.500000</td>\n",
       "      <td>17.300000</td>\n",
       "      <td>197.000000</td>\n",
       "      <td>4050.000000</td>\n",
       "      <td>2008.000000</td>\n",
       "    </tr>\n",
       "    <tr>\n",
       "      <th>75%</th>\n",
       "      <td>48.600000</td>\n",
       "      <td>18.700000</td>\n",
       "      <td>213.000000</td>\n",
       "      <td>4775.000000</td>\n",
       "      <td>2009.000000</td>\n",
       "    </tr>\n",
       "    <tr>\n",
       "      <th>max</th>\n",
       "      <td>59.600000</td>\n",
       "      <td>21.500000</td>\n",
       "      <td>231.000000</td>\n",
       "      <td>6300.000000</td>\n",
       "      <td>2009.000000</td>\n",
       "    </tr>\n",
       "  </tbody>\n",
       "</table>\n",
       "</div>"
      ],
      "text/plain": [
       "       bill_length_mm  bill_depth_mm  flipper_length_mm  body_mass_g  \\\n",
       "count      333.000000     333.000000         333.000000   333.000000   \n",
       "mean        43.992793      17.164865         200.966967  4207.057057   \n",
       "std          5.468668       1.969235          14.015765   805.215802   \n",
       "min         32.100000      13.100000         172.000000  2700.000000   \n",
       "25%         39.500000      15.600000         190.000000  3550.000000   \n",
       "50%         44.500000      17.300000         197.000000  4050.000000   \n",
       "75%         48.600000      18.700000         213.000000  4775.000000   \n",
       "max         59.600000      21.500000         231.000000  6300.000000   \n",
       "\n",
       "              year  \n",
       "count   333.000000  \n",
       "mean   2008.042042  \n",
       "std       0.812944  \n",
       "min    2007.000000  \n",
       "25%    2007.000000  \n",
       "50%    2008.000000  \n",
       "75%    2009.000000  \n",
       "max    2009.000000  "
      ]
     },
     "execution_count": 6,
     "metadata": {},
     "output_type": "execute_result"
    }
   ],
   "source": [
    "df = df.dropna() # this drops all rows with a nan in it\n",
    "df.describe()"
   ]
  },
  {
   "cell_type": "markdown",
   "id": "ca808942-40e7-4fe3-a612-d428c7673429",
   "metadata": {},
   "source": [
    "## Let's scale the dataset:"
   ]
  },
  {
   "cell_type": "code",
   "execution_count": 7,
   "id": "KHhSZekiqhhZ",
   "metadata": {
    "id": "KHhSZekiqhhZ",
    "tags": []
   },
   "outputs": [],
   "source": [
    "from sklearn.preprocessing import StandardScaler\n",
    "scaler = StandardScaler()"
   ]
  },
  {
   "cell_type": "code",
   "execution_count": 8,
   "id": "B5xYNWUfrO6V",
   "metadata": {
    "colab": {
     "base_uri": "https://localhost:8080/"
    },
    "id": "B5xYNWUfrO6V",
    "outputId": "ce91800b-3086-4ff9-af88-70b44cdb7200",
    "tags": []
   },
   "outputs": [
    {
     "data": {
      "text/plain": [
       "['bill_length_mm', 'bill_depth_mm', 'flipper_length_mm', 'body_mass_g']"
      ]
     },
     "execution_count": 8,
     "metadata": {},
     "output_type": "execute_result"
    }
   ],
   "source": [
    "float_columns = df.select_dtypes(include=['float64', 'float32'])\n",
    "float_column_names = float_columns.columns.tolist()\n",
    "float_column_names"
   ]
  },
  {
   "cell_type": "code",
   "execution_count": 9,
   "id": "65Nas9Q8q5kk",
   "metadata": {
    "colab": {
     "base_uri": "https://localhost:8080/"
    },
    "id": "65Nas9Q8q5kk",
    "outputId": "238490f0-5c38-450a-f1be-d2d0eaa0114b",
    "tags": []
   },
   "outputs": [
    {
     "data": {
      "text/plain": [
       "(333, 4)"
      ]
     },
     "execution_count": 9,
     "metadata": {},
     "output_type": "execute_result"
    }
   ],
   "source": [
    "from sklearn.preprocessing import StandardScaler\n",
    "scaler = StandardScaler()\n",
    "\n",
    "std_scaled = scaler.fit_transform(float_columns, y=None)\n",
    "np.shape(std_scaled)"
   ]
  },
  {
   "cell_type": "markdown",
   "id": "fG01t-2guBt5",
   "metadata": {
    "id": "fG01t-2guBt5"
   },
   "source": [
    "# Clustering (or unsupervised ML)"
   ]
  },
  {
   "cell_type": "markdown",
   "id": "dc69499e-351e-485f-8a21-c85514270fdb",
   "metadata": {},
   "source": [
    "Unsupervised machine learning is a subset of AI where algorithms analyze and find patterns in data without predefined labels or categories. It involves clustering, where data points are grouped based on similarities, and dimensionality reduction, which simplifies complex data while retaining essential information. Unlike supervised learning, there are no target outputs to guide the learning process, making it useful for exploring data and uncovering hidden structures. Unsupervised ML has applications in fields like data exploration, anomaly detection, and recommendation systems, contributing to a deeper understanding of data without explicit guidance."
   ]
  },
  {
   "cell_type": "markdown",
   "id": "4c796902-9d6f-4dc2-8d59-769523e05098",
   "metadata": {},
   "source": [
    "#### Top 5 Clusterings Algo's"
   ]
  },
  {
   "cell_type": "markdown",
   "id": "1a35bc06-8df2-4bb0-9620-e3c294485ec5",
   "metadata": {},
   "source": [
    "- K-Means: K-Means is a popular centroid-based clustering algorithm. It partitions data points into 'K' clusters, where each cluster is represented by the mean of the data points in that cluster. It aims to minimize the distance between data points and their respective cluster centroids.\n",
    "\n",
    "- Hierarchical Clustering: Hierarchical clustering creates a tree of clusters by successively merging or splitting clusters based on a chosen similarity metric. It results in a dendrogram that can be cut at different levels to form clusters of varying sizes.\n",
    "\n",
    "- DBSCAN (Density-Based Spatial Clustering of Applications with Noise): DBSCAN is a density-based algorithm that groups together data points that are close to each other in terms of a distance metric. It is particularly useful for discovering clusters of varying shapes and sizes, and it can identify noise points as well.\n",
    "\n",
    "- Gaussian Mixture Model (GMM): GMM is a probabilistic model that represents data as a mixture of several Gaussian distributions. It assumes that data points are generated from a mixture of multiple Gaussian distributions and assigns probabilities of belonging to each distribution, allowing for soft assignments.\n",
    "\n",
    "- Mean Shift: Mean Shift is a non-parametric algorithm that involves iteratively shifting a windowed kernel to the mode (peak) of the data distribution. It converges to areas of high data density, effectively identifying cluster centroids without requiring prior knowledge of the number of clusters."
   ]
  },
  {
   "cell_type": "markdown",
   "id": "dad74d3f-f3b4-4aca-8273-997171cacccb",
   "metadata": {
    "tags": []
   },
   "source": [
    "We will cover two of these below, but scikit-learn can do all of these, with a nice overview [here](https://scikit-learn.org/stable/modules/clustering.html)."
   ]
  },
  {
   "cell_type": "markdown",
   "id": "CaLmD3hZuNds",
   "metadata": {
    "id": "CaLmD3hZuNds"
   },
   "source": [
    "## KMeans"
   ]
  },
  {
   "cell_type": "code",
   "execution_count": 10,
   "id": "Z7_L2RErrGu4",
   "metadata": {
    "id": "Z7_L2RErrGu4",
    "tags": []
   },
   "outputs": [],
   "source": [
    "from sklearn.cluster import KMeans\n",
    "from sklearn.metrics import silhouette_score"
   ]
  },
  {
   "cell_type": "code",
   "execution_count": 11,
   "id": "gTgHMfIPuVT7",
   "metadata": {
    "colab": {
     "base_uri": "https://localhost:8080/",
     "height": 1000
    },
    "id": "gTgHMfIPuVT7",
    "outputId": "084fa3bf-cbbe-49ad-91e5-3c823c183216",
    "tags": []
   },
   "outputs": [
    {
     "data": {
      "image/png": "[encoded data removed]",
      "text/plain": [
       "<Figure size 1200x1000 with 6 Axes>"
      ]
     },
     "metadata": {},
     "output_type": "display_data"
    }
   ],
   "source": [
    "# Select the features you want to use for clustering\n",
    "features = float_column_names\n",
    "\n",
    "# Store inertia values for different numbers of clusters\n",
    "inertia_values = []\n",
    "\n",
    "# Store silhouette scores for different numbers of clusters\n",
    "silhouette_scores = []\n",
    "\n",
    "range_n_clusters = range(2, 8)\n",
    "\n",
    "# Create subplots grid\n",
    "n_rows = 2  # Number of rows in the subplot grid\n",
    "n_cols = 3  # Number of columns in the subplot grid\n",
    "fig, axes = plt.subplots(n_rows, n_cols, figsize=(12, 10), sharey=True)\n",
    "axes = axes.flatten()  # Flatten the 2D array of subplots for easier indexing\n",
    "\n",
    "# Set the same y-axis limits for all subplots\n",
    "y_limit = None  # Adjust this to your desired y-axis limit\n",
    "\n",
    "# Make empty dataframe\n",
    "df_empty = pd.DataFrame()\n",
    "\n",
    "# Loop through the cluster range\n",
    "for idx, n_clusters in enumerate(range_n_clusters):\n",
    "    # Initialize the KMeans algorithm with the current number of clusters\n",
    "    kmeans = KMeans(n_clusters=n_clusters, random_state=42, n_init='auto')\n",
    "\n",
    "    # Fit the algorithm to the data\n",
    "    kmeans.fit(std_scaled)\n",
    "\n",
    "    # Create column name for the cluster labels\n",
    "    cluster_column_name = f'cluster{n_clusters}'\n",
    "\n",
    "    # Add cluster labels to the DataFrame\n",
    "    df_empty[cluster_column_name] = kmeans.labels_\n",
    "\n",
    "    # Count the number of data points in each cluster\n",
    "    cluster_counts = df_empty[cluster_column_name].value_counts().sort_index()\n",
    "\n",
    "    # Create a bar chart for cluster counts in the appropriate subplot\n",
    "    ax = axes[idx]\n",
    "\n",
    "    # Add horizontal grid lines behind the bars\n",
    "    ax.yaxis.grid(True, linestyle='--', alpha=0.7, zorder=0)\n",
    "\n",
    "    cluster_counts.plot(kind='bar', ax=ax, zorder=3)  # Set higher zorder to bring bars in front\n",
    "    ax.set_title(f'Cluster Counts for {n_clusters} Clusters')\n",
    "    ax.set_xlabel('Cluster')\n",
    "    ax.set_ylabel('Count')\n",
    "    ax.set_xticks(cluster_counts.index)\n",
    "    ax.set_xticklabels(cluster_counts.index, rotation=0)\n",
    "\n",
    "    # Add horizontal grid lines behind the bars\n",
    "    ax.yaxis.grid(True, linestyle='--', alpha=0.6, zorder=0)\n",
    "\n",
    "    # Set y-axis limit if specified\n",
    "    if y_limit is not None:\n",
    "        ax.set_ylim(0, y_limit)\n",
    "\n",
    "    # Store inertia value\n",
    "    inertia_values.append(kmeans.inertia_)\n",
    "\n",
    "    # Calculate the silhouette score and store it\n",
    "    silhouette_scores.append(silhouette_score(df[features], kmeans.labels_))\n",
    "\n",
    "# Adjust layout and display the subplots\n",
    "plt.tight_layout()\n",
    "plt.show()"
   ]
  },
  {
   "cell_type": "code",
   "execution_count": 12,
   "id": "WzqZFAJpzjPE",
   "metadata": {
    "colab": {
     "base_uri": "https://localhost:8080/"
    },
    "id": "WzqZFAJpzjPE",
    "outputId": "d0ed678d-b925-4ee6-d13b-5b15fdeac155",
    "tags": []
   },
   "outputs": [
    {
     "name": "stdout",
     "output_type": "stream",
     "text": [
      "species   Adelie  Chinstrap  Gentoo\n",
      "cluster3                           \n",
      "0            119          5       0\n",
      "1              6          0     110\n",
      "2             21         52       9\n"
     ]
    }
   ],
   "source": [
    "# Create a cross-tabulation table\n",
    "cross_tab = pd.crosstab( df_empty['cluster3'], df['species'])\n",
    "\n",
    "print(cross_tab)"
   ]
  },
  {
   "cell_type": "code",
   "execution_count": 13,
   "id": "SWOmVLJGvFXd",
   "metadata": {
    "id": "SWOmVLJGvFXd"
   },
   "outputs": [],
   "source": [
    "# Notice anything about the clustering results in reguards to species?"
   ]
  },
  {
   "cell_type": "markdown",
   "id": "383_zO2a0FOB",
   "metadata": {
    "id": "383_zO2a0FOB"
   },
   "source": [
    "To pick the best number of clusters, you can use inerita and silhouette score.\n",
    "\n",
    "1. Inertia:\n",
    "Inertia, also known as within-cluster sum of squares, measures how compact the clusters are. It calculates the sum of squared distances between each data point and its assigned cluster's centroid. Lower inertia indicates that the data points within a cluster are closer to each other and therefore the clusters are more compact.\n",
    "\n",
    "2. Silhouette Score:\n",
    "Silhouette score measures how similar each data point is to its own cluster (cohesion) compared to other clusters (separation). The silhouette score ranges from -1 to 1. A high silhouette score indicates that the object is well matched to its own cluster and poorly matched to neighboring clusters."
   ]
  },
  {
   "cell_type": "code",
   "execution_count": 14,
   "id": "uMnXralExzb7",
   "metadata": {
    "colab": {
     "base_uri": "https://localhost:8080/",
     "height": 564
    },
    "id": "uMnXralExzb7",
    "outputId": "3ea284ae-7853-42fe-b0c5-f82b2c0c9742",
    "tags": []
   },
   "outputs": [
    {
     "data": {
      "image/png": "[encoded data removed]",
      "text/plain": [
       "<Figure size 1000x600 with 2 Axes>"
      ]
     },
     "metadata": {},
     "output_type": "display_data"
    }
   ],
   "source": [
    "# Create a figure and the first y-axis\n",
    "fig, ax1 = plt.subplots(figsize=(10, 6))\n",
    "\n",
    "# Plot silhouette score on the first y-axis\n",
    "ax1.plot(range(2, 8), silhouette_scores, marker='o', color='b', label='Silhouette Score')\n",
    "ax1.set_xlabel('Number of Clusters')\n",
    "ax1.set_ylabel('Silhouette Score', color='b')\n",
    "ax1.set_xticks(range(2, 8))\n",
    "ax1.tick_params(axis='y', labelcolor='b')\n",
    "ax1.set_title('Silhouette Score and Elbow Plot for KMeans Clustering')\n",
    "\n",
    "# Create a second y-axis on the right side\n",
    "ax2 = ax1.twinx()\n",
    "\n",
    "# Plot inertia on the second y-axis\n",
    "ax2.plot(range(2, 8), inertia_values, marker='o', color='r', label='Inertia')\n",
    "ax2.set_ylabel('Inertia', color='r')\n",
    "ax2.tick_params(axis='y', labelcolor='r')\n",
    "\n",
    "# Show legends for both y-axes\n",
    "lines, labels = ax1.get_legend_handles_labels()\n",
    "lines2, labels2 = ax2.get_legend_handles_labels()\n",
    "ax2.legend(lines + lines2, labels + labels2, loc='upper right')\n",
    "\n",
    "# Show the combined plot\n",
    "plt.show()"
   ]
  },
  {
   "cell_type": "markdown",
   "id": "-V92mxiZKTAI",
   "metadata": {
    "id": "-V92mxiZKTAI"
   },
   "source": [
    "### Some reasons to use KMEeans:"
   ]
  },
  {
   "cell_type": "markdown",
   "id": "frKDiKO16XBW",
   "metadata": {
    "id": "frKDiKO16XBW"
   },
   "source": [
    "**Simplicity and Speed**: K-means is relatively simple to understand and implement, making it an excellent choice for quickly gaining insights from unlabeled data. Its algorithmic simplicity contributes to its speed, allowing it to handle large datasets efficiently.\n",
    "\n",
    "**Scalability**: K-means can handle large datasets with ease, making it suitable for tasks involving a substantial amount of data points. Its time complexity is linear with the number of data points and the number of clusters, which makes it scalable to larger datasets.\n",
    "\n",
    "**Interpretability**: The output of K-means is intuitive – each data point is assigned to a cluster, and the cluster centers (centroids) are representative of the characteristics of the data within each cluster. This interpretability aids in understanding the inherent structure of the data.\n",
    "\n",
    "**Versatility**: K-means can be applied to various domains and data types, including numerical, categorical, and mixed data. It's also commonly used in image compression, recommendation systems, and customer segmentation, showcasing its versatility.\n",
    "\n",
    "**Initial Seed Control**: K-means allows for control over initial cluster center initialization, which can impact the final clustering results. This helps mitigate the sensitivity to initializations and improve the stability of the clustering."
   ]
  },
  {
   "cell_type": "markdown",
   "id": "4lXPwz4y6qZo",
   "metadata": {
    "id": "4lXPwz4y6qZo"
   },
   "source": [
    "## Mean Shift Clustering"
   ]
  },
  {
   "cell_type": "code",
   "execution_count": 15,
   "id": "Vds3jGX-yatB",
   "metadata": {
    "id": "Vds3jGX-yatB",
    "tags": []
   },
   "outputs": [],
   "source": [
    "from sklearn.cluster import MeanShift"
   ]
  },
  {
   "cell_type": "code",
   "execution_count": 16,
   "id": "TK1XeKH00Hje",
   "metadata": {
    "id": "TK1XeKH00Hje",
    "tags": []
   },
   "outputs": [],
   "source": [
    "# Define a list of bandwidth values to try\n",
    "bandwidths = [0.5, .75, 1.0, 1.25, 1.4, 1.5, 2.0]"
   ]
  },
  {
   "cell_type": "markdown",
   "id": "3a47b163-4b3c-4d13-b5f9-db0723210f59",
   "metadata": {},
   "source": [
    "How is this different from KMeans?"
   ]
  },
  {
   "cell_type": "code",
   "execution_count": 17,
   "id": "RMSxkqcWx9Cj",
   "metadata": {
    "colab": {
     "base_uri": "https://localhost:8080/"
    },
    "id": "RMSxkqcWx9Cj",
    "outputId": "c55cb94e-ad31-411b-fdd4-69850fd3529a",
    "tags": []
   },
   "outputs": [
    {
     "name": "stdout",
     "output_type": "stream",
     "text": [
      "Bandwidth: 0.50 - Number of Clusters: 72\n",
      "Bandwidth: 0.75 - Number of Clusters: 15\n",
      "Bandwidth: 1.00 - Number of Clusters: 4\n",
      "Bandwidth: 1.25 - Number of Clusters: 4\n",
      "Bandwidth: 1.40 - Number of Clusters: 3\n",
      "Bandwidth: 1.50 - Number of Clusters: 2\n",
      "Bandwidth: 2.00 - Number of Clusters: 2\n"
     ]
    }
   ],
   "source": [
    "for bandwidth in bandwidths:\n",
    "    # Create the Mean Shift clustering model\n",
    "    ms = MeanShift(bandwidth=bandwidth)\n",
    "\n",
    "    # Fit the model to the data\n",
    "    ms.fit(std_scaled)\n",
    "\n",
    "    # Get the number of clusters identified by the algorithm\n",
    "    n_clusters = len(np.unique(ms.labels_))\n",
    "\n",
    "    print(f\"Bandwidth: {bandwidth:.2f} - Number of Clusters: {n_clusters}\")"
   ]
  },
  {
   "cell_type": "code",
   "execution_count": 18,
   "id": "8dFrPoEwx34b",
   "metadata": {
    "id": "8dFrPoEwx34b",
    "tags": []
   },
   "outputs": [],
   "source": [
    "clustering = MeanShift(bandwidth=1.4).fit(std_scaled)"
   ]
  },
  {
   "cell_type": "markdown",
   "id": "5af927d7-988f-42f8-b8e1-920aaff2d8db",
   "metadata": {},
   "source": [
    "Feel free to adjust the bandwidth! "
   ]
  },
  {
   "cell_type": "code",
   "execution_count": 19,
   "id": "oWayPskj1ujW",
   "metadata": {
    "colab": {
     "base_uri": "https://localhost:8080/"
    },
    "id": "oWayPskj1ujW",
    "outputId": "81dae41d-1735-4874-a3d7-3b9b8365b6eb",
    "tags": []
   },
   "outputs": [
    {
     "name": "stdout",
     "output_type": "stream",
     "text": [
      "species  Adelie  Chinstrap  Gentoo\n",
      "row_0                             \n",
      "0           146         34       0\n",
      "1             0          1     119\n",
      "2             0         33       0\n"
     ]
    }
   ],
   "source": [
    "# Create a cross-tabulation table\n",
    "cross_tab = pd.crosstab( clustering.labels_, df['species'])\n",
    "\n",
    "print(cross_tab)"
   ]
  },
  {
   "cell_type": "markdown",
   "id": "86dd02c2-d191-4b55-88a9-7073a7fe8d1f",
   "metadata": {
    "id": "Y0rvCfRp2SOc",
    "tags": []
   },
   "source": [
    "Some Reasons why you might use mean shift over KMeans:\n",
    "\n",
    "- Number of Clusters: K-means requires the number of clusters to be specified in advance, whereas Mean Shift does not require this parameter. Mean Shift determines the number of clusters automatically based on the data distribution, making it more suitable when the number of clusters is not known beforehand.\n",
    "\n",
    "- Cluster Shape and Size: K-means assumes that clusters are spherical and equally sized. Mean Shift, on the other hand, can discover clusters of various shapes and sizes. It is particularly effective for identifying clusters with irregular shapes, non-uniform densities, and varying sizes.\n",
    "\n",
    "- Density Estimation: Mean Shift is essentially a density-based clustering algorithm. It identifies areas of high data density and converges towards the modes of the density function. This makes it robust to noise and capable of capturing clusters of varying densities, whereas K-means treats all clusters as having equal densities.\n",
    "\n",
    "- Data Distribution: Mean Shift is suitable for data with complex and non-linear distributions. It can identify clusters even when the data points are not well-separated or exhibit overlap, which can be a challenge for K-means.\n",
    "\n",
    "- Initialization Sensitivity: K-means is sensitive to the initial placement of centroids, which can lead to different results with different initializations. Mean Shift is less affected by initialization, as it doesn't rely on centroids. It starts with a random set of points and iteratively shifts them towards areas of higher density until convergence.\n",
    "\n",
    "- Parameter Tuning: Mean Shift has fewer hyperparameters to tune compared to K-means. This can simplify the process of finding optimal clustering solutions.\n",
    "\n",
    "- Algorithm Intuition: Mean Shift can be thought of as a \"hill-climbing\" algorithm that finds modes in the data distribution. This intuitive approach can be appealing and easy to understand, especially in scenarios where you want to find the \"peaks\" in your data."
   ]
  },
  {
   "cell_type": "code",
   "execution_count": 20,
   "id": "ca11677a-46b4-4545-b0e6-62b04cd75360",
   "metadata": {
    "tags": []
   },
   "outputs": [],
   "source": [
    "# your code here!"
   ]
  },
  {
   "cell_type": "markdown",
   "id": "318fd91f-baf0-41b2-89c5-a64f6f05f6a7",
   "metadata": {},
   "source": [
    "the end"
   ]
  }
 ],
 "metadata": {
  "colab": {
   "provenance": []
  },
  "kernelspec": {
   "display_name": "Python [conda env:unidata-cpu]",
   "language": "python",
   "name": "conda-env-unidata-cpu-py"
  },
  "language_info": {
   "codemirror_mode": {
    "name": "ipython",
    "version": 3
   },
   "file_extension": ".py",
   "mimetype": "text/x-python",
   "name": "python",
   "nbconvert_exporter": "python",
   "pygments_lexer": "ipython3",
   "version": "3.10.0"
  }
 },
 "nbformat": 4,
 "nbformat_minor": 5
}

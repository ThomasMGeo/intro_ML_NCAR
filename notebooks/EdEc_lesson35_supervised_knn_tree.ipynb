{
 "cells": [
  {
   "cell_type": "markdown",
   "id": "8667a400-4633-43b0-b92b-b621ec19e4b3",
   "metadata": {
    "id": "8667a400-4633-43b0-b92b-b621ec19e4b3",
    "tags": []
   },
   "source": [
    "# NCAR EdEc Bootcamp, Non-Linear supervised scikit-learn models (Day 1, 2:40 PM)"
   ]
  },
  {
   "cell_type": "markdown",
   "id": "954be560-a0cb-451f-b3af-41b5f8701b25",
   "metadata": {},
   "source": [
    "Supervised Learning using non-linear methods (KNN and Decision Trees)."
   ]
  },
  {
   "cell_type": "markdown",
   "id": "24719975",
   "metadata": {},
   "source": [
    "ToDO: \n",
    "- Use Charlie's P Type data for classification\n",
    "- Use Atmospheric Ozone dataset for regression (to pre-process too)\n",
    "- interactivity slider bar for knn number of neighbors "
   ]
  },
  {
   "cell_type": "markdown",
   "id": "642b1d8e",
   "metadata": {},
   "source": [
    "#### Discussion: \n",
    "\n",
    "- Why would you need a non-linear model? \n",
    "- What are the potential downsides to a non-linear model? \n",
    "- Would your evaluation metrics change? "
   ]
  },
  {
   "cell_type": "markdown",
   "id": "465a2949",
   "metadata": {},
   "source": [
    "~5 minutes"
   ]
  },
  {
   "cell_type": "markdown",
   "id": "f8707d48-043e-469c-9efe-602fbcf004fa",
   "metadata": {
    "id": "f8707d48-043e-469c-9efe-602fbcf004fa"
   },
   "source": [
    "## Python Imports"
   ]
  },
  {
   "cell_type": "code",
   "execution_count": 1,
   "id": "a7b7c6d4-d305-4b95-99a5-7e8ff2b09fb8",
   "metadata": {
    "id": "a7b7c6d4-d305-4b95-99a5-7e8ff2b09fb8",
    "tags": []
   },
   "outputs": [],
   "source": [
    "import pandas as pd\n",
    "import numpy as np\n",
    "\n",
    "# Dataset\n",
    "from palmerpenguins import load_penguins # this will be removed for the new dataset\n",
    "\n",
    "# Plotting\n",
    "import matplotlib.pyplot as plt\n",
    "\n",
    "# Machine Learning\n",
    "import sklearn\n",
    "from sklearn.model_selection import train_test_split\n",
    "from sklearn.tree import DecisionTreeClassifier, plot_tree\n",
    "from sklearn.metrics import accuracy_score, confusion_matrix\n",
    "\n",
    "from sklearn import neighbors, datasets\n",
    "from matplotlib.colors import ListedColormap\n",
    "from sklearn.neighbors import KNeighborsClassifier"
   ]
  },
  {
   "cell_type": "code",
   "execution_count": 2,
   "id": "54ab835c-5678-4b98-aaa6-be1cd8397ce2",
   "metadata": {
    "colab": {
     "base_uri": "https://localhost:8080/"
    },
    "id": "54ab835c-5678-4b98-aaa6-be1cd8397ce2",
    "outputId": "2652ae05-a4f6-4369-d20a-cb69ce03faf0",
    "tags": []
   },
   "outputs": [
    {
     "name": "stdout",
     "output_type": "stream",
     "text": [
      "scikit-learn version: 1.3.0\n"
     ]
    }
   ],
   "source": [
    "print('scikit-learn version:', sklearn.__version__)"
   ]
  },
  {
   "cell_type": "markdown",
   "id": "d20b458a-926e-492b-85bf-97a0f5228e78",
   "metadata": {
    "id": "d20b458a-926e-492b-85bf-97a0f5228e78",
    "tags": []
   },
   "source": [
    "## Dataset Loading"
   ]
  },
  {
   "cell_type": "markdown",
   "id": "739d5ee9",
   "metadata": {},
   "source": [
    "This will be replaced with a charlie dataset :) "
   ]
  },
  {
   "cell_type": "code",
   "execution_count": 3,
   "id": "3a96f4d2-bf16-4881-a2cf-55d491d78095",
   "metadata": {
    "colab": {
     "base_uri": "https://localhost:8080/",
     "height": 206
    },
    "id": "3a96f4d2-bf16-4881-a2cf-55d491d78095",
    "outputId": "2558a314-c83e-43e8-965b-7f606a966868",
    "tags": []
   },
   "outputs": [
    {
     "data": {
      "text/html": [
       "<div>\n",
       "<style scoped>\n",
       "    .dataframe tbody tr th:only-of-type {\n",
       "        vertical-align: middle;\n",
       "    }\n",
       "\n",
       "    .dataframe tbody tr th {\n",
       "        vertical-align: top;\n",
       "    }\n",
       "\n",
       "    .dataframe thead th {\n",
       "        text-align: right;\n",
       "    }\n",
       "</style>\n",
       "<table border=\"1\" class=\"dataframe\">\n",
       "  <thead>\n",
       "    <tr style=\"text-align: right;\">\n",
       "      <th></th>\n",
       "      <th>species</th>\n",
       "      <th>island</th>\n",
       "      <th>bill_length_mm</th>\n",
       "      <th>bill_depth_mm</th>\n",
       "      <th>flipper_length_mm</th>\n",
       "      <th>body_mass_g</th>\n",
       "      <th>sex</th>\n",
       "      <th>year</th>\n",
       "    </tr>\n",
       "  </thead>\n",
       "  <tbody>\n",
       "    <tr>\n",
       "      <th>0</th>\n",
       "      <td>Adelie</td>\n",
       "      <td>Torgersen</td>\n",
       "      <td>39.1</td>\n",
       "      <td>18.7</td>\n",
       "      <td>181.0</td>\n",
       "      <td>3750.0</td>\n",
       "      <td>male</td>\n",
       "      <td>2007</td>\n",
       "    </tr>\n",
       "    <tr>\n",
       "      <th>1</th>\n",
       "      <td>Adelie</td>\n",
       "      <td>Torgersen</td>\n",
       "      <td>39.5</td>\n",
       "      <td>17.4</td>\n",
       "      <td>186.0</td>\n",
       "      <td>3800.0</td>\n",
       "      <td>female</td>\n",
       "      <td>2007</td>\n",
       "    </tr>\n",
       "    <tr>\n",
       "      <th>2</th>\n",
       "      <td>Adelie</td>\n",
       "      <td>Torgersen</td>\n",
       "      <td>40.3</td>\n",
       "      <td>18.0</td>\n",
       "      <td>195.0</td>\n",
       "      <td>3250.0</td>\n",
       "      <td>female</td>\n",
       "      <td>2007</td>\n",
       "    </tr>\n",
       "  </tbody>\n",
       "</table>\n",
       "</div>"
      ],
      "text/plain": [
       "  species     island  bill_length_mm  bill_depth_mm  flipper_length_mm  \\\n",
       "0  Adelie  Torgersen            39.1           18.7              181.0   \n",
       "1  Adelie  Torgersen            39.5           17.4              186.0   \n",
       "2  Adelie  Torgersen            40.3           18.0              195.0   \n",
       "\n",
       "   body_mass_g     sex  year  \n",
       "0       3750.0    male  2007  \n",
       "1       3800.0  female  2007  \n",
       "2       3250.0  female  2007  "
      ]
     },
     "execution_count": 3,
     "metadata": {},
     "output_type": "execute_result"
    }
   ],
   "source": [
    "df = load_penguins()\n",
    "df.head(3)"
   ]
  },
  {
   "cell_type": "code",
   "execution_count": 4,
   "id": "721db1c2-a3b7-4f62-904b-a14272282b01",
   "metadata": {
    "colab": {
     "base_uri": "https://localhost:8080/",
     "height": 424
    },
    "id": "721db1c2-a3b7-4f62-904b-a14272282b01",
    "outputId": "c60c1009-9a51-42b8-fda1-0395fda2774f",
    "tags": []
   },
   "outputs": [
    {
     "data": {
      "text/html": [
       "<div>\n",
       "<style scoped>\n",
       "    .dataframe tbody tr th:only-of-type {\n",
       "        vertical-align: middle;\n",
       "    }\n",
       "\n",
       "    .dataframe tbody tr th {\n",
       "        vertical-align: top;\n",
       "    }\n",
       "\n",
       "    .dataframe thead th {\n",
       "        text-align: right;\n",
       "    }\n",
       "</style>\n",
       "<table border=\"1\" class=\"dataframe\">\n",
       "  <thead>\n",
       "    <tr style=\"text-align: right;\">\n",
       "      <th></th>\n",
       "      <th>species</th>\n",
       "      <th>island</th>\n",
       "      <th>bill_length_mm</th>\n",
       "      <th>bill_depth_mm</th>\n",
       "      <th>flipper_length_mm</th>\n",
       "      <th>body_mass_g</th>\n",
       "      <th>sex</th>\n",
       "    </tr>\n",
       "  </thead>\n",
       "  <tbody>\n",
       "    <tr>\n",
       "      <th>0</th>\n",
       "      <td>Adelie</td>\n",
       "      <td>Torgersen</td>\n",
       "      <td>39.1</td>\n",
       "      <td>18.7</td>\n",
       "      <td>181.0</td>\n",
       "      <td>3750.0</td>\n",
       "      <td>male</td>\n",
       "    </tr>\n",
       "    <tr>\n",
       "      <th>1</th>\n",
       "      <td>Adelie</td>\n",
       "      <td>Torgersen</td>\n",
       "      <td>39.5</td>\n",
       "      <td>17.4</td>\n",
       "      <td>186.0</td>\n",
       "      <td>3800.0</td>\n",
       "      <td>female</td>\n",
       "    </tr>\n",
       "    <tr>\n",
       "      <th>2</th>\n",
       "      <td>Adelie</td>\n",
       "      <td>Torgersen</td>\n",
       "      <td>40.3</td>\n",
       "      <td>18.0</td>\n",
       "      <td>195.0</td>\n",
       "      <td>3250.0</td>\n",
       "      <td>female</td>\n",
       "    </tr>\n",
       "    <tr>\n",
       "      <th>4</th>\n",
       "      <td>Adelie</td>\n",
       "      <td>Torgersen</td>\n",
       "      <td>36.7</td>\n",
       "      <td>19.3</td>\n",
       "      <td>193.0</td>\n",
       "      <td>3450.0</td>\n",
       "      <td>female</td>\n",
       "    </tr>\n",
       "    <tr>\n",
       "      <th>5</th>\n",
       "      <td>Adelie</td>\n",
       "      <td>Torgersen</td>\n",
       "      <td>39.3</td>\n",
       "      <td>20.6</td>\n",
       "      <td>190.0</td>\n",
       "      <td>3650.0</td>\n",
       "      <td>male</td>\n",
       "    </tr>\n",
       "    <tr>\n",
       "      <th>...</th>\n",
       "      <td>...</td>\n",
       "      <td>...</td>\n",
       "      <td>...</td>\n",
       "      <td>...</td>\n",
       "      <td>...</td>\n",
       "      <td>...</td>\n",
       "      <td>...</td>\n",
       "    </tr>\n",
       "    <tr>\n",
       "      <th>339</th>\n",
       "      <td>Chinstrap</td>\n",
       "      <td>Dream</td>\n",
       "      <td>55.8</td>\n",
       "      <td>19.8</td>\n",
       "      <td>207.0</td>\n",
       "      <td>4000.0</td>\n",
       "      <td>male</td>\n",
       "    </tr>\n",
       "    <tr>\n",
       "      <th>340</th>\n",
       "      <td>Chinstrap</td>\n",
       "      <td>Dream</td>\n",
       "      <td>43.5</td>\n",
       "      <td>18.1</td>\n",
       "      <td>202.0</td>\n",
       "      <td>3400.0</td>\n",
       "      <td>female</td>\n",
       "    </tr>\n",
       "    <tr>\n",
       "      <th>341</th>\n",
       "      <td>Chinstrap</td>\n",
       "      <td>Dream</td>\n",
       "      <td>49.6</td>\n",
       "      <td>18.2</td>\n",
       "      <td>193.0</td>\n",
       "      <td>3775.0</td>\n",
       "      <td>male</td>\n",
       "    </tr>\n",
       "    <tr>\n",
       "      <th>342</th>\n",
       "      <td>Chinstrap</td>\n",
       "      <td>Dream</td>\n",
       "      <td>50.8</td>\n",
       "      <td>19.0</td>\n",
       "      <td>210.0</td>\n",
       "      <td>4100.0</td>\n",
       "      <td>male</td>\n",
       "    </tr>\n",
       "    <tr>\n",
       "      <th>343</th>\n",
       "      <td>Chinstrap</td>\n",
       "      <td>Dream</td>\n",
       "      <td>50.2</td>\n",
       "      <td>18.7</td>\n",
       "      <td>198.0</td>\n",
       "      <td>3775.0</td>\n",
       "      <td>female</td>\n",
       "    </tr>\n",
       "  </tbody>\n",
       "</table>\n",
       "<p>333 rows × 7 columns</p>\n",
       "</div>"
      ],
      "text/plain": [
       "       species     island  bill_length_mm  bill_depth_mm  flipper_length_mm  \\\n",
       "0       Adelie  Torgersen            39.1           18.7              181.0   \n",
       "1       Adelie  Torgersen            39.5           17.4              186.0   \n",
       "2       Adelie  Torgersen            40.3           18.0              195.0   \n",
       "4       Adelie  Torgersen            36.7           19.3              193.0   \n",
       "5       Adelie  Torgersen            39.3           20.6              190.0   \n",
       "..         ...        ...             ...            ...                ...   \n",
       "339  Chinstrap      Dream            55.8           19.8              207.0   \n",
       "340  Chinstrap      Dream            43.5           18.1              202.0   \n",
       "341  Chinstrap      Dream            49.6           18.2              193.0   \n",
       "342  Chinstrap      Dream            50.8           19.0              210.0   \n",
       "343  Chinstrap      Dream            50.2           18.7              198.0   \n",
       "\n",
       "     body_mass_g     sex  \n",
       "0         3750.0    male  \n",
       "1         3800.0  female  \n",
       "2         3250.0  female  \n",
       "4         3450.0  female  \n",
       "5         3650.0    male  \n",
       "..           ...     ...  \n",
       "339       4000.0    male  \n",
       "340       3400.0  female  \n",
       "341       3775.0    male  \n",
       "342       4100.0    male  \n",
       "343       3775.0  female  \n",
       "\n",
       "[333 rows x 7 columns]"
      ]
     },
     "execution_count": 4,
     "metadata": {},
     "output_type": "execute_result"
    }
   ],
   "source": [
    "df = df.drop(['year'], axis=1)\n",
    "df = df.dropna() # this drops all rows with a nan in it\n",
    "df"
   ]
  },
  {
   "cell_type": "markdown",
   "id": "ca808942-40e7-4fe3-a612-d428c7673429",
   "metadata": {},
   "source": [
    "## Let's scale the dataset:"
   ]
  },
  {
   "cell_type": "code",
   "execution_count": 5,
   "id": "KHhSZekiqhhZ",
   "metadata": {
    "id": "KHhSZekiqhhZ",
    "tags": []
   },
   "outputs": [],
   "source": [
    "from sklearn.preprocessing import StandardScaler\n",
    "scaler = StandardScaler()"
   ]
  },
  {
   "cell_type": "code",
   "execution_count": 6,
   "id": "B5xYNWUfrO6V",
   "metadata": {
    "colab": {
     "base_uri": "https://localhost:8080/"
    },
    "id": "B5xYNWUfrO6V",
    "outputId": "ce91800b-3086-4ff9-af88-70b44cdb7200",
    "tags": []
   },
   "outputs": [
    {
     "data": {
      "text/plain": [
       "['bill_length_mm', 'bill_depth_mm', 'flipper_length_mm', 'body_mass_g']"
      ]
     },
     "execution_count": 6,
     "metadata": {},
     "output_type": "execute_result"
    }
   ],
   "source": [
    "float_columns = df.select_dtypes(include=['float64', 'float32'])\n",
    "float_column_names = float_columns.columns.tolist()\n",
    "float_column_names"
   ]
  },
  {
   "cell_type": "code",
   "execution_count": 7,
   "id": "65Nas9Q8q5kk",
   "metadata": {
    "colab": {
     "base_uri": "https://localhost:8080/"
    },
    "id": "65Nas9Q8q5kk",
    "outputId": "238490f0-5c38-450a-f1be-d2d0eaa0114b",
    "tags": []
   },
   "outputs": [
    {
     "data": {
      "text/plain": [
       "(333, 4)"
      ]
     },
     "execution_count": 7,
     "metadata": {},
     "output_type": "execute_result"
    }
   ],
   "source": [
    "from sklearn.preprocessing import StandardScaler\n",
    "scaler = StandardScaler()\n",
    "\n",
    "std_scaled = scaler.fit_transform(float_columns, y=None)\n",
    "np.shape(std_scaled)"
   ]
  },
  {
   "cell_type": "markdown",
   "id": "CaLmD3hZuNds",
   "metadata": {
    "id": "CaLmD3hZuNds"
   },
   "source": [
    "## Splitting Data"
   ]
  },
  {
   "cell_type": "markdown",
   "id": "d7f6f3fe-fabb-4572-a614-0f2ffddb80b0",
   "metadata": {},
   "source": [
    "#### Classification split"
   ]
  },
  {
   "cell_type": "markdown",
   "id": "b4e86081-3b8b-443c-b4e6-e786ecfae24d",
   "metadata": {
    "tags": []
   },
   "source": [
    "We will predict specie from all measurements"
   ]
  },
  {
   "cell_type": "code",
   "execution_count": 8,
   "id": "WzqZFAJpzjPE",
   "metadata": {
    "colab": {
     "base_uri": "https://localhost:8080/"
    },
    "id": "WzqZFAJpzjPE",
    "outputId": "d0ed678d-b925-4ee6-d13b-5b15fdeac155",
    "tags": []
   },
   "outputs": [],
   "source": [
    "X_train_clf, X_test_clf, y_train_clf, y_test_clf = train_test_split(std_scaled, df.species, test_size=0.33, random_state=42)"
   ]
  },
  {
   "cell_type": "markdown",
   "id": "54d4d98f-1203-4d2a-a020-72a07fccb0b2",
   "metadata": {},
   "source": [
    "# Non-Linear Models"
   ]
  },
  {
   "cell_type": "markdown",
   "id": "f297db9f-b828-462c-b03f-fad08bce575e",
   "metadata": {},
   "source": [
    "## K-Nearest Neighbors (KNN) (2:45 PM)"
   ]
  },
  {
   "cell_type": "markdown",
   "id": "6a450fc0-e7c3-44aa-93b7-88b4928965e0",
   "metadata": {},
   "source": [
    "K-Nearest Neighbors (KNN) is advantageous in supervised machine learning due to its simplicity and versatility. KNN's ability to adapt to different data distributions and handle multi-class problems makes it suitable for various scenarios. Its non-parametric nature eliminates the need for assumptions about data distribution, allowing it to capture complex decision boundaries. KNN's effectiveness, especially when combined with appropriate distance metrics and optimization techniques, makes it a valuable tool for supervised ML tasks. Some even call it a 'lazy learner' compared to more normal machine learning. "
   ]
  },
  {
   "cell_type": "markdown",
   "id": "e132d336",
   "metadata": {},
   "source": [
    "Great video [here](https://www.youtube.com/watch?v=HVXime0nQeI) by StatQuest to watch on your own time. "
   ]
  },
  {
   "cell_type": "markdown",
   "id": "104513d9-126a-4e7b-86d0-cd3d4a4bb9f3",
   "metadata": {
    "tags": []
   },
   "source": [
    "## Classification"
   ]
  },
  {
   "cell_type": "code",
   "execution_count": 9,
   "id": "47dca607-6a74-4c7d-84d0-e421579ec90d",
   "metadata": {
    "tags": []
   },
   "outputs": [
    {
     "name": "stdout",
     "output_type": "stream",
     "text": [
      "Accuracy: 0.98\n",
      "Confusion Matrix:\n",
      "[[52  0  0]\n",
      " [ 2 23  0]\n",
      " [ 0  0 33]]\n",
      "Learned Classes: ['Adelie' 'Chinstrap' 'Gentoo']\n"
     ]
    }
   ],
   "source": [
    "# Create a KNeighborsClassifier model\n",
    "model = KNeighborsClassifier(n_neighbors=5)\n",
    "\n",
    "# Fit the model on the training data\n",
    "model.fit(X_train_clf, y_train_clf)\n",
    "\n",
    "# Make predictions on the test data\n",
    "y_pred_knn_clf = model.predict(X_test_clf)\n",
    "\n",
    "# Calculate the accuracy and confusion matrix to evaluate the model's performance\n",
    "accuracy = accuracy_score(y_test_clf, y_pred_knn_clf)\n",
    "conf_matrix = confusion_matrix(y_test_clf, y_pred_knn_clf)\n",
    "print(f\"Accuracy: {accuracy:.2f}\")\n",
    "print(\"Confusion Matrix:\")\n",
    "print(conf_matrix)\n",
    "\n",
    "# Print the learned classes for each label\n",
    "print(\"Learned Classes:\", model.classes_)"
   ]
  },
  {
   "cell_type": "markdown",
   "id": "12d6cf32",
   "metadata": {},
   "source": [
    "We just implemented a non-linear ML model from start to finish in 9 lines of code!"
   ]
  },
  {
   "cell_type": "markdown",
   "id": "367dbcc7",
   "metadata": {},
   "source": [
    "## Slider Bar on how decisions are made and number of neighbors: (2:50 PM)"
   ]
  },
  {
   "cell_type": "markdown",
   "id": "332cc2d6",
   "metadata": {},
   "source": [
    "Input slider bar tutorial here for number of neighbors, and how they work\n",
    "\n",
    "https://stackoverflow.com/questions/45075638/graph-k-nn-decision-boundaries-in-matplotlib"
   ]
  },
  {
   "cell_type": "code",
   "execution_count": 10,
   "id": "7dbfe9eb",
   "metadata": {},
   "outputs": [],
   "source": [
    "from sklearn import neighbors, datasets\n",
    "from sklearn.model_selection import train_test_split\n",
    "from sklearn import neighbors, datasets\n",
    "from matplotlib.colors import ListedColormap"
   ]
  },
  {
   "cell_type": "code",
   "execution_count": 11,
   "id": "321a8dba",
   "metadata": {},
   "outputs": [
    {
     "data": {
      "image/png": "[encoded data removed]",
      "text/plain": [
       "<Figure size 640x480 with 1 Axes>"
      ]
     },
     "metadata": {},
     "output_type": "display_data"
    },
    {
     "data": {
      "image/png": "[encoded data removed]",
      "text/plain": [
       "<Figure size 640x480 with 1 Axes>"
      ]
     },
     "metadata": {},
     "output_type": "display_data"
    }
   ],
   "source": [
    "# import some data to play with\n",
    "iris = datasets.load_iris()\n",
    "X = iris.data[:, :2]  # we only take the first two features. We could\n",
    "                      # avoid this ugly slicing by using a two-dim dataset\n",
    "y = iris.target\n",
    "# Split the dataset into a training set and a test set\n",
    "X_train, X_test, y_train, y_test = train_test_split(X, y, test_size=0.3, random_state=42)\n",
    "\n",
    "h = .05  # step size in the mesh\n",
    "\n",
    "# Create color maps\n",
    "cmap_light = ListedColormap(['#FFAAAA', '#AAFFAA', '#AAAAFF'])\n",
    "cmap_bold = ListedColormap(['#FF0000', '#00FF00', '#0000FF'])\n",
    "\n",
    "n_neighbors = 3\n",
    "\n",
    "for weights in ['uniform', 'distance']:\n",
    "    # we create an instance of Neighbours Classifier and fit the data.\n",
    "    clf = neighbors.KNeighborsClassifier(n_neighbors, weights=weights)\n",
    "    clf.fit(X_train, y_train)\n",
    "\n",
    "    # Plot the decision boundary. For that, we will assign a color to each\n",
    "    # point in the mesh [x_min, x_max]x[y_min, y_max].\n",
    "    x_min, x_max = X_train[:, 0].min() - 1, X_train[:, 0].max() + 1\n",
    "    y_min, y_max = X_train[:, 1].min() - 1, X_train[:, 1].max() + 1\n",
    "    xx, yy = np.meshgrid(np.arange(x_min, x_max, h),\n",
    "                         np.arange(y_min, y_max, h))\n",
    "    Z = clf.predict(np.c_[xx.ravel(), yy.ravel()])\n",
    "\n",
    "    # Put the result into a color plot\n",
    "    Z = Z.reshape(xx.shape)\n",
    "    plt.figure()\n",
    "    plt.pcolormesh(xx, yy, Z, cmap=cmap_light)\n",
    "\n",
    "    # Plot also the training points\n",
    "    plt.scatter(X_train[:, 0], X_train[:, 1], c=y_train, cmap=cmap_bold)\n",
    "    plt.xlim(xx.min(), xx.max())\n",
    "    plt.ylim(yy.min(), yy.max())\n",
    "    plt.title(\"3-Class classification (k = %i, weights = '%s')\"\n",
    "              % (n_neighbors, weights))\n",
    "\n",
    "plt.show()"
   ]
  },
  {
   "cell_type": "markdown",
   "id": "7a6a6cc6",
   "metadata": {},
   "source": [
    "Now this is a test case, where we are only using 2 dimmensions for illustrative purposes. KNN's can handle mutiple dimmensions."
   ]
  },
  {
   "cell_type": "markdown",
   "id": "2cba45a9-65c7-4823-ac12-164734d5599c",
   "metadata": {
    "tags": []
   },
   "source": [
    "# Decision Tree (3:00)"
   ]
  },
  {
   "cell_type": "markdown",
   "id": "5dd43519",
   "metadata": {},
   "source": [
    "Decision trees are a machine learning algorithm that recursively partitions data by selecting the most important attributes, creating a tree-like structure with root, internal, and leaf nodes. They're used for both classification and regression, known for their interpretability, and can be prone to overfitting if not pruned or limited in depth. Decision trees are the basis for ensemble methods like Random Forests and Gradient Boosting (which we will learn tomorrow), and they are valuable for their simplicity and transparency in decision-making.\n",
    "\n",
    "Let's walk though this [guide](https://scikit-learn.org/stable/modules/tree.html#tree) together. "
   ]
  },
  {
   "cell_type": "code",
   "execution_count": 12,
   "id": "5ff5801e",
   "metadata": {},
   "outputs": [
    {
     "name": "stdout",
     "output_type": "stream",
     "text": [
      "Accuracy: 0.964\n"
     ]
    }
   ],
   "source": [
    "# Create a Decision Tree classifier\n",
    "clf = DecisionTreeClassifier()\n",
    "\n",
    "# Fit the classifier on the training data\n",
    "clf.fit(X_train_clf, y_train_clf)\n",
    "\n",
    "# Make predictions on the test data\n",
    "y_pred = clf.predict(X_test_clf)\n",
    "\n",
    "# Calculate accuracy on the test set\n",
    "accuracy = accuracy_score(y_test_clf, y_pred)\n",
    "print(\"Accuracy:\", np.round(accuracy,3))"
   ]
  },
  {
   "cell_type": "markdown",
   "id": "fb908556",
   "metadata": {},
   "source": [
    "5 lines of code!"
   ]
  },
  {
   "cell_type": "markdown",
   "id": "37d5f5ec",
   "metadata": {},
   "source": [
    "#### Visualizing the tree "
   ]
  },
  {
   "cell_type": "markdown",
   "id": "cb099ff4",
   "metadata": {},
   "source": [
    "We can look under the hood a bit on how these trees were created:"
   ]
  },
  {
   "cell_type": "code",
   "execution_count": 13,
   "id": "e4a1c3ae",
   "metadata": {},
   "outputs": [
    {
     "data": {
      "image/png": "[encoded data removed]",
      "text/plain": [
       "<Figure size 1200x800 with 1 Axes>"
      ]
     },
     "metadata": {},
     "output_type": "display_data"
    }
   ],
   "source": [
    "# Visualize the decision tree\n",
    "plt.figure(figsize=(12, 8))\n",
    "plot_tree(clf, filled=True, feature_names=float_column_names, class_names=list(y_train_clf.unique()))\n",
    "plt.show()"
   ]
  },
  {
   "cell_type": "markdown",
   "id": "48d95773",
   "metadata": {},
   "source": [
    "Wow! This a lot to unpack. Decision trees have a few parameters. Add them to the model above, and compare differences in accuracy and how the trees look:\n",
    "\n",
    "Docs are [here](https://scikit-learn.org/stable/modules/generated/sklearn.tree.DecisionTreeClassifier.html). I reccomend looking at max depth, and minimum sample split to start."
   ]
  },
  {
   "cell_type": "markdown",
   "id": "9b4feb1b",
   "metadata": {},
   "source": [
    "## Quick recap questions:"
   ]
  },
  {
   "cell_type": "markdown",
   "id": "95f233c2",
   "metadata": {},
   "source": [
    "How does the accuracy change with different parameters?\n",
    "\n",
    "Do the tree visualizations look different with different parameters? "
   ]
  },
  {
   "cell_type": "markdown",
   "id": "06045981",
   "metadata": {},
   "source": [
    "# Regression (3:15)"
   ]
  },
  {
   "cell_type": "markdown",
   "id": "cdaba7cf",
   "metadata": {},
   "source": [
    "Both of the above examples are for classification, but they can also be used for regression. Write your own regression code below with this atmoshperic dataset: https://essd.copernicus.org/articles/13/3013/2021/\n",
    "\n",
    "We will be predicting average ozone. Bonus points for viz'ing the results! \n",
    "\n",
    "Info on using a KNN Regressor [here](https://scikit-learn.org/stable/modules/generated/sklearn.neighbors.KNeighborsRegressor.html) and Decision Tree Regressor [here](https://scikit-learn.org/stable/modules/generated/sklearn.tree.DecisionTreeRegressor.html)."
   ]
  },
  {
   "cell_type": "markdown",
   "id": "a3cb8ec5",
   "metadata": {},
   "source": [
    "#### Some data-loading code to help:"
   ]
  },
  {
   "cell_type": "code",
   "execution_count": 14,
   "id": "a677a6a3",
   "metadata": {},
   "outputs": [
    {
     "data": {
      "text/html": [
       "<div>\n",
       "<style scoped>\n",
       "    .dataframe tbody tr th:only-of-type {\n",
       "        vertical-align: middle;\n",
       "    }\n",
       "\n",
       "    .dataframe tbody tr th {\n",
       "        vertical-align: top;\n",
       "    }\n",
       "\n",
       "    .dataframe thead th {\n",
       "        text-align: right;\n",
       "    }\n",
       "</style>\n",
       "<table border=\"1\" class=\"dataframe\">\n",
       "  <thead>\n",
       "    <tr style=\"text-align: right;\">\n",
       "      <th></th>\n",
       "      <th>id</th>\n",
       "      <th>country</th>\n",
       "      <th>htap_region</th>\n",
       "      <th>climatic_zone</th>\n",
       "      <th>lon</th>\n",
       "      <th>lat</th>\n",
       "      <th>alt</th>\n",
       "      <th>relative_alt</th>\n",
       "      <th>type</th>\n",
       "      <th>type_of_area</th>\n",
       "      <th>...</th>\n",
       "      <th>o3_perc90</th>\n",
       "      <th>o3_perc98</th>\n",
       "      <th>o3_dma8eu</th>\n",
       "      <th>o3_avgdma8epax</th>\n",
       "      <th>o3_drmdmax1h</th>\n",
       "      <th>o3_w90</th>\n",
       "      <th>o3_aot40</th>\n",
       "      <th>o3_nvgt070</th>\n",
       "      <th>o3_nvgt100</th>\n",
       "      <th>dataset</th>\n",
       "    </tr>\n",
       "  </thead>\n",
       "  <tbody>\n",
       "    <tr>\n",
       "      <th>0</th>\n",
       "      <td>3336</td>\n",
       "      <td>Germany</td>\n",
       "      <td>EUR</td>\n",
       "      <td>cool_moist</td>\n",
       "      <td>8.308210</td>\n",
       "      <td>54.924970</td>\n",
       "      <td>12.0</td>\n",
       "      <td>3</td>\n",
       "      <td>background</td>\n",
       "      <td>rural</td>\n",
       "      <td>...</td>\n",
       "      <td>46.4399</td>\n",
       "      <td>54.8468</td>\n",
       "      <td>53.5738</td>\n",
       "      <td>38.8078</td>\n",
       "      <td>50.7704</td>\n",
       "      <td>86.1266</td>\n",
       "      <td>10197.4742</td>\n",
       "      <td>2.0</td>\n",
       "      <td>0.0</td>\n",
       "      <td>test</td>\n",
       "    </tr>\n",
       "    <tr>\n",
       "      <th>1</th>\n",
       "      <td>3338</td>\n",
       "      <td>Germany</td>\n",
       "      <td>EUR</td>\n",
       "      <td>cool_moist</td>\n",
       "      <td>12.725280</td>\n",
       "      <td>54.436670</td>\n",
       "      <td>1.0</td>\n",
       "      <td>1</td>\n",
       "      <td>background</td>\n",
       "      <td>rural</td>\n",
       "      <td>...</td>\n",
       "      <td>44.0575</td>\n",
       "      <td>53.7778</td>\n",
       "      <td>51.3996</td>\n",
       "      <td>35.8313</td>\n",
       "      <td>48.3935</td>\n",
       "      <td>69.0987</td>\n",
       "      <td>7573.2222</td>\n",
       "      <td>1.0</td>\n",
       "      <td>0.0</td>\n",
       "      <td>train</td>\n",
       "    </tr>\n",
       "    <tr>\n",
       "      <th>2</th>\n",
       "      <td>3339</td>\n",
       "      <td>Germany</td>\n",
       "      <td>EUR</td>\n",
       "      <td>cool_moist</td>\n",
       "      <td>6.093923</td>\n",
       "      <td>50.754704</td>\n",
       "      <td>205.0</td>\n",
       "      <td>66</td>\n",
       "      <td>background</td>\n",
       "      <td>urban</td>\n",
       "      <td>...</td>\n",
       "      <td>41.1803</td>\n",
       "      <td>58.4009</td>\n",
       "      <td>54.9030</td>\n",
       "      <td>32.6169</td>\n",
       "      <td>49.8276</td>\n",
       "      <td>154.1263</td>\n",
       "      <td>8655.4730</td>\n",
       "      <td>5.4</td>\n",
       "      <td>1.0</td>\n",
       "      <td>train</td>\n",
       "    </tr>\n",
       "  </tbody>\n",
       "</table>\n",
       "<p>3 rows × 53 columns</p>\n",
       "</div>"
      ],
      "text/plain": [
       "     id  country htap_region climatic_zone        lon        lat    alt  \\\n",
       "0  3336  Germany         EUR    cool_moist   8.308210  54.924970   12.0   \n",
       "1  3338  Germany         EUR    cool_moist  12.725280  54.436670    1.0   \n",
       "2  3339  Germany         EUR    cool_moist   6.093923  50.754704  205.0   \n",
       "\n",
       "   relative_alt        type type_of_area  ...  o3_perc90  o3_perc98  \\\n",
       "0             3  background        rural  ...    46.4399    54.8468   \n",
       "1             1  background        rural  ...    44.0575    53.7778   \n",
       "2            66  background        urban  ...    41.1803    58.4009   \n",
       "\n",
       "   o3_dma8eu  o3_avgdma8epax  o3_drmdmax1h    o3_w90    o3_aot40  o3_nvgt070  \\\n",
       "0    53.5738         38.8078       50.7704   86.1266  10197.4742         2.0   \n",
       "1    51.3996         35.8313       48.3935   69.0987   7573.2222         1.0   \n",
       "2    54.9030         32.6169       49.8276  154.1263   8655.4730         5.4   \n",
       "\n",
       "   o3_nvgt100  dataset  \n",
       "0         0.0     test  \n",
       "1         0.0    train  \n",
       "2         1.0    train  \n",
       "\n",
       "[3 rows x 53 columns]"
      ]
     },
     "execution_count": 14,
     "metadata": {},
     "output_type": "execute_result"
    }
   ],
   "source": [
    "df = pd.read_csv('http://hdl.handle.net/11304/89dd440e-4e10-496e-b476-1ccf0ebeb4f3')\n",
    "df.head(3)"
   ]
  },
  {
   "cell_type": "code",
   "execution_count": 15,
   "id": "0ab74462",
   "metadata": {},
   "outputs": [
    {
     "data": {
      "text/plain": [
       "(5577, 39)"
      ]
     },
     "execution_count": 15,
     "metadata": {},
     "output_type": "execute_result"
    }
   ],
   "source": [
    "df.replace(-999.0, np.nan, inplace=True)\n",
    "df.dropna(axis=1, inplace=True)\n",
    "df.shape"
   ]
  },
  {
   "cell_type": "code",
   "execution_count": 16,
   "id": "fbede5a6",
   "metadata": {},
   "outputs": [
    {
     "data": {
      "text/html": [
       "<div>\n",
       "<style scoped>\n",
       "    .dataframe tbody tr th:only-of-type {\n",
       "        vertical-align: middle;\n",
       "    }\n",
       "\n",
       "    .dataframe tbody tr th {\n",
       "        vertical-align: top;\n",
       "    }\n",
       "\n",
       "    .dataframe thead th {\n",
       "        text-align: right;\n",
       "    }\n",
       "</style>\n",
       "<table border=\"1\" class=\"dataframe\">\n",
       "  <thead>\n",
       "    <tr style=\"text-align: right;\">\n",
       "      <th></th>\n",
       "      <th>alt</th>\n",
       "      <th>water_25km</th>\n",
       "      <th>evergreen_needleleaf_forest_25km</th>\n",
       "      <th>evergreen_broadleaf_forest_25km</th>\n",
       "      <th>deciduous_needleleaf_forest_25km</th>\n",
       "      <th>deciduous_broadleaf_forest_25km</th>\n",
       "      <th>mixed_forest_25km</th>\n",
       "      <th>closed_shrublands_25km</th>\n",
       "      <th>open_shrublands_25km</th>\n",
       "      <th>woody_savannas_25km</th>\n",
       "      <th>...</th>\n",
       "      <th>urban_and_built-up_25km</th>\n",
       "      <th>cropland-natural_vegetation_mosaic_25km</th>\n",
       "      <th>snow_and_ice_25km</th>\n",
       "      <th>barren_or_sparsely_vegetated_25km</th>\n",
       "      <th>wheat_production</th>\n",
       "      <th>rice_production</th>\n",
       "      <th>nox_emissions</th>\n",
       "      <th>no2_column</th>\n",
       "      <th>nightlight_5km</th>\n",
       "      <th>o3_average_values</th>\n",
       "    </tr>\n",
       "  </thead>\n",
       "  <tbody>\n",
       "    <tr>\n",
       "      <th>count</th>\n",
       "      <td>5577.000000</td>\n",
       "      <td>5577.000000</td>\n",
       "      <td>5577.000000</td>\n",
       "      <td>5577.000000</td>\n",
       "      <td>5577.000000</td>\n",
       "      <td>5577.000000</td>\n",
       "      <td>5577.000000</td>\n",
       "      <td>5577.000000</td>\n",
       "      <td>5577.000000</td>\n",
       "      <td>5577.000000</td>\n",
       "      <td>...</td>\n",
       "      <td>5577.000000</td>\n",
       "      <td>5577.000000</td>\n",
       "      <td>5577.000000</td>\n",
       "      <td>5577.000000</td>\n",
       "      <td>5577.000000</td>\n",
       "      <td>5577.000000</td>\n",
       "      <td>5577.000000</td>\n",
       "      <td>5577.000000</td>\n",
       "      <td>5577.000000</td>\n",
       "      <td>5577.000000</td>\n",
       "    </tr>\n",
       "    <tr>\n",
       "      <th>mean</th>\n",
       "      <td>264.636320</td>\n",
       "      <td>12.667886</td>\n",
       "      <td>2.884884</td>\n",
       "      <td>0.511655</td>\n",
       "      <td>0.002241</td>\n",
       "      <td>2.676529</td>\n",
       "      <td>19.817052</td>\n",
       "      <td>0.213072</td>\n",
       "      <td>3.097938</td>\n",
       "      <td>5.202708</td>\n",
       "      <td>...</td>\n",
       "      <td>12.364389</td>\n",
       "      <td>11.521535</td>\n",
       "      <td>0.166685</td>\n",
       "      <td>0.290837</td>\n",
       "      <td>0.898952</td>\n",
       "      <td>1.479198</td>\n",
       "      <td>14.225635</td>\n",
       "      <td>4.082563</td>\n",
       "      <td>39.774192</td>\n",
       "      <td>27.881232</td>\n",
       "    </tr>\n",
       "    <tr>\n",
       "      <th>std</th>\n",
       "      <td>466.298427</td>\n",
       "      <td>19.386709</td>\n",
       "      <td>9.199527</td>\n",
       "      <td>4.170122</td>\n",
       "      <td>0.080375</td>\n",
       "      <td>9.027644</td>\n",
       "      <td>21.747760</td>\n",
       "      <td>1.067234</td>\n",
       "      <td>12.091700</td>\n",
       "      <td>11.257407</td>\n",
       "      <td>...</td>\n",
       "      <td>16.800182</td>\n",
       "      <td>15.465918</td>\n",
       "      <td>3.292191</td>\n",
       "      <td>3.217750</td>\n",
       "      <td>1.790658</td>\n",
       "      <td>4.452069</td>\n",
       "      <td>28.892591</td>\n",
       "      <td>3.457719</td>\n",
       "      <td>20.702336</td>\n",
       "      <td>6.402689</td>\n",
       "    </tr>\n",
       "    <tr>\n",
       "      <th>min</th>\n",
       "      <td>-4.000000</td>\n",
       "      <td>0.000000</td>\n",
       "      <td>0.000000</td>\n",
       "      <td>0.000000</td>\n",
       "      <td>0.000000</td>\n",
       "      <td>0.000000</td>\n",
       "      <td>0.000000</td>\n",
       "      <td>0.000000</td>\n",
       "      <td>0.000000</td>\n",
       "      <td>0.000000</td>\n",
       "      <td>...</td>\n",
       "      <td>0.000000</td>\n",
       "      <td>0.000000</td>\n",
       "      <td>0.000000</td>\n",
       "      <td>0.000000</td>\n",
       "      <td>0.000000</td>\n",
       "      <td>0.000000</td>\n",
       "      <td>0.000000</td>\n",
       "      <td>0.000000</td>\n",
       "      <td>0.000000</td>\n",
       "      <td>3.621200</td>\n",
       "    </tr>\n",
       "    <tr>\n",
       "      <th>25%</th>\n",
       "      <td>20.000000</td>\n",
       "      <td>0.000000</td>\n",
       "      <td>0.000000</td>\n",
       "      <td>0.000000</td>\n",
       "      <td>0.000000</td>\n",
       "      <td>0.000000</td>\n",
       "      <td>1.100000</td>\n",
       "      <td>0.000000</td>\n",
       "      <td>0.000000</td>\n",
       "      <td>0.000000</td>\n",
       "      <td>...</td>\n",
       "      <td>1.500000</td>\n",
       "      <td>0.000000</td>\n",
       "      <td>0.000000</td>\n",
       "      <td>0.000000</td>\n",
       "      <td>0.000000</td>\n",
       "      <td>0.000000</td>\n",
       "      <td>1.255190</td>\n",
       "      <td>1.950000</td>\n",
       "      <td>22.010000</td>\n",
       "      <td>23.749900</td>\n",
       "    </tr>\n",
       "    <tr>\n",
       "      <th>50%</th>\n",
       "      <td>90.000000</td>\n",
       "      <td>0.000000</td>\n",
       "      <td>0.000000</td>\n",
       "      <td>0.000000</td>\n",
       "      <td>0.000000</td>\n",
       "      <td>0.000000</td>\n",
       "      <td>12.000000</td>\n",
       "      <td>0.000000</td>\n",
       "      <td>0.000000</td>\n",
       "      <td>0.000000</td>\n",
       "      <td>...</td>\n",
       "      <td>5.400000</td>\n",
       "      <td>4.300000</td>\n",
       "      <td>0.000000</td>\n",
       "      <td>0.000000</td>\n",
       "      <td>0.079000</td>\n",
       "      <td>0.000000</td>\n",
       "      <td>4.523960</td>\n",
       "      <td>2.930000</td>\n",
       "      <td>45.130000</td>\n",
       "      <td>27.446600</td>\n",
       "    </tr>\n",
       "    <tr>\n",
       "      <th>75%</th>\n",
       "      <td>287.000000</td>\n",
       "      <td>23.400000</td>\n",
       "      <td>1.600000</td>\n",
       "      <td>0.000000</td>\n",
       "      <td>0.000000</td>\n",
       "      <td>0.000000</td>\n",
       "      <td>33.800000</td>\n",
       "      <td>0.000000</td>\n",
       "      <td>0.000000</td>\n",
       "      <td>3.900000</td>\n",
       "      <td>...</td>\n",
       "      <td>16.200000</td>\n",
       "      <td>17.500000</td>\n",
       "      <td>0.000000</td>\n",
       "      <td>0.000000</td>\n",
       "      <td>0.946000</td>\n",
       "      <td>0.000000</td>\n",
       "      <td>16.231800</td>\n",
       "      <td>4.880000</td>\n",
       "      <td>59.320000</td>\n",
       "      <td>31.429300</td>\n",
       "    </tr>\n",
       "    <tr>\n",
       "      <th>max</th>\n",
       "      <td>5500.000000</td>\n",
       "      <td>100.000000</td>\n",
       "      <td>96.400000</td>\n",
       "      <td>99.500000</td>\n",
       "      <td>4.800000</td>\n",
       "      <td>94.500000</td>\n",
       "      <td>99.100000</td>\n",
       "      <td>16.700000</td>\n",
       "      <td>99.700000</td>\n",
       "      <td>85.600000</td>\n",
       "      <td>...</td>\n",
       "      <td>91.800000</td>\n",
       "      <td>85.400000</td>\n",
       "      <td>100.000000</td>\n",
       "      <td>100.000000</td>\n",
       "      <td>22.027000</td>\n",
       "      <td>39.341000</td>\n",
       "      <td>966.779000</td>\n",
       "      <td>20.800000</td>\n",
       "      <td>63.000000</td>\n",
       "      <td>65.589900</td>\n",
       "    </tr>\n",
       "  </tbody>\n",
       "</table>\n",
       "<p>8 rows × 24 columns</p>\n",
       "</div>"
      ],
      "text/plain": [
       "               alt   water_25km  evergreen_needleleaf_forest_25km  \\\n",
       "count  5577.000000  5577.000000                       5577.000000   \n",
       "mean    264.636320    12.667886                          2.884884   \n",
       "std     466.298427    19.386709                          9.199527   \n",
       "min      -4.000000     0.000000                          0.000000   \n",
       "25%      20.000000     0.000000                          0.000000   \n",
       "50%      90.000000     0.000000                          0.000000   \n",
       "75%     287.000000    23.400000                          1.600000   \n",
       "max    5500.000000   100.000000                         96.400000   \n",
       "\n",
       "       evergreen_broadleaf_forest_25km  deciduous_needleleaf_forest_25km  \\\n",
       "count                      5577.000000                       5577.000000   \n",
       "mean                          0.511655                          0.002241   \n",
       "std                           4.170122                          0.080375   \n",
       "min                           0.000000                          0.000000   \n",
       "25%                           0.000000                          0.000000   \n",
       "50%                           0.000000                          0.000000   \n",
       "75%                           0.000000                          0.000000   \n",
       "max                          99.500000                          4.800000   \n",
       "\n",
       "       deciduous_broadleaf_forest_25km  mixed_forest_25km  \\\n",
       "count                      5577.000000        5577.000000   \n",
       "mean                          2.676529          19.817052   \n",
       "std                           9.027644          21.747760   \n",
       "min                           0.000000           0.000000   \n",
       "25%                           0.000000           1.100000   \n",
       "50%                           0.000000          12.000000   \n",
       "75%                           0.000000          33.800000   \n",
       "max                          94.500000          99.100000   \n",
       "\n",
       "       closed_shrublands_25km  open_shrublands_25km  woody_savannas_25km  ...  \\\n",
       "count             5577.000000           5577.000000          5577.000000  ...   \n",
       "mean                 0.213072              3.097938             5.202708  ...   \n",
       "std                  1.067234             12.091700            11.257407  ...   \n",
       "min                  0.000000              0.000000             0.000000  ...   \n",
       "25%                  0.000000              0.000000             0.000000  ...   \n",
       "50%                  0.000000              0.000000             0.000000  ...   \n",
       "75%                  0.000000              0.000000             3.900000  ...   \n",
       "max                 16.700000             99.700000            85.600000  ...   \n",
       "\n",
       "       urban_and_built-up_25km  cropland-natural_vegetation_mosaic_25km  \\\n",
       "count              5577.000000                              5577.000000   \n",
       "mean                 12.364389                                11.521535   \n",
       "std                  16.800182                                15.465918   \n",
       "min                   0.000000                                 0.000000   \n",
       "25%                   1.500000                                 0.000000   \n",
       "50%                   5.400000                                 4.300000   \n",
       "75%                  16.200000                                17.500000   \n",
       "max                  91.800000                                85.400000   \n",
       "\n",
       "       snow_and_ice_25km  barren_or_sparsely_vegetated_25km  wheat_production  \\\n",
       "count        5577.000000                        5577.000000       5577.000000   \n",
       "mean            0.166685                           0.290837          0.898952   \n",
       "std             3.292191                           3.217750          1.790658   \n",
       "min             0.000000                           0.000000          0.000000   \n",
       "25%             0.000000                           0.000000          0.000000   \n",
       "50%             0.000000                           0.000000          0.079000   \n",
       "75%             0.000000                           0.000000          0.946000   \n",
       "max           100.000000                         100.000000         22.027000   \n",
       "\n",
       "       rice_production  nox_emissions   no2_column  nightlight_5km  \\\n",
       "count      5577.000000    5577.000000  5577.000000     5577.000000   \n",
       "mean          1.479198      14.225635     4.082563       39.774192   \n",
       "std           4.452069      28.892591     3.457719       20.702336   \n",
       "min           0.000000       0.000000     0.000000        0.000000   \n",
       "25%           0.000000       1.255190     1.950000       22.010000   \n",
       "50%           0.000000       4.523960     2.930000       45.130000   \n",
       "75%           0.000000      16.231800     4.880000       59.320000   \n",
       "max          39.341000     966.779000    20.800000       63.000000   \n",
       "\n",
       "       o3_average_values  \n",
       "count        5577.000000  \n",
       "mean           27.881232  \n",
       "std             6.402689  \n",
       "min             3.621200  \n",
       "25%            23.749900  \n",
       "50%            27.446600  \n",
       "75%            31.429300  \n",
       "max            65.589900  \n",
       "\n",
       "[8 rows x 24 columns]"
      ]
     },
     "execution_count": 16,
     "metadata": {},
     "output_type": "execute_result"
    }
   ],
   "source": [
    "df_floats = df.select_dtypes(include=['float']) # Why do I do this step?\n",
    "\n",
    "df_floats = df_floats.drop(columns=['lon','lat']) # Why would I remove lat and lon?\n",
    "df_floats.describe()"
   ]
  },
  {
   "cell_type": "code",
   "execution_count": 17,
   "id": "0a94f599",
   "metadata": {},
   "outputs": [],
   "source": [
    "# Split the data into training and test sets\n",
    "X_train, X_test, y_train, y_test = train_test_split(df_floats.drop('o3_average_values', axis=1), df_floats['o3_average_values'], test_size=0.25, random_state=42)"
   ]
  },
  {
   "cell_type": "markdown",
   "id": "3acc8da3",
   "metadata": {},
   "source": [
    "Your code below! Use scikit-learn mean squared error as your metric.\n",
    "\n",
    "Details [here](https://scikit-learn.org/stable/modules/generated/sklearn.metrics.mean_squared_error.html) for (R)MSE"
   ]
  },
  {
   "cell_type": "code",
   "execution_count": 18,
   "id": "a48ba0e8",
   "metadata": {},
   "outputs": [],
   "source": [
    "# code code code"
   ]
  },
  {
   "cell_type": "markdown",
   "id": "4db8ae1b",
   "metadata": {},
   "source": [
    "## Discussion on how to do this (3:40):"
   ]
  },
  {
   "cell_type": "code",
   "execution_count": 19,
   "id": "3d5e4e3c",
   "metadata": {},
   "outputs": [],
   "source": [
    "# y'all are going to tell me how to write this code"
   ]
  },
  {
   "cell_type": "markdown",
   "id": "c7f1738b",
   "metadata": {},
   "source": [
    "## Daily Discussion (3:50)"
   ]
  },
  {
   "cell_type": "markdown",
   "id": "a981cb03",
   "metadata": {},
   "source": [
    "- Any issues / questions with the scikit learn interface? \n",
    "    - Do you like the scikit-learn interface?\n",
    "- Any preference between decision trees and knn's? \n",
    "- Is there a big difference between the metrics between both models?"
   ]
  },
  {
   "cell_type": "markdown",
   "id": "886685bc",
   "metadata": {},
   "source": [
    "## Tomorrow (3:58)"
   ]
  },
  {
   "cell_type": "markdown",
   "id": "f8ec663e-0f1d-46a8-857a-6cde5cac6367",
   "metadata": {},
   "source": [
    "More tree based methods, which includes boosting and bagging! Decision trees are the basis for this. "
   ]
  }
 ],
 "metadata": {
  "colab": {
   "provenance": []
  },
  "kernelspec": {
   "display_name": "py10-viz",
   "language": "python",
   "name": "python3"
  },
  "language_info": {
   "codemirror_mode": {
    "name": "ipython",
    "version": 3
   },
   "file_extension": ".py",
   "mimetype": "text/x-python",
   "name": "python",
   "nbconvert_exporter": "python",
   "pygments_lexer": "ipython3",
   "version": "3.10.12"
  }
 },
 "nbformat": 4,
 "nbformat_minor": 5
}

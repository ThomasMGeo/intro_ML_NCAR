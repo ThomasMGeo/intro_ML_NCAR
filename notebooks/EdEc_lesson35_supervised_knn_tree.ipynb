{
 "cells": [
  {
   "cell_type": "markdown",
   "id": "8667a400-4633-43b0-b92b-b621ec19e4b3",
   "metadata": {
    "id": "8667a400-4633-43b0-b92b-b621ec19e4b3",
    "tags": []
   },
   "source": [
    "# NCAR EdEc Bootcamp, Lesson 3"
   ]
  },
  {
   "cell_type": "markdown",
   "id": "954be560-a0cb-451f-b3af-41b5f8701b25",
   "metadata": {},
   "source": [
    "Supervised Learning using linear methods and KNN's."
   ]
  },
  {
   "cell_type": "markdown",
   "id": "f8707d48-043e-469c-9efe-602fbcf004fa",
   "metadata": {
    "id": "f8707d48-043e-469c-9efe-602fbcf004fa"
   },
   "source": [
    "## Python Imports"
   ]
  },
  {
   "cell_type": "code",
   "execution_count": 1,
   "id": "a7b7c6d4-d305-4b95-99a5-7e8ff2b09fb8",
   "metadata": {
    "id": "a7b7c6d4-d305-4b95-99a5-7e8ff2b09fb8",
    "tags": []
   },
   "outputs": [],
   "source": [
    "import pandas as pd\n",
    "import numpy as np\n",
    "\n",
    "# Dataset\n",
    "from palmerpenguins import load_penguins\n",
    "\n",
    "# Plotting\n",
    "import matplotlib.pyplot as plt\n",
    "\n",
    "# Machine Learning\n",
    "import sklearn\n",
    "from sklearn.tree import DecisionTreeClassifier, plot_tree\n",
    "from sklearn.metrics import accuracy_score, confusion_matrix"
   ]
  },
  {
   "cell_type": "code",
   "execution_count": 2,
   "id": "54ab835c-5678-4b98-aaa6-be1cd8397ce2",
   "metadata": {
    "colab": {
     "base_uri": "https://localhost:8080/"
    },
    "id": "54ab835c-5678-4b98-aaa6-be1cd8397ce2",
    "outputId": "2652ae05-a4f6-4369-d20a-cb69ce03faf0",
    "tags": []
   },
   "outputs": [
    {
     "name": "stdout",
     "output_type": "stream",
     "text": [
      "scikit-learn version: 1.3.0\n"
     ]
    }
   ],
   "source": [
    "print('scikit-learn version:', sklearn.__version__)"
   ]
  },
  {
   "cell_type": "markdown",
   "id": "d20b458a-926e-492b-85bf-97a0f5228e78",
   "metadata": {
    "id": "d20b458a-926e-492b-85bf-97a0f5228e78",
    "tags": []
   },
   "source": [
    "## Dataset Loading"
   ]
  },
  {
   "cell_type": "markdown",
   "id": "739d5ee9",
   "metadata": {},
   "source": [
    "This will be replaced with a charlie dataset :) "
   ]
  },
  {
   "cell_type": "code",
   "execution_count": 3,
   "id": "3a96f4d2-bf16-4881-a2cf-55d491d78095",
   "metadata": {
    "colab": {
     "base_uri": "https://localhost:8080/",
     "height": 206
    },
    "id": "3a96f4d2-bf16-4881-a2cf-55d491d78095",
    "outputId": "2558a314-c83e-43e8-965b-7f606a966868",
    "tags": []
   },
   "outputs": [
    {
     "data": {
      "text/html": [
       "<div>\n",
       "<style scoped>\n",
       "    .dataframe tbody tr th:only-of-type {\n",
       "        vertical-align: middle;\n",
       "    }\n",
       "\n",
       "    .dataframe tbody tr th {\n",
       "        vertical-align: top;\n",
       "    }\n",
       "\n",
       "    .dataframe thead th {\n",
       "        text-align: right;\n",
       "    }\n",
       "</style>\n",
       "<table border=\"1\" class=\"dataframe\">\n",
       "  <thead>\n",
       "    <tr style=\"text-align: right;\">\n",
       "      <th></th>\n",
       "      <th>species</th>\n",
       "      <th>island</th>\n",
       "      <th>bill_length_mm</th>\n",
       "      <th>bill_depth_mm</th>\n",
       "      <th>flipper_length_mm</th>\n",
       "      <th>body_mass_g</th>\n",
       "      <th>sex</th>\n",
       "      <th>year</th>\n",
       "    </tr>\n",
       "  </thead>\n",
       "  <tbody>\n",
       "    <tr>\n",
       "      <th>0</th>\n",
       "      <td>Adelie</td>\n",
       "      <td>Torgersen</td>\n",
       "      <td>39.1</td>\n",
       "      <td>18.7</td>\n",
       "      <td>181.0</td>\n",
       "      <td>3750.0</td>\n",
       "      <td>male</td>\n",
       "      <td>2007</td>\n",
       "    </tr>\n",
       "    <tr>\n",
       "      <th>1</th>\n",
       "      <td>Adelie</td>\n",
       "      <td>Torgersen</td>\n",
       "      <td>39.5</td>\n",
       "      <td>17.4</td>\n",
       "      <td>186.0</td>\n",
       "      <td>3800.0</td>\n",
       "      <td>female</td>\n",
       "      <td>2007</td>\n",
       "    </tr>\n",
       "    <tr>\n",
       "      <th>2</th>\n",
       "      <td>Adelie</td>\n",
       "      <td>Torgersen</td>\n",
       "      <td>40.3</td>\n",
       "      <td>18.0</td>\n",
       "      <td>195.0</td>\n",
       "      <td>3250.0</td>\n",
       "      <td>female</td>\n",
       "      <td>2007</td>\n",
       "    </tr>\n",
       "  </tbody>\n",
       "</table>\n",
       "</div>"
      ],
      "text/plain": [
       "  species     island  bill_length_mm  bill_depth_mm  flipper_length_mm  \\\n",
       "0  Adelie  Torgersen            39.1           18.7              181.0   \n",
       "1  Adelie  Torgersen            39.5           17.4              186.0   \n",
       "2  Adelie  Torgersen            40.3           18.0              195.0   \n",
       "\n",
       "   body_mass_g     sex  year  \n",
       "0       3750.0    male  2007  \n",
       "1       3800.0  female  2007  \n",
       "2       3250.0  female  2007  "
      ]
     },
     "execution_count": 3,
     "metadata": {},
     "output_type": "execute_result"
    }
   ],
   "source": [
    "df = load_penguins()\n",
    "df.head(3)"
   ]
  },
  {
   "cell_type": "code",
   "execution_count": 4,
   "id": "721db1c2-a3b7-4f62-904b-a14272282b01",
   "metadata": {
    "colab": {
     "base_uri": "https://localhost:8080/",
     "height": 424
    },
    "id": "721db1c2-a3b7-4f62-904b-a14272282b01",
    "outputId": "c60c1009-9a51-42b8-fda1-0395fda2774f",
    "tags": []
   },
   "outputs": [
    {
     "data": {
      "text/html": [
       "<div>\n",
       "<style scoped>\n",
       "    .dataframe tbody tr th:only-of-type {\n",
       "        vertical-align: middle;\n",
       "    }\n",
       "\n",
       "    .dataframe tbody tr th {\n",
       "        vertical-align: top;\n",
       "    }\n",
       "\n",
       "    .dataframe thead th {\n",
       "        text-align: right;\n",
       "    }\n",
       "</style>\n",
       "<table border=\"1\" class=\"dataframe\">\n",
       "  <thead>\n",
       "    <tr style=\"text-align: right;\">\n",
       "      <th></th>\n",
       "      <th>species</th>\n",
       "      <th>island</th>\n",
       "      <th>bill_length_mm</th>\n",
       "      <th>bill_depth_mm</th>\n",
       "      <th>flipper_length_mm</th>\n",
       "      <th>body_mass_g</th>\n",
       "      <th>sex</th>\n",
       "    </tr>\n",
       "  </thead>\n",
       "  <tbody>\n",
       "    <tr>\n",
       "      <th>0</th>\n",
       "      <td>Adelie</td>\n",
       "      <td>Torgersen</td>\n",
       "      <td>39.1</td>\n",
       "      <td>18.7</td>\n",
       "      <td>181.0</td>\n",
       "      <td>3750.0</td>\n",
       "      <td>male</td>\n",
       "    </tr>\n",
       "    <tr>\n",
       "      <th>1</th>\n",
       "      <td>Adelie</td>\n",
       "      <td>Torgersen</td>\n",
       "      <td>39.5</td>\n",
       "      <td>17.4</td>\n",
       "      <td>186.0</td>\n",
       "      <td>3800.0</td>\n",
       "      <td>female</td>\n",
       "    </tr>\n",
       "    <tr>\n",
       "      <th>2</th>\n",
       "      <td>Adelie</td>\n",
       "      <td>Torgersen</td>\n",
       "      <td>40.3</td>\n",
       "      <td>18.0</td>\n",
       "      <td>195.0</td>\n",
       "      <td>3250.0</td>\n",
       "      <td>female</td>\n",
       "    </tr>\n",
       "    <tr>\n",
       "      <th>4</th>\n",
       "      <td>Adelie</td>\n",
       "      <td>Torgersen</td>\n",
       "      <td>36.7</td>\n",
       "      <td>19.3</td>\n",
       "      <td>193.0</td>\n",
       "      <td>3450.0</td>\n",
       "      <td>female</td>\n",
       "    </tr>\n",
       "    <tr>\n",
       "      <th>5</th>\n",
       "      <td>Adelie</td>\n",
       "      <td>Torgersen</td>\n",
       "      <td>39.3</td>\n",
       "      <td>20.6</td>\n",
       "      <td>190.0</td>\n",
       "      <td>3650.0</td>\n",
       "      <td>male</td>\n",
       "    </tr>\n",
       "    <tr>\n",
       "      <th>...</th>\n",
       "      <td>...</td>\n",
       "      <td>...</td>\n",
       "      <td>...</td>\n",
       "      <td>...</td>\n",
       "      <td>...</td>\n",
       "      <td>...</td>\n",
       "      <td>...</td>\n",
       "    </tr>\n",
       "    <tr>\n",
       "      <th>339</th>\n",
       "      <td>Chinstrap</td>\n",
       "      <td>Dream</td>\n",
       "      <td>55.8</td>\n",
       "      <td>19.8</td>\n",
       "      <td>207.0</td>\n",
       "      <td>4000.0</td>\n",
       "      <td>male</td>\n",
       "    </tr>\n",
       "    <tr>\n",
       "      <th>340</th>\n",
       "      <td>Chinstrap</td>\n",
       "      <td>Dream</td>\n",
       "      <td>43.5</td>\n",
       "      <td>18.1</td>\n",
       "      <td>202.0</td>\n",
       "      <td>3400.0</td>\n",
       "      <td>female</td>\n",
       "    </tr>\n",
       "    <tr>\n",
       "      <th>341</th>\n",
       "      <td>Chinstrap</td>\n",
       "      <td>Dream</td>\n",
       "      <td>49.6</td>\n",
       "      <td>18.2</td>\n",
       "      <td>193.0</td>\n",
       "      <td>3775.0</td>\n",
       "      <td>male</td>\n",
       "    </tr>\n",
       "    <tr>\n",
       "      <th>342</th>\n",
       "      <td>Chinstrap</td>\n",
       "      <td>Dream</td>\n",
       "      <td>50.8</td>\n",
       "      <td>19.0</td>\n",
       "      <td>210.0</td>\n",
       "      <td>4100.0</td>\n",
       "      <td>male</td>\n",
       "    </tr>\n",
       "    <tr>\n",
       "      <th>343</th>\n",
       "      <td>Chinstrap</td>\n",
       "      <td>Dream</td>\n",
       "      <td>50.2</td>\n",
       "      <td>18.7</td>\n",
       "      <td>198.0</td>\n",
       "      <td>3775.0</td>\n",
       "      <td>female</td>\n",
       "    </tr>\n",
       "  </tbody>\n",
       "</table>\n",
       "<p>333 rows × 7 columns</p>\n",
       "</div>"
      ],
      "text/plain": [
       "       species     island  bill_length_mm  bill_depth_mm  flipper_length_mm  \\\n",
       "0       Adelie  Torgersen            39.1           18.7              181.0   \n",
       "1       Adelie  Torgersen            39.5           17.4              186.0   \n",
       "2       Adelie  Torgersen            40.3           18.0              195.0   \n",
       "4       Adelie  Torgersen            36.7           19.3              193.0   \n",
       "5       Adelie  Torgersen            39.3           20.6              190.0   \n",
       "..         ...        ...             ...            ...                ...   \n",
       "339  Chinstrap      Dream            55.8           19.8              207.0   \n",
       "340  Chinstrap      Dream            43.5           18.1              202.0   \n",
       "341  Chinstrap      Dream            49.6           18.2              193.0   \n",
       "342  Chinstrap      Dream            50.8           19.0              210.0   \n",
       "343  Chinstrap      Dream            50.2           18.7              198.0   \n",
       "\n",
       "     body_mass_g     sex  \n",
       "0         3750.0    male  \n",
       "1         3800.0  female  \n",
       "2         3250.0  female  \n",
       "4         3450.0  female  \n",
       "5         3650.0    male  \n",
       "..           ...     ...  \n",
       "339       4000.0    male  \n",
       "340       3400.0  female  \n",
       "341       3775.0    male  \n",
       "342       4100.0    male  \n",
       "343       3775.0  female  \n",
       "\n",
       "[333 rows x 7 columns]"
      ]
     },
     "execution_count": 4,
     "metadata": {},
     "output_type": "execute_result"
    }
   ],
   "source": [
    "df = df.drop(['year'], axis=1)\n",
    "df = df.dropna() # this drops all rows with a nan in it\n",
    "df"
   ]
  },
  {
   "cell_type": "markdown",
   "id": "ca808942-40e7-4fe3-a612-d428c7673429",
   "metadata": {},
   "source": [
    "## Let's scale the dataset:"
   ]
  },
  {
   "cell_type": "code",
   "execution_count": 5,
   "id": "KHhSZekiqhhZ",
   "metadata": {
    "id": "KHhSZekiqhhZ",
    "tags": []
   },
   "outputs": [],
   "source": [
    "from sklearn.preprocessing import StandardScaler\n",
    "scaler = StandardScaler()"
   ]
  },
  {
   "cell_type": "code",
   "execution_count": 6,
   "id": "B5xYNWUfrO6V",
   "metadata": {
    "colab": {
     "base_uri": "https://localhost:8080/"
    },
    "id": "B5xYNWUfrO6V",
    "outputId": "ce91800b-3086-4ff9-af88-70b44cdb7200",
    "tags": []
   },
   "outputs": [
    {
     "data": {
      "text/plain": [
       "['bill_length_mm', 'bill_depth_mm', 'flipper_length_mm', 'body_mass_g']"
      ]
     },
     "execution_count": 6,
     "metadata": {},
     "output_type": "execute_result"
    }
   ],
   "source": [
    "float_columns = df.select_dtypes(include=['float64', 'float32'])\n",
    "float_column_names = float_columns.columns.tolist()\n",
    "float_column_names"
   ]
  },
  {
   "cell_type": "code",
   "execution_count": 7,
   "id": "65Nas9Q8q5kk",
   "metadata": {
    "colab": {
     "base_uri": "https://localhost:8080/"
    },
    "id": "65Nas9Q8q5kk",
    "outputId": "238490f0-5c38-450a-f1be-d2d0eaa0114b",
    "tags": []
   },
   "outputs": [
    {
     "data": {
      "text/plain": [
       "(333, 4)"
      ]
     },
     "execution_count": 7,
     "metadata": {},
     "output_type": "execute_result"
    }
   ],
   "source": [
    "from sklearn.preprocessing import StandardScaler\n",
    "scaler = StandardScaler()\n",
    "\n",
    "std_scaled = scaler.fit_transform(float_columns, y=None)\n",
    "np.shape(std_scaled)"
   ]
  },
  {
   "cell_type": "markdown",
   "id": "d0158f4d-59d0-426f-81f2-556449ebc163",
   "metadata": {},
   "source": [
    "Everything above this is the ~same as notebook 2"
   ]
  },
  {
   "cell_type": "markdown",
   "id": "8192bb0e",
   "metadata": {},
   "source": [
    "## Supervised ML"
   ]
  },
  {
   "cell_type": "markdown",
   "id": "dad74d3f-f3b4-4aca-8273-997171cacccb",
   "metadata": {
    "tags": []
   },
   "source": [
    "We will cover two of these below, but scikit-learn can do all of these, with a nice overview [here](https://scikit-learn.org/stable/supervised_learning.html)."
   ]
  },
  {
   "cell_type": "markdown",
   "id": "CaLmD3hZuNds",
   "metadata": {
    "id": "CaLmD3hZuNds"
   },
   "source": [
    "## Splitting Data"
   ]
  },
  {
   "cell_type": "markdown",
   "id": "b9d5731d-b0fe-4ebc-b77e-7558ae9df6ad",
   "metadata": {},
   "source": [
    "Note: For this exercise, we will just have a testing and a training dataset, not a validation dataset. For the final runthrough on day 2, we will have a validation dataset. All input features will be floats. "
   ]
  },
  {
   "cell_type": "code",
   "execution_count": 8,
   "id": "Z7_L2RErrGu4",
   "metadata": {
    "id": "Z7_L2RErrGu4",
    "tags": []
   },
   "outputs": [],
   "source": [
    "from sklearn.model_selection import train_test_split"
   ]
  },
  {
   "cell_type": "markdown",
   "id": "507dadcb-8320-4336-b290-99b9b5f9d668",
   "metadata": {
    "tags": []
   },
   "source": [
    "#### Regression split"
   ]
  },
  {
   "cell_type": "markdown",
   "id": "53f677ab-72e9-4cb4-b4d1-2b8885e591be",
   "metadata": {},
   "source": [
    "Let's predict body mass from bill size and flipper size"
   ]
  },
  {
   "cell_type": "code",
   "execution_count": 9,
   "id": "3edac25d-22a9-4b01-9916-85a7ebf6e42d",
   "metadata": {
    "tags": []
   },
   "outputs": [],
   "source": [
    "X_train_reg, X_test_reg, y_train_reg, y_test_reg = train_test_split(std_scaled[:,0:3], std_scaled[:,3], test_size=0.33, random_state=42)"
   ]
  },
  {
   "cell_type": "markdown",
   "id": "d7f6f3fe-fabb-4572-a614-0f2ffddb80b0",
   "metadata": {},
   "source": [
    "#### Classification split"
   ]
  },
  {
   "cell_type": "markdown",
   "id": "b4e86081-3b8b-443c-b4e6-e786ecfae24d",
   "metadata": {
    "tags": []
   },
   "source": [
    "We will predict specie from all measurements"
   ]
  },
  {
   "cell_type": "code",
   "execution_count": 10,
   "id": "WzqZFAJpzjPE",
   "metadata": {
    "colab": {
     "base_uri": "https://localhost:8080/"
    },
    "id": "WzqZFAJpzjPE",
    "outputId": "d0ed678d-b925-4ee6-d13b-5b15fdeac155",
    "tags": []
   },
   "outputs": [],
   "source": [
    "X_train_clf, X_test_clf, y_train_clf, y_test_clf = train_test_split(std_scaled, df.species, test_size=0.33, random_state=42)"
   ]
  },
  {
   "cell_type": "markdown",
   "id": "54d4d98f-1203-4d2a-a020-72a07fccb0b2",
   "metadata": {},
   "source": [
    "# Non-Linear Models"
   ]
  },
  {
   "cell_type": "markdown",
   "id": "f297db9f-b828-462c-b03f-fad08bce575e",
   "metadata": {},
   "source": [
    "## K-Nearest Neighbors (KNN)"
   ]
  },
  {
   "cell_type": "markdown",
   "id": "6a450fc0-e7c3-44aa-93b7-88b4928965e0",
   "metadata": {},
   "source": [
    "K-Nearest Neighbors (KNN) is advantageous in supervised machine learning due to its simplicity and versatility. KNN's ability to adapt to different data distributions and handle multi-class problems makes it suitable for various scenarios. Its non-parametric nature eliminates the need for assumptions about data distribution, allowing it to capture complex decision boundaries. KNN's effectiveness, especially when combined with appropriate distance metrics and optimization techniques, makes it a valuable tool for supervised ML tasks. Some even call it a 'lazy learner' compared to more normal machine learning. "
   ]
  },
  {
   "cell_type": "markdown",
   "id": "e132d336",
   "metadata": {},
   "source": [
    "Great video [here](https://www.youtube.com/watch?v=HVXime0nQeI) by StatQuest"
   ]
  },
  {
   "cell_type": "markdown",
   "id": "104513d9-126a-4e7b-86d0-cd3d4a4bb9f3",
   "metadata": {
    "tags": []
   },
   "source": [
    "## Classification"
   ]
  },
  {
   "cell_type": "code",
   "execution_count": 11,
   "id": "d3a3f923-d09f-45cd-a7af-159babb42eb1",
   "metadata": {
    "tags": []
   },
   "outputs": [],
   "source": [
    "from sklearn.neighbors import KNeighborsClassifier"
   ]
  },
  {
   "cell_type": "code",
   "execution_count": 12,
   "id": "47dca607-6a74-4c7d-84d0-e421579ec90d",
   "metadata": {
    "tags": []
   },
   "outputs": [
    {
     "name": "stdout",
     "output_type": "stream",
     "text": [
      "Accuracy: 0.98\n",
      "Confusion Matrix:\n",
      "[[52  0  0]\n",
      " [ 2 23  0]\n",
      " [ 0  0 33]]\n",
      "Learned Classes: ['Adelie' 'Chinstrap' 'Gentoo']\n"
     ]
    }
   ],
   "source": [
    "# Create a KNeighborsClassifier model\n",
    "model = KNeighborsClassifier(n_neighbors=5)\n",
    "\n",
    "# Fit the model on the training data\n",
    "model.fit(X_train_clf, y_train_clf)\n",
    "\n",
    "# Make predictions on the test data\n",
    "y_pred_knn_clf = model.predict(X_test_clf)\n",
    "\n",
    "# Calculate the accuracy and confusion matrix to evaluate the model's performance\n",
    "accuracy = accuracy_score(y_test_clf, y_pred_knn_clf)\n",
    "conf_matrix = confusion_matrix(y_test_clf, y_pred_knn_clf)\n",
    "print(f\"Accuracy: {accuracy:.2f}\")\n",
    "print(\"Confusion Matrix:\")\n",
    "print(conf_matrix)\n",
    "\n",
    "# Print the learned classes for each label\n",
    "print(\"Learned Classes:\", model.classes_)"
   ]
  },
  {
   "cell_type": "markdown",
   "id": "2ff741be-a3e7-4716-94f9-1c80fcb0dda5",
   "metadata": {},
   "source": [
    "## Regression"
   ]
  },
  {
   "cell_type": "code",
   "execution_count": 13,
   "id": "70d203cf-c028-490f-9eae-d64187b5d4a5",
   "metadata": {
    "tags": []
   },
   "outputs": [],
   "source": [
    "# write your KNN regression code here!"
   ]
  },
  {
   "cell_type": "code",
   "execution_count": null,
   "id": "321a8dba",
   "metadata": {},
   "outputs": [],
   "source": []
  },
  {
   "cell_type": "markdown",
   "id": "2cba45a9-65c7-4823-ac12-164734d5599c",
   "metadata": {
    "tags": []
   },
   "source": [
    "# Decision Tree"
   ]
  },
  {
   "cell_type": "code",
   "execution_count": 14,
   "id": "5ff5801e",
   "metadata": {},
   "outputs": [
    {
     "name": "stdout",
     "output_type": "stream",
     "text": [
      "Accuracy: 0.945\n"
     ]
    }
   ],
   "source": [
    "# Create a Decision Tree classifier\n",
    "clf = DecisionTreeClassifier()\n",
    "\n",
    "# Fit the classifier on the training data\n",
    "clf.fit(X_train_clf, y_train_clf)\n",
    "\n",
    "# Make predictions on the test data\n",
    "y_pred = clf.predict(X_test_clf)\n",
    "\n",
    "# Calculate accuracy on the test set\n",
    "accuracy = accuracy_score(y_test_clf, y_pred)\n",
    "print(\"Accuracy:\", np.round(accuracy,3))"
   ]
  },
  {
   "cell_type": "code",
   "execution_count": 15,
   "id": "e4a1c3ae",
   "metadata": {},
   "outputs": [
    {
     "data": {
      "image/png": "[encoded data removed]",
      "text/plain": [
       "<Figure size 1200x800 with 1 Axes>"
      ]
     },
     "metadata": {},
     "output_type": "display_data"
    }
   ],
   "source": [
    "# Visualize the decision tree\n",
    "plt.figure(figsize=(12, 8))\n",
    "plot_tree(clf, filled=True, feature_names=float_column_names, class_names=list(y_train_clf.unique()))\n",
    "plt.show()"
   ]
  },
  {
   "cell_type": "markdown",
   "id": "48d95773",
   "metadata": {},
   "source": [
    "Wow! This a lot to unpack. Decision trees have a few parameters. Add them to the model above, and compare differences in accuracy and how the trees look:\n",
    "\n",
    "Docs are [here](https://scikit-learn.org/stable/modules/generated/sklearn.tree.DecisionTreeClassifier.html). I reccomend looking at max depth, and minimum sample split to start."
   ]
  },
  {
   "cell_type": "markdown",
   "id": "c7f1738b",
   "metadata": {},
   "source": [
    "## Tomorrow"
   ]
  },
  {
   "cell_type": "markdown",
   "id": "f8ec663e-0f1d-46a8-857a-6cde5cac6367",
   "metadata": {},
   "source": [
    "Tomorrow we will get to more tree based methods, which includes boosting and bagging."
   ]
  }
 ],
 "metadata": {
  "colab": {
   "provenance": []
  },
  "kernelspec": {
   "display_name": "py10-viz",
   "language": "python",
   "name": "python3"
  },
  "language_info": {
   "codemirror_mode": {
    "name": "ipython",
    "version": 3
   },
   "file_extension": ".py",
   "mimetype": "text/x-python",
   "name": "python",
   "nbconvert_exporter": "python",
   "pygments_lexer": "ipython3",
   "version": "3.10.12"
  }
 },
 "nbformat": 4,
 "nbformat_minor": 5
}
